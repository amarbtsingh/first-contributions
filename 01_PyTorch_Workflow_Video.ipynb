{
  "nbformat": 4,
  "nbformat_minor": 0,
  "metadata": {
    "colab": {
      "provenance": [],
      "gpuType": "T4",
      "authorship_tag": "ABX9TyNKaaSNr9ctOW0E8wKLbJvt",
      "include_colab_link": true
    },
    "kernelspec": {
      "name": "python3",
      "display_name": "Python 3"
    },
    "language_info": {
      "name": "python"
    },
    "accelerator": "GPU"
  },
  "cells": [
    {
      "cell_type": "markdown",
      "metadata": {
        "id": "view-in-github",
        "colab_type": "text"
      },
      "source": [
        "<a href=\"https://colab.research.google.com/github/amarbtsingh/first-contributions/blob/main/01_PyTorch_Workflow_Video.ipynb\" target=\"_parent\"><img src=\"https://colab.research.google.com/assets/colab-badge.svg\" alt=\"Open In Colab\"/></a>"
      ]
    },
    {
      "cell_type": "markdown",
      "source": [
        "## PyToch Workflow\n",
        "\n",
        "Let explore and example of Pytorch Workflow\n",
        "\n",
        "Resources\n",
        "* Ground Truth - https://github.com/mrdbourke/pytorch-deep-learning/blob/main/01_pytorch_workflow.ipynb\n",
        "* Book version of Notebook - https://www.learnpytorch.io/01_pytorch_workflow/\n",
        "* Ask a question - https://github.com/mrdbourke/pytorch-deep-learning/discussions"
      ],
      "metadata": {
        "id": "mKY_2VYzEX3e"
      }
    },
    {
      "cell_type": "code",
      "source": [
        "what_were_covering = {1: \"data (prepare and load)\",\n",
        "    2: \"build model\",\n",
        "    3: \"fitting the model to data (training)\",\n",
        "    4: \"making predictions and evaluating a model (inference)\",\n",
        "    5: \"saving and loading a model\",\n",
        "    6: \"putting it all together\"\n",
        "}\n",
        "\n",
        "what_were_covering"
      ],
      "metadata": {
        "colab": {
          "base_uri": "https://localhost:8080/"
        },
        "id": "DhqbSD2BKujm",
        "outputId": "7cc7dba6-4b3b-445b-fcc3-8e2ff7807dff"
      },
      "execution_count": 81,
      "outputs": [
        {
          "output_type": "execute_result",
          "data": {
            "text/plain": [
              "{1: 'data (prepare and load)',\n",
              " 2: 'build model',\n",
              " 3: 'fitting the model to data (training)',\n",
              " 4: 'making predictions and evaluating a model (inference)',\n",
              " 5: 'saving and loading a model',\n",
              " 6: 'putting it all together'}"
            ]
          },
          "metadata": {},
          "execution_count": 81
        }
      ]
    },
    {
      "cell_type": "code",
      "source": [
        "import torch\n",
        "from torch import nn # nn contains all of PyTorch's building blocks for creating a neural network model\n",
        "from matplotlib import pyplot as plt\n",
        "\n",
        "#Check pytorch version\n",
        "torch.__version__"
      ],
      "metadata": {
        "colab": {
          "base_uri": "https://localhost:8080/",
          "height": 35
        },
        "id": "SW7_fSSZuK-q",
        "outputId": "30f69fc5-11ee-4a94-cfc8-eed27f0b4da5"
      },
      "execution_count": 82,
      "outputs": [
        {
          "output_type": "execute_result",
          "data": {
            "text/plain": [
              "'2.1.0+cu121'"
            ],
            "application/vnd.google.colaboratory.intrinsic+json": {
              "type": "string"
            }
          },
          "metadata": {},
          "execution_count": 82
        }
      ]
    },
    {
      "cell_type": "markdown",
      "source": [
        "## 1. Data (Prepare and Load)\n",
        "\n",
        "Data can alsmost anything...\n",
        "\n",
        "* Excel spreadsheet\n",
        "* Image of any kind\n",
        "* Videos, Viso Streams, Camera feeds\n",
        "* Audio like - songs or pdocasts\n",
        "* DNA\n",
        "* Text etc.\n",
        "\n",
        "Machine learning is a game of two parts:\n",
        "1. Get the data into a numerical representation and\n",
        "2. Build a model to lear pattern in that numerical representation\n",
        "\n",
        "To showcase this lets create some *known* data using the linear regression formula.\n",
        "\n",
        "`We'll use linear regression to create the data with known parameters (things that can be learned by a model) and then we'll use PyTorch to see if we can build model to estimate these parameters using gradient descent.`\n",
        "\n",
        "We'll use the linear regression formula to create a straigt line with *known* **parameters**."
      ],
      "metadata": {
        "id": "ZdpVcDudx5fm"
      }
    },
    {
      "cell_type": "code",
      "source": [
        "# Create *known* parameter\n",
        "weight = 0.7  # b\n",
        "bias = 0.3    # a\n",
        "\n",
        "# Create\n",
        "start = 0\n",
        "end = 1\n",
        "step = 0.02\n",
        "\n",
        "X = torch.arange(start, end, step).unsqueeze(dim=1)\n",
        "y = weight * X + bias\n",
        "\n",
        "print(\"X - \", X, X.shape)\n",
        "print(\"y -\", y, y.shape)"
      ],
      "metadata": {
        "colab": {
          "base_uri": "https://localhost:8080/"
        },
        "id": "KNdtW4rQyqy6",
        "outputId": "8dfbdba9-2e9f-490b-e7e4-f7d7cf7a614d"
      },
      "execution_count": 83,
      "outputs": [
        {
          "output_type": "stream",
          "name": "stdout",
          "text": [
            "X -  tensor([[0.0000],\n",
            "        [0.0200],\n",
            "        [0.0400],\n",
            "        [0.0600],\n",
            "        [0.0800],\n",
            "        [0.1000],\n",
            "        [0.1200],\n",
            "        [0.1400],\n",
            "        [0.1600],\n",
            "        [0.1800],\n",
            "        [0.2000],\n",
            "        [0.2200],\n",
            "        [0.2400],\n",
            "        [0.2600],\n",
            "        [0.2800],\n",
            "        [0.3000],\n",
            "        [0.3200],\n",
            "        [0.3400],\n",
            "        [0.3600],\n",
            "        [0.3800],\n",
            "        [0.4000],\n",
            "        [0.4200],\n",
            "        [0.4400],\n",
            "        [0.4600],\n",
            "        [0.4800],\n",
            "        [0.5000],\n",
            "        [0.5200],\n",
            "        [0.5400],\n",
            "        [0.5600],\n",
            "        [0.5800],\n",
            "        [0.6000],\n",
            "        [0.6200],\n",
            "        [0.6400],\n",
            "        [0.6600],\n",
            "        [0.6800],\n",
            "        [0.7000],\n",
            "        [0.7200],\n",
            "        [0.7400],\n",
            "        [0.7600],\n",
            "        [0.7800],\n",
            "        [0.8000],\n",
            "        [0.8200],\n",
            "        [0.8400],\n",
            "        [0.8600],\n",
            "        [0.8800],\n",
            "        [0.9000],\n",
            "        [0.9200],\n",
            "        [0.9400],\n",
            "        [0.9600],\n",
            "        [0.9800]]) torch.Size([50, 1])\n",
            "y - tensor([[0.3000],\n",
            "        [0.3140],\n",
            "        [0.3280],\n",
            "        [0.3420],\n",
            "        [0.3560],\n",
            "        [0.3700],\n",
            "        [0.3840],\n",
            "        [0.3980],\n",
            "        [0.4120],\n",
            "        [0.4260],\n",
            "        [0.4400],\n",
            "        [0.4540],\n",
            "        [0.4680],\n",
            "        [0.4820],\n",
            "        [0.4960],\n",
            "        [0.5100],\n",
            "        [0.5240],\n",
            "        [0.5380],\n",
            "        [0.5520],\n",
            "        [0.5660],\n",
            "        [0.5800],\n",
            "        [0.5940],\n",
            "        [0.6080],\n",
            "        [0.6220],\n",
            "        [0.6360],\n",
            "        [0.6500],\n",
            "        [0.6640],\n",
            "        [0.6780],\n",
            "        [0.6920],\n",
            "        [0.7060],\n",
            "        [0.7200],\n",
            "        [0.7340],\n",
            "        [0.7480],\n",
            "        [0.7620],\n",
            "        [0.7760],\n",
            "        [0.7900],\n",
            "        [0.8040],\n",
            "        [0.8180],\n",
            "        [0.8320],\n",
            "        [0.8460],\n",
            "        [0.8600],\n",
            "        [0.8740],\n",
            "        [0.8880],\n",
            "        [0.9020],\n",
            "        [0.9160],\n",
            "        [0.9300],\n",
            "        [0.9440],\n",
            "        [0.9580],\n",
            "        [0.9720],\n",
            "        [0.9860]]) torch.Size([50, 1])\n"
          ]
        }
      ]
    },
    {
      "cell_type": "markdown",
      "source": [
        "# Splitting data into training and testing sets ( one of the most important concepts in machine learning in general)\n",
        "\n",
        "* Training set ( similar to Course Material for Student ) Always needed\n",
        "* Validation set (similar to Practice Set for Student) Most often needed\n",
        "* Test set (similar to Final exam for Student) Always needed\n",
        "\n",
        "Let's create training and test set 80 : 20 ratio"
      ],
      "metadata": {
        "id": "I4mQbNkXkMfW"
      }
    },
    {
      "cell_type": "code",
      "source": [
        "# Create training set - first 80% of X\n",
        "train_split = int(len(X) * 0.80)\n",
        "\n",
        "X_train, y_train = X[ :train_split], y[ :train_split]\n",
        "X_test, y_test = X[train_split: ], y[train_split: ]\n",
        "\n",
        "len(X_train), len(y_train), len(X_test), len(y_test)"
      ],
      "metadata": {
        "colab": {
          "base_uri": "https://localhost:8080/"
        },
        "id": "5by2CdyWyBpf",
        "outputId": "b877998e-de22-44b1-9a38-74f419d5bd3c"
      },
      "execution_count": 84,
      "outputs": [
        {
          "output_type": "execute_result",
          "data": {
            "text/plain": [
              "(40, 40, 10, 10)"
            ]
          },
          "metadata": {},
          "execution_count": 84
        }
      ]
    },
    {
      "cell_type": "markdown",
      "source": [
        "# Visualizing Data\n",
        "\n",
        "How might we better understand Data?\n",
        "\n",
        "This is where Data explorers motto comes in.\n",
        "\n",
        "**Visualize, Visualize, Visualize**"
      ],
      "metadata": {
        "id": "7qeU1kZj4KBF"
      }
    },
    {
      "cell_type": "code",
      "source": [
        "def plot_predictions(train_data = X_train,\n",
        "                     train_labels = y_train,\n",
        "                     test_data = X_test,\n",
        "                     test_labels = y_test,\n",
        "                     predictions = None):\n",
        "  \"\"\"\n",
        "  Plots training data, test data and compares predictions.\n",
        "  \"\"\"\n",
        "  plt.figure(figsize=(10, 7))\n",
        "\n",
        "  # Plot training data in Blue\n",
        "  plt.scatter(train_data, train_labels, c='b', s=4, label=\"Training  data\")\n",
        "\n",
        "  # Plot test data in Green\n",
        "  plt.scatter(test_data, test_labels, c=\"g\", s=4, label=\"Testing data\")\n",
        "\n",
        "  # Are there predictions?\n",
        "  if predictions is not None:\n",
        "    plt.scatter(test_data, predictions, c=\"r\", s=4, label=\"Predictions\")\n",
        "\n",
        "  # Show Legend\n",
        "  plt.legend(prop={\"size\": 14})\n",
        "\n",
        "plot_predictions()"
      ],
      "metadata": {
        "colab": {
          "base_uri": "https://localhost:8080/",
          "height": 599
        },
        "id": "D5ZJMwJruLwS",
        "outputId": "bc8f4945-9055-4a7e-ade6-6bc87783f228"
      },
      "execution_count": 85,
      "outputs": [
        {
          "output_type": "display_data",
          "data": {
            "text/plain": [
              "<Figure size 1000x700 with 1 Axes>"
            ],
            "image/png": "[encoded data removed]"
          },
          "metadata": {}
        }
      ]
    },
    {
      "cell_type": "markdown",
      "source": [
        "## 2. build model - Build our first PyTorch Model\n",
        "\n",
        "It's a new and exciting biggining!\n",
        "\n",
        "Because we will be building classes throughout the course...get acquinted with the OOP - https://realpython.com/python-classes/\n",
        "\n",
        "More about nn.Module --> https://pytorch.org/docs/stable/generated/torch.nn.Module.html\n",
        "\n",
        "What our model does:\n",
        "* Starts with random values for weight & bias\n",
        "* Looks at the data and adjusts the random values in such a way so as to get closer to the ideal value ( the weight and bias will be used to create the data )\n",
        "\n",
        "How does it do so?\n",
        "\n",
        "Through two main algorithms:\n",
        "1. Gradient Descent and -- https://www.youtube.com/watch?v=IHZwWFHWa-w\n",
        "2. Back Propagation   -- https://www.youtube.com/watch?v=Ilg3gGewQ5U"
      ],
      "metadata": {
        "id": "qi5NyGByBf42"
      }
    },
    {
      "cell_type": "code",
      "source": [
        "from torch import nn\n",
        "\n",
        "# Create Linear Regression model class\n",
        "class LinearRegressionModel(nn.Module): # <-- Almost everything in PyTorch inherits from nn.Module\n",
        "  def __init__(self):\n",
        "    super().__init__()\n",
        "    self.weights = nn.Parameter(torch.randn(1,\n",
        "                                            requires_grad= True,\n",
        "                                            dtype= torch.float))\n",
        "    self.bias = nn.Parameter(torch.randn(1,\n",
        "                                         requires_grad= True,\n",
        "                                         dtype= torch.float))\n",
        "\n",
        "  # Forward method to define the calculation in the Model\n",
        "  def forward(self, x: torch.Tensor) -> torch.Tensor: # \"x\" is the input dats\n",
        "    return self.weights * x + self.bias                # This is the linear regression formula"
      ],
      "metadata": {
        "id": "ECREgyZGuMBy"
      },
      "execution_count": 86,
      "outputs": []
    },
    {
      "cell_type": "markdown",
      "source": [
        "### PyTorch model building essentials\n",
        "\n",
        "* torch.nn - contains all the building blocks for computational graphs ( a neural network can be considered a computational graph)\n",
        "* torch.nn.Parameter - What parameters our model should try and learn, often a Pytorch layer from torch.nn will set these for us\n",
        "* torch.nn.Module - The base class for all neural network modules, if you subclass it - you should override `forward()`\n",
        "* torch.optim - This is where optimisers live, they halp gradient descent\n",
        "* def forward() - All nn.Module subclasses require you to override forward()\n",
        "\n",
        "Pytorch Cheat Sheet - https://pytorch.org/tutorials/beginner/ptcheat.html\n"
      ],
      "metadata": {
        "id": "UL0nItGO40cu"
      }
    },
    {
      "cell_type": "markdown",
      "source": [
        "## Checking the contents of PyTorch model\n",
        "\n",
        "We can checkout whats inside our model using `.parameters`"
      ],
      "metadata": {
        "id": "7BS3rJgE8OeL"
      }
    },
    {
      "cell_type": "code",
      "source": [
        "# Create random seed\n",
        "RAMDOM_SEED = 42\n",
        "\n",
        "torch.manual_seed(42)\n",
        "\n",
        "# Create an instance of model\n",
        "model_0 = LinearRegressionModel()\n",
        "list(model_0.parameters())"
      ],
      "metadata": {
        "colab": {
          "base_uri": "https://localhost:8080/"
        },
        "id": "2dq6FAEI8e5B",
        "outputId": "1c5cbcce-4fd7-4dd5-c90c-632510417dd6"
      },
      "execution_count": 87,
      "outputs": [
        {
          "output_type": "execute_result",
          "data": {
            "text/plain": [
              "[Parameter containing:\n",
              " tensor([0.3367], requires_grad=True),\n",
              " Parameter containing:\n",
              " tensor([0.1288], requires_grad=True)]"
            ]
          },
          "metadata": {},
          "execution_count": 87
        }
      ]
    },
    {
      "cell_type": "code",
      "source": [
        "# List named parameters\n",
        "model_0.state_dict()"
      ],
      "metadata": {
        "colab": {
          "base_uri": "https://localhost:8080/"
        },
        "id": "MnRccGt-LgLM",
        "outputId": "d0540bcc-001b-4c71-d169-a873a74ed826"
      },
      "execution_count": 88,
      "outputs": [
        {
          "output_type": "execute_result",
          "data": {
            "text/plain": [
              "OrderedDict([('weights', tensor([0.3367])), ('bias', tensor([0.1288]))])"
            ]
          },
          "metadata": {},
          "execution_count": 88
        }
      ]
    },
    {
      "cell_type": "markdown",
      "source": [
        "## Making predictions using `torch.inference_mode()'\n",
        "\n",
        "To check the model's predictive power, lets see how well it predicts `y_test` based on `x_test`\n",
        "\n",
        "When we pass data through our model it will run it through the `forward()` method."
      ],
      "metadata": {
        "id": "g5tVi4q1NRvF"
      }
    },
    {
      "cell_type": "code",
      "source": [
        "# Make predictions\n",
        "with torch.inference_mode():\n",
        "  y_preds = model_0(X_test) #\n",
        "\n",
        "y_preds, y_test"
      ],
      "metadata": {
        "colab": {
          "base_uri": "https://localhost:8080/"
        },
        "id": "URXYkCNKOOl5",
        "outputId": "6b809fbf-82bf-44f8-d149-f9c4c9e07d75"
      },
      "execution_count": 89,
      "outputs": [
        {
          "output_type": "execute_result",
          "data": {
            "text/plain": [
              "(tensor([[0.3982],\n",
              "         [0.4049],\n",
              "         [0.4116],\n",
              "         [0.4184],\n",
              "         [0.4251],\n",
              "         [0.4318],\n",
              "         [0.4386],\n",
              "         [0.4453],\n",
              "         [0.4520],\n",
              "         [0.4588]]),\n",
              " tensor([[0.8600],\n",
              "         [0.8740],\n",
              "         [0.8880],\n",
              "         [0.9020],\n",
              "         [0.9160],\n",
              "         [0.9300],\n",
              "         [0.9440],\n",
              "         [0.9580],\n",
              "         [0.9720],\n",
              "         [0.9860]]))"
            ]
          },
          "metadata": {},
          "execution_count": 89
        }
      ]
    },
    {
      "cell_type": "code",
      "source": [
        "plot_predictions(predictions=y_preds)"
      ],
      "metadata": {
        "colab": {
          "base_uri": "https://localhost:8080/",
          "height": 599
        },
        "id": "-DhWjDZyQmWv",
        "outputId": "5c8a5196-471d-41b9-9c78-ce7a87f72a5c"
      },
      "execution_count": 90,
      "outputs": [
        {
          "output_type": "display_data",
          "data": {
            "text/plain": [
              "<Figure size 1000x700 with 1 Axes>"
            ],
            "image/png": "[encoded data removed]"
          },
          "metadata": {}
        }
      ]
    },
    {
      "cell_type": "markdown",
      "source": [
        "See more on inference mode -> https://twitter.com/PyTorch/status/1437838231505096708?lang=en"
      ],
      "metadata": {
        "id": "-Ar4nX0VT0gv"
      }
    },
    {
      "cell_type": "markdown",
      "source": [
        "### 3. Training a model with PyTorch\n",
        "\n",
        "The whole idea of training or fitting is to move model from some *Unknown* parameters ( these may be random ) to some known parameters.\n",
        "\n",
        "Or in other words from a poor representation of data to a better representation of the data.\n",
        "\n",
        "One way to measure how poor or how wrong your model's predictions are is to use loss function. -> https://pytorch.org/docs/stable/nn.html#loss-functions\n",
        "\n",
        "Loss function also may be called Cost function or Criterion in different literature. We will refer to it as loss function.\n",
        "\n",
        "Things we need to train:\n",
        "\n",
        "* **Loss function:** A function to measure *How Wrong* your model's predictions are in comparision to the ideal output.\n",
        "\n",
        "* **Optimizer:** Take into account the loss of the model and adjusts the parameters of the model (e.g. weight and biase) https://pytorch.org/docs/stable/optim.html#module-torch.optim\n",
        "\n",
        "And specifically for Pytorch, we need\n",
        "* A training loop and\n",
        "* A testing loop"
      ],
      "metadata": {
        "id": "6dwyWMrFUZai"
      }
    },
    {
      "cell_type": "code",
      "source": [
        "list(model_0.parameters())"
      ],
      "metadata": {
        "colab": {
          "base_uri": "https://localhost:8080/"
        },
        "id": "VmcarsMguRWj",
        "outputId": "8786eee9-e558-4ea1-bdb2-c5f51d97805d"
      },
      "execution_count": 91,
      "outputs": [
        {
          "output_type": "execute_result",
          "data": {
            "text/plain": [
              "[Parameter containing:\n",
              " tensor([0.3367], requires_grad=True),\n",
              " Parameter containing:\n",
              " tensor([0.1288], requires_grad=True)]"
            ]
          },
          "metadata": {},
          "execution_count": 91
        }
      ]
    },
    {
      "cell_type": "code",
      "source": [
        "# Checkout out model's parameters ( weight and bias)\n",
        "model_0.state_dict()"
      ],
      "metadata": {
        "colab": {
          "base_uri": "https://localhost:8080/"
        },
        "id": "Mij5cdEDulox",
        "outputId": "03b44d9e-64b2-4cc3-fc93-272f43dca96a"
      },
      "execution_count": 92,
      "outputs": [
        {
          "output_type": "execute_result",
          "data": {
            "text/plain": [
              "OrderedDict([('weights', tensor([0.3367])), ('bias', tensor([0.1288]))])"
            ]
          },
          "metadata": {},
          "execution_count": 92
        }
      ]
    },
    {
      "cell_type": "code",
      "source": [
        "# Setup a loss function\n",
        "loss_fn = nn.L1Loss()\n",
        "\n",
        "loss_fn\n",
        "\n",
        "# Setup an optimizer function ( Stochastic Gradient Descent )\n",
        "# See https://pytorch.org/docs/stable/generated/torch.optim.SGD.html#sgd\n",
        "optimizer = torch.optim.SGD(params=model_0.parameters(), \\\n",
        "                            lr= 0.01) # lr = Learning Rate - one of the most important parameters we as AI professionals set"
      ],
      "metadata": {
        "id": "U6DYVknAElZb"
      },
      "execution_count": 93,
      "outputs": []
    },
    {
      "cell_type": "markdown",
      "source": [
        "### Building a training loop ( and a testing loop)  in PyTorch\n",
        "\n",
        "0. A Couple of steps we need\n",
        "\n",
        "1. Forward Pass ( also called forward propogation - this involves the data moving theough the `forward()` function to make predictions on data.\n",
        "2. Calculate the loss ( Compare the predicted value with ground truth labels )\n",
        "3. Optimizer zero grad\n",
        "4. Loss backward - Move backwards through the network to calculate the gradient of each of the parameters of our model w. r. t. to the loss (**Backpropogation**)\n",
        "5. Optimizer step - use the optimiser to adjust our models parameters to try and improve the loss (**Gradient Descent**)"
      ],
      "metadata": {
        "id": "cpf78gEAlcJL"
      }
    },
    {
      "cell_type": "code",
      "source": [
        "# An epoch is one loo[p through the data ....(This is a hyper-parameter)\n",
        "epochs = 200\n",
        "\n",
        "# Track different loss values\n",
        "epoch_count = []\n",
        "train_loss_values = []\n",
        "test_loss_values =[]\n",
        "\n",
        "torch.manual_seed(42)\n",
        "\n",
        "### Training ----\n",
        "# 0. Loop through the data\n",
        "for epoch in range(epochs):\n",
        "  # Set the model in training mode\n",
        "  model_0.train() # Train mode sets all the parameters in Pytorch that require gradients to `require gradients`\n",
        "\n",
        "  # 1. Forward Pass\n",
        "  y_pred = model_0(X_train)\n",
        "\n",
        "  # 2. Calculate loss\n",
        "  loss = loss_fn(y_pred, y_train)\n",
        "\n",
        "  # 3. Optimizer zero grad\n",
        "  optimizer.zero_grad()\n",
        "\n",
        "  # 4. Loss backward - Move backwards through the network to calculate the gradient of each of the parameters of our model w. r. t. to the loss (Backpropogation)\n",
        "  loss.backward()\n",
        "\n",
        "  # 5. Step the optimizer - use the optimiser to adjust our models parameters to try and improve the loss (Gradient Descent)\n",
        "  optimizer.step()\n",
        "\n",
        "  # Testing\n",
        "  model_0.eval() # Turns off gradient tracking\n",
        "  with torch.inference_mode():\n",
        "    # Forward pass\n",
        "    test_preds = model_0(X_test)\n",
        "\n",
        "    # Calculate the loss\n",
        "    test_loss = loss_fn(test_preds, y_test)\n",
        "\n",
        "    if(epoch % 5 == 0):\n",
        "      print(f\"Epoch: {epoch} Train Loss: {loss} Test Loss: {test_loss}\")\n",
        "      epoch_count.append(epoch)\n",
        "      train_loss_values.append(loss.numpy())\n",
        "      test_loss_values.append(test_loss.numpy())\n",
        "\n",
        "\n",
        "  #print(\"Loss:\", loss)\n",
        "  #print(\"Model State\", model_0.state_dict())\n"
      ],
      "metadata": {
        "colab": {
          "base_uri": "https://localhost:8080/"
        },
        "id": "cho27W-Io7SH",
        "outputId": "6987deaf-5c1e-4375-8e06-dc5e9d1e836a"
      },
      "execution_count": 94,
      "outputs": [
        {
          "output_type": "stream",
          "name": "stdout",
          "text": [
            "Epoch: 0 Train Loss: 0.31288138031959534 Test Loss: 0.48106518387794495\n",
            "Epoch: 5 Train Loss: 0.2552763521671295 Test Loss: 0.41371020674705505\n",
            "Epoch: 10 Train Loss: 0.1976713240146637 Test Loss: 0.3463551998138428\n",
            "Epoch: 15 Train Loss: 0.14006635546684265 Test Loss: 0.27900025248527527\n",
            "Epoch: 20 Train Loss: 0.08908725529909134 Test Loss: 0.21729660034179688\n",
            "Epoch: 25 Train Loss: 0.06395438313484192 Test Loss: 0.17353470623493195\n",
            "Epoch: 30 Train Loss: 0.053148526698350906 Test Loss: 0.14464017748832703\n",
            "Epoch: 35 Train Loss: 0.04819351062178612 Test Loss: 0.12584610283374786\n",
            "Epoch: 40 Train Loss: 0.04543796554207802 Test Loss: 0.11360953003168106\n",
            "Epoch: 45 Train Loss: 0.04343796148896217 Test Loss: 0.10470950603485107\n",
            "Epoch: 50 Train Loss: 0.04167863354086876 Test Loss: 0.09919948130846024\n",
            "Epoch: 55 Train Loss: 0.039933640509843826 Test Loss: 0.09368947893381119\n",
            "Epoch: 60 Train Loss: 0.03818932920694351 Test Loss: 0.08886633068323135\n",
            "Epoch: 65 Train Loss: 0.03647511452436447 Test Loss: 0.08473004400730133\n",
            "Epoch: 70 Train Loss: 0.03476089984178543 Test Loss: 0.0805937647819519\n",
            "Epoch: 75 Train Loss: 0.033043231815099716 Test Loss: 0.07645749300718307\n",
            "Epoch: 80 Train Loss: 0.03132382780313492 Test Loss: 0.07232122868299484\n",
            "Epoch: 85 Train Loss: 0.02960442565381527 Test Loss: 0.06818496435880661\n",
            "Epoch: 90 Train Loss: 0.02788739837706089 Test Loss: 0.06473556160926819\n",
            "Epoch: 95 Train Loss: 0.026173178106546402 Test Loss: 0.06059930846095085\n",
            "Epoch: 100 Train Loss: 0.024458957836031914 Test Loss: 0.05646304413676262\n",
            "Epoch: 105 Train Loss: 0.022739607840776443 Test Loss: 0.052326757460832596\n",
            "Epoch: 110 Train Loss: 0.021020207554101944 Test Loss: 0.04819049686193466\n",
            "Epoch: 115 Train Loss: 0.019300809130072594 Test Loss: 0.04405422881245613\n",
            "Epoch: 120 Train Loss: 0.01758546568453312 Test Loss: 0.04060482233762741\n",
            "Epoch: 125 Train Loss: 0.01587124727666378 Test Loss: 0.036468543112277985\n",
            "Epoch: 130 Train Loss: 0.014155393466353416 Test Loss: 0.03233227878808975\n",
            "Epoch: 135 Train Loss: 0.012435992248356342 Test Loss: 0.028196018189191818\n",
            "Epoch: 140 Train Loss: 0.010716589167714119 Test Loss: 0.024059748277068138\n",
            "Epoch: 145 Train Loss: 0.008997755125164986 Test Loss: 0.020610356703400612\n",
            "Epoch: 150 Train Loss: 0.0072835334576666355 Test Loss: 0.016474086791276932\n",
            "Epoch: 155 Train Loss: 0.005569315515458584 Test Loss: 0.012337815947830677\n",
            "Epoch: 160 Train Loss: 0.0038517764769494534 Test Loss: 0.008201557211577892\n",
            "Epoch: 165 Train Loss: 0.0021323717664927244 Test Loss: 0.004065275192260742\n",
            "Epoch: 170 Train Loss: 0.008932482451200485 Test Loss: 0.005023092031478882\n",
            "Epoch: 175 Train Loss: 0.0025885067880153656 Test Loss: 0.008447891101241112\n",
            "Epoch: 180 Train Loss: 0.008932482451200485 Test Loss: 0.005023092031478882\n",
            "Epoch: 185 Train Loss: 0.0025885067880153656 Test Loss: 0.008447891101241112\n",
            "Epoch: 190 Train Loss: 0.008932482451200485 Test Loss: 0.005023092031478882\n",
            "Epoch: 195 Train Loss: 0.0025885067880153656 Test Loss: 0.008447891101241112\n"
          ]
        }
      ]
    },
    {
      "cell_type": "code",
      "source": [
        "with torch.inference_mode():\n",
        "  y_new_preds = model_0(X_test)\n",
        "\n",
        "y_new_preds, y_test"
      ],
      "metadata": {
        "colab": {
          "base_uri": "https://localhost:8080/"
        },
        "id": "SPM4b2X6Dqf1",
        "outputId": "83cc1ff8-8373-4f88-f086-c852b6fad1a3"
      },
      "execution_count": 95,
      "outputs": [
        {
          "output_type": "execute_result",
          "data": {
            "text/plain": [
              "(tensor([[0.8685],\n",
              "         [0.8825],\n",
              "         [0.8965],\n",
              "         [0.9105],\n",
              "         [0.9245],\n",
              "         [0.9384],\n",
              "         [0.9524],\n",
              "         [0.9664],\n",
              "         [0.9804],\n",
              "         [0.9944]]),\n",
              " tensor([[0.8600],\n",
              "         [0.8740],\n",
              "         [0.8880],\n",
              "         [0.9020],\n",
              "         [0.9160],\n",
              "         [0.9300],\n",
              "         [0.9440],\n",
              "         [0.9580],\n",
              "         [0.9720],\n",
              "         [0.9860]]))"
            ]
          },
          "metadata": {},
          "execution_count": 95
        }
      ]
    },
    {
      "cell_type": "code",
      "source": [
        "plot_predictions(predictions=y_new_preds)"
      ],
      "metadata": {
        "colab": {
          "base_uri": "https://localhost:8080/",
          "height": 599
        },
        "id": "m8fJA1XxHwA9",
        "outputId": "518de47a-812f-4ee7-8491-f8c71651531b"
      },
      "execution_count": 96,
      "outputs": [
        {
          "output_type": "display_data",
          "data": {
            "text/plain": [
              "<Figure size 1000x700 with 1 Axes>"
            ],
            "image/png": "[encoded data removed]"
          },
          "metadata": {}
        }
      ]
    },
    {
      "cell_type": "code",
      "source": [
        "plot_predictions(predictions=y_new_preds)"
      ],
      "metadata": {
        "colab": {
          "base_uri": "https://localhost:8080/",
          "height": 599
        },
        "id": "sMuJj-ogPHLY",
        "outputId": "46b9324f-4e7f-47ed-a20e-f286b07cadaf"
      },
      "execution_count": 97,
      "outputs": [
        {
          "output_type": "display_data",
          "data": {
            "text/plain": [
              "<Figure size 1000x700 with 1 Axes>"
            ],
            "image/png": "[encoded data removed]"
          },
          "metadata": {}
        }
      ]
    },
    {
      "cell_type": "code",
      "source": [
        "# Plot the train vs test loss curve\n",
        "#(epoch_count, train_loss_values, test_loss_values)\n",
        "plt.plot(epoch_count, train_loss_values, label=\"Train loss\")\n",
        "plt.plot(epoch_count, test_loss_values, label=\"Test loss\")\n",
        "plt.title(\"Training and Test loss curves. \")\n",
        "plt.xlabel(\"Epoch count\")\n",
        "plt.ylabel(\"Loss\")\n",
        "plt.legend()"
      ],
      "metadata": {
        "colab": {
          "base_uri": "https://localhost:8080/",
          "height": 489
        },
        "id": "fW_QJ2WF-XLS",
        "outputId": "b645cb1d-0300-4abd-8cac-05c56de19518"
      },
      "execution_count": 98,
      "outputs": [
        {
          "output_type": "execute_result",
          "data": {
            "text/plain": [
              "<matplotlib.legend.Legend at 0x780074145b10>"
            ]
          },
          "metadata": {},
          "execution_count": 98
        },
        {
          "output_type": "display_data",
          "data": {
            "text/plain": [
              "<Figure size 640x480 with 1 Axes>"
            ],
            "image/png": "[encoded data removed]"
          },
          "metadata": {}
        }
      ]
    },
    {
      "cell_type": "code",
      "source": [
        "model_0.state_dict()"
      ],
      "metadata": {
        "colab": {
          "base_uri": "https://localhost:8080/"
        },
        "id": "3u4oYvzAP5MW",
        "outputId": "a01346af-1644-476e-cc2c-9af82ead5b02"
      },
      "execution_count": 99,
      "outputs": [
        {
          "output_type": "execute_result",
          "data": {
            "text/plain": [
              "OrderedDict([('weights', tensor([0.6990])), ('bias', tensor([0.3093]))])"
            ]
          },
          "metadata": {},
          "execution_count": 99
        }
      ]
    },
    {
      "cell_type": "code",
      "source": [
        "model_0"
      ],
      "metadata": {
        "colab": {
          "base_uri": "https://localhost:8080/"
        },
        "id": "yMdCzSc1Ro6g",
        "outputId": "7a0a35e4-d381-452b-ac8f-08e9fa5b6d6b"
      },
      "execution_count": 100,
      "outputs": [
        {
          "output_type": "execute_result",
          "data": {
            "text/plain": [
              "LinearRegressionModel()"
            ]
          },
          "metadata": {},
          "execution_count": 100
        }
      ]
    },
    {
      "cell_type": "markdown",
      "source": [
        "### Saving a model\n",
        "\n",
        "There are three main methods in which we can save models in PyTorch.\n",
        "1. `torch.save()`- allows us to save object in Python's pickle format.\n",
        "2. `torch.load()` - allows us to load a PyTorch object.\n",
        "3. `torch.nn.Module.saved_state_dict()` - This allows us to laod a saved dictionary of the model.\n",
        "\n",
        "Saving and loading model in PyTorch tutorial - https://pytorch.org/tutorials/beginner/saving_loading_models.html"
      ],
      "metadata": {
        "id": "PXVLnYxxRsSa"
      }
    },
    {
      "cell_type": "code",
      "source": [
        "# Saving the model to Google Colab\n",
        "from pathlib import Path\n",
        "\n",
        "# 1. Create a models directory\n",
        "MODEL_PATH = Path(\"models\")\n",
        "MODEL_PATH.mkdir(parents = True, exist_ok = True)\n",
        "\n",
        "# 2. Model save path\n",
        "MODEL_NAME = \"01_pytorch_workflow_model_0.pth\"\n",
        "MODEL_SAVE_PATH = MODEL_PATH / MODEL_NAME\n",
        "\n",
        "# 3. Save the model to model path\n",
        "print(f\"Saving the model to: {MODEL_SAVE_PATH}\")\n",
        "torch.save(obj= model_0.state_dict(),\n",
        "           f= MODEL_SAVE_PATH)"
      ],
      "metadata": {
        "colab": {
          "base_uri": "https://localhost:8080/"
        },
        "id": "OW7YipsvbPNj",
        "outputId": "e9c40453-45ff-42be-db71-954a491aee34"
      },
      "execution_count": 101,
      "outputs": [
        {
          "output_type": "stream",
          "name": "stdout",
          "text": [
            "Saving the model to: models/01_pytorch_workflow_model_0.pth\n"
          ]
        }
      ]
    },
    {
      "cell_type": "code",
      "source": [
        "# 4. Loading the model\n",
        "model_reloaded = LinearRegressionModel()\n",
        "state_dict = torch.load(f=MODEL_SAVE_PATH)\n",
        "model_reloaded.load_state_dict(state_dict= state_dict)"
      ],
      "metadata": {
        "colab": {
          "base_uri": "https://localhost:8080/"
        },
        "id": "1UxGlEIVfqsl",
        "outputId": "ec1e3dfd-8215-4599-d059-fc96788d01e4"
      },
      "execution_count": 102,
      "outputs": [
        {
          "output_type": "execute_result",
          "data": {
            "text/plain": [
              "<All keys matched successfully>"
            ]
          },
          "metadata": {},
          "execution_count": 102
        }
      ]
    },
    {
      "cell_type": "code",
      "source": [
        "model_reloaded.state_dict()"
      ],
      "metadata": {
        "colab": {
          "base_uri": "https://localhost:8080/"
        },
        "id": "gx_OPWiQiH_m",
        "outputId": "2747cdc4-08d4-4508-e188-d8579a96f726"
      },
      "execution_count": 103,
      "outputs": [
        {
          "output_type": "execute_result",
          "data": {
            "text/plain": [
              "OrderedDict([('weights', tensor([0.6990])), ('bias', tensor([0.3093]))])"
            ]
          },
          "metadata": {},
          "execution_count": 103
        }
      ]
    },
    {
      "cell_type": "code",
      "source": [
        "model_reloaded.eval()\n",
        "\n",
        "with torch.inference_mode():\n",
        "  y_reloaded_preds = model_reloaded(X_test)\n",
        "\n",
        "plot_predictions(predictions= y_reloaded_preds)"
      ],
      "metadata": {
        "colab": {
          "base_uri": "https://localhost:8080/",
          "height": 599
        },
        "id": "Ql9K5wjWj4Bn",
        "outputId": "e9e2d5f1-353e-4e76-8d92-49e5e9c184d1"
      },
      "execution_count": 104,
      "outputs": [
        {
          "output_type": "display_data",
          "data": {
            "text/plain": [
              "<Figure size 1000x700 with 1 Axes>"
            ],
            "image/png": "[encoded data removed]"
          },
          "metadata": {}
        }
      ]
    },
    {
      "cell_type": "code",
      "source": [
        "# Save the whole model\n",
        "MODEL_NEW_NAME = \"01_pytorch_workflow_model_0.pth\"\n",
        "MODEL_NEW_PATH = MODEL_PATH / MODEL_NEW_NAME\n",
        "\n",
        "torch.save(model_0,\n",
        "           f= MODEL_NEW_PATH)"
      ],
      "metadata": {
        "id": "hxmWo_h86eNM"
      },
      "execution_count": 105,
      "outputs": []
    },
    {
      "cell_type": "code",
      "source": [
        "# Load a new model from the saved model\n",
        "model_0_whole = torch.load(MODEL_NEW_PATH)\n",
        "\n",
        "model_0_whole.eval()\n",
        "with torch.inference_mode():\n",
        "  y_latest_preds = model_0_whole(X_test)\n",
        "\n",
        "plot_predictions(predictions= y_latest_preds)"
      ],
      "metadata": {
        "colab": {
          "base_uri": "https://localhost:8080/",
          "height": 599
        },
        "id": "E3_RDZek6TVI",
        "outputId": "0ea39035-a08d-4031-9f9d-e807aaca2647"
      },
      "execution_count": 106,
      "outputs": [
        {
          "output_type": "display_data",
          "data": {
            "text/plain": [
              "<Figure size 1000x700 with 1 Axes>"
            ],
            "image/png": "[encoded data removed]"
          },
          "metadata": {}
        }
      ]
    },
    {
      "cell_type": "markdown",
      "source": [
        "### 6. Putting it all together\n",
        "\n",
        "Let's go through all the abobe steps in one go, at one place"
      ],
      "metadata": {
        "id": "xP6iKC_oaGW2"
      }
    },
    {
      "cell_type": "code",
      "source": [
        "# Import\n",
        "import torch\n",
        "from torch import nn\n",
        "import matplotlib.pyplot as plt\n",
        "\n",
        "# Check torch version\n",
        "torch.__version__"
      ],
      "metadata": {
        "colab": {
          "base_uri": "https://localhost:8080/",
          "height": 35
        },
        "id": "2w1h5LtJa_r6",
        "outputId": "10c51387-5911-456b-dd83-0ae7b4288ce2"
      },
      "execution_count": 107,
      "outputs": [
        {
          "output_type": "execute_result",
          "data": {
            "text/plain": [
              "'2.1.0+cu121'"
            ],
            "application/vnd.google.colaboratory.intrinsic+json": {
              "type": "string"
            }
          },
          "metadata": {},
          "execution_count": 107
        }
      ]
    },
    {
      "cell_type": "markdown",
      "source": [
        "Create device agnostic code.\n",
        "\n",
        "This means if our device has got a GPU, the code will run using the GPU (for potentially faster computing)\n",
        "\n",
        "If not GPU is availbale then code will run on CPU."
      ],
      "metadata": {
        "id": "1j6XQTIKb4pA"
      }
    },
    {
      "cell_type": "code",
      "source": [
        "# Check for availability of GPU and set up device agnostic code\n",
        "device = \"cuda\" if torch.cuda.is_available() else \"cpu\"\n",
        "print(f\"Using device: {device}\")"
      ],
      "metadata": {
        "colab": {
          "base_uri": "https://localhost:8080/"
        },
        "id": "jckXLrJvccca",
        "outputId": "e0798ce1-9ea8-46e9-9c32-9c6be2f37bd1"
      },
      "execution_count": 108,
      "outputs": [
        {
          "output_type": "stream",
          "name": "stdout",
          "text": [
            "Using device: cuda\n"
          ]
        }
      ]
    },
    {
      "cell_type": "code",
      "source": [
        "!nvidia-smi"
      ],
      "metadata": {
        "colab": {
          "base_uri": "https://localhost:8080/"
        },
        "id": "G_9sJQynd0LI",
        "outputId": "1d3f88bf-a513-4f89-fe36-0340eae78643"
      },
      "execution_count": 109,
      "outputs": [
        {
          "output_type": "stream",
          "name": "stdout",
          "text": [
            "Tue Jan 23 09:19:45 2024       \n",
            "+---------------------------------------------------------------------------------------+\n",
            "| NVIDIA-SMI 535.104.05             Driver Version: 535.104.05   CUDA Version: 12.2     |\n",
            "|-----------------------------------------+----------------------+----------------------+\n",
            "| GPU  Name                 Persistence-M | Bus-Id        Disp.A | Volatile Uncorr. ECC |\n",
            "| Fan  Temp   Perf          Pwr:Usage/Cap |         Memory-Usage | GPU-Util  Compute M. |\n",
            "|                                         |                      |               MIG M. |\n",
            "|=========================================+======================+======================|\n",
            "|   0  Tesla T4                       Off | 00000000:00:04.0 Off |                    0 |\n",
            "| N/A   68C    P0              31W /  70W |    159MiB / 15360MiB |      0%      Default |\n",
            "|                                         |                      |                  N/A |\n",
            "+-----------------------------------------+----------------------+----------------------+\n",
            "                                                                                         \n",
            "+---------------------------------------------------------------------------------------+\n",
            "| Processes:                                                                            |\n",
            "|  GPU   GI   CI        PID   Type   Process name                            GPU Memory |\n",
            "|        ID   ID                                                             Usage      |\n",
            "|=======================================================================================|\n",
            "+---------------------------------------------------------------------------------------+\n"
          ]
        }
      ]
    },
    {
      "cell_type": "markdown",
      "source": [
        "6.1 - Data"
      ],
      "metadata": {
        "id": "vO7TwxDgab1O"
      }
    },
    {
      "cell_type": "code",
      "source": [
        "# Create some data using the linear regression formula of y = weight*X + bias\n",
        "weight = 0.7\n",
        "bias = 0.3\n",
        "\n",
        "# Start, end , step\n",
        "start = 0\n",
        "end = 1\n",
        "step = 0.02\n",
        "\n",
        "# Create input data\n",
        "X = torch.arange(start= start,\n",
        "                 end= end,\n",
        "                 step= step,\n",
        "                 device= device).unsqueeze(dim= 1)\n",
        "\n",
        "# Create y\n",
        "y = weight*X + bias\n",
        "\n",
        "y, y.shape"
      ],
      "metadata": {
        "id": "AwPU_cmZagMr",
        "colab": {
          "base_uri": "https://localhost:8080/"
        },
        "outputId": "cc9f728a-e44f-48d4-88c5-8d9840da11c0"
      },
      "execution_count": 110,
      "outputs": [
        {
          "output_type": "execute_result",
          "data": {
            "text/plain": [
              "(tensor([[0.3000],\n",
              "         [0.3140],\n",
              "         [0.3280],\n",
              "         [0.3420],\n",
              "         [0.3560],\n",
              "         [0.3700],\n",
              "         [0.3840],\n",
              "         [0.3980],\n",
              "         [0.4120],\n",
              "         [0.4260],\n",
              "         [0.4400],\n",
              "         [0.4540],\n",
              "         [0.4680],\n",
              "         [0.4820],\n",
              "         [0.4960],\n",
              "         [0.5100],\n",
              "         [0.5240],\n",
              "         [0.5380],\n",
              "         [0.5520],\n",
              "         [0.5660],\n",
              "         [0.5800],\n",
              "         [0.5940],\n",
              "         [0.6080],\n",
              "         [0.6220],\n",
              "         [0.6360],\n",
              "         [0.6500],\n",
              "         [0.6640],\n",
              "         [0.6780],\n",
              "         [0.6920],\n",
              "         [0.7060],\n",
              "         [0.7200],\n",
              "         [0.7340],\n",
              "         [0.7480],\n",
              "         [0.7620],\n",
              "         [0.7760],\n",
              "         [0.7900],\n",
              "         [0.8040],\n",
              "         [0.8180],\n",
              "         [0.8320],\n",
              "         [0.8460],\n",
              "         [0.8600],\n",
              "         [0.8740],\n",
              "         [0.8880],\n",
              "         [0.9020],\n",
              "         [0.9160],\n",
              "         [0.9300],\n",
              "         [0.9440],\n",
              "         [0.9580],\n",
              "         [0.9720],\n",
              "         [0.9860]], device='cuda:0'),\n",
              " torch.Size([50, 1]))"
            ]
          },
          "metadata": {},
          "execution_count": 110
        }
      ]
    },
    {
      "cell_type": "code",
      "source": [
        "# Split data into train and test\n",
        "train_size = int(0.8 * len(X))\n",
        "\n",
        "\n",
        "X_train, X_test = X[ : train_size], X[train_size : ]\n",
        "y_train, y_test = y[ : train_size], y[train_size : ]\n",
        "\n",
        "len(X_train), len(X_test)"
      ],
      "metadata": {
        "id": "H4Y6MX24vAfJ",
        "colab": {
          "base_uri": "https://localhost:8080/"
        },
        "outputId": "d4475a47-6d1b-4572-ef21-61bccd0077dc"
      },
      "execution_count": 111,
      "outputs": [
        {
          "output_type": "execute_result",
          "data": {
            "text/plain": [
              "(40, 10)"
            ]
          },
          "metadata": {},
          "execution_count": 111
        }
      ]
    },
    {
      "cell_type": "code",
      "source": [
        "# Plot the data\n",
        "plot_predictions(X_train.cpu().numpy(), y_train.cpu().numpy(), X_test.cpu().numpy(), y_test.cpu().numpy())\n"
      ],
      "metadata": {
        "colab": {
          "base_uri": "https://localhost:8080/",
          "height": 599
        },
        "id": "izLdpPPgbxBn",
        "outputId": "b73722f9-89c1-4689-c6ce-387e9b0e8e16"
      },
      "execution_count": 112,
      "outputs": [
        {
          "output_type": "display_data",
          "data": {
            "text/plain": [
              "<Figure size 1000x700 with 1 Axes>"
            ],
            "image/png": "[encoded data removed]"
          },
          "metadata": {}
        }
      ]
    },
    {
      "cell_type": "markdown",
      "source": [
        "# 6.2 Building a Pytorch Model"
      ],
      "metadata": {
        "id": "D8BGT-sUqwFQ"
      }
    },
    {
      "cell_type": "code",
      "source": [
        "# Create a LinearRegressionModel\n",
        "\n",
        "from torch import nn\n",
        "\n",
        "class LinearRegressionModel_New(nn.Module):\n",
        "  def __init__(self):\n",
        "    super().__init__()\n",
        "    #self.weight = nn.Parameter(torch.randn(1,\n",
        "    #                                       requires_grad= True,\n",
        "    #                                       dtype= float))\n",
        "    #self.bias = nn.Parameter(torch.randn(1,\n",
        "    #                                     requires_grad= True,\n",
        "    #                                     dtype= float))\n",
        "\n",
        "    # Pararameters using nn.Linear() for creating model parameters / also called linear layer, linear transform, dense layer, fully connected, probing\n",
        "    self.linear_layer = nn.Linear(in_features= 1,\n",
        "                            out_features= 1)\n",
        "\n",
        "  def forward(self, x: torch.Tensor) -> torch.Tensor: # x is the input tensor\n",
        "    #return self.weight*x + bias # returns the predicted value by applying regression\n",
        "    return self.linear_layer(x)\n"
      ],
      "metadata": {
        "id": "W6jlTNtAq1AS"
      },
      "execution_count": 113,
      "outputs": []
    },
    {
      "cell_type": "code",
      "source": [
        "X_train[:5], y_train[:5]"
      ],
      "metadata": {
        "colab": {
          "base_uri": "https://localhost:8080/"
        },
        "id": "p4NbvrKIrZtr",
        "outputId": "d52db746-655c-44e7-c031-a5c17cf8eb41"
      },
      "execution_count": 114,
      "outputs": [
        {
          "output_type": "execute_result",
          "data": {
            "text/plain": [
              "(tensor([[0.0000],\n",
              "         [0.0200],\n",
              "         [0.0400],\n",
              "         [0.0600],\n",
              "         [0.0800]], device='cuda:0'),\n",
              " tensor([[0.3000],\n",
              "         [0.3140],\n",
              "         [0.3280],\n",
              "         [0.3420],\n",
              "         [0.3560]], device='cuda:0'))"
            ]
          },
          "metadata": {},
          "execution_count": 114
        }
      ]
    },
    {
      "cell_type": "code",
      "source": [
        "# Set Random Seed\n",
        "RANDOM_SEED = 42\n",
        "torch.manual_seed(RANDOM_SEED)\n",
        "\n",
        "# Create a model object\n",
        "new_model_0 = LinearRegressionModel_New().to(device)\n",
        "print(list(new_model_0.parameters()))\n",
        "print(device)\n",
        "\n",
        "#Using the test input data  make predictions\n",
        "with torch.inference_mode():\n",
        "  X_test = X_test.to(device)\n",
        "  print(X_test.device)\n",
        "  y_predicted = new_model_0(X_test)\n",
        "\n",
        "plot_predictions(predictions= y_predicted.cpu())\n",
        "\n",
        "y_predicted, y_test"
      ],
      "metadata": {
        "colab": {
          "base_uri": "https://localhost:8080/",
          "height": 1000
        },
        "id": "Ci_sgrb5t703",
        "outputId": "b7c79375-2955-4cd3-c655-655c3bf14b75"
      },
      "execution_count": 115,
      "outputs": [
        {
          "output_type": "stream",
          "name": "stdout",
          "text": [
            "[Parameter containing:\n",
            "tensor([[0.7645]], device='cuda:0', requires_grad=True), Parameter containing:\n",
            "tensor([0.8300], device='cuda:0', requires_grad=True)]\n",
            "cuda\n",
            "cuda:0\n"
          ]
        },
        {
          "output_type": "execute_result",
          "data": {
            "text/plain": [
              "(tensor([[1.4416],\n",
              "         [1.4569],\n",
              "         [1.4722],\n",
              "         [1.4875],\n",
              "         [1.5028],\n",
              "         [1.5181],\n",
              "         [1.5334],\n",
              "         [1.5487],\n",
              "         [1.5640],\n",
              "         [1.5793]], device='cuda:0'),\n",
              " tensor([[0.8600],\n",
              "         [0.8740],\n",
              "         [0.8880],\n",
              "         [0.9020],\n",
              "         [0.9160],\n",
              "         [0.9300],\n",
              "         [0.9440],\n",
              "         [0.9580],\n",
              "         [0.9720],\n",
              "         [0.9860]], device='cuda:0'))"
            ]
          },
          "metadata": {},
          "execution_count": 115
        },
        {
          "output_type": "display_data",
          "data": {
            "text/plain": [
              "<Figure size 1000x700 with 1 Axes>"
            ],
            "image/png": "[encoded data removed]"
          },
          "metadata": {}
        }
      ]
    },
    {
      "cell_type": "code",
      "source": [
        "new_model_0, new_model_0.state_dict()"
      ],
      "metadata": {
        "colab": {
          "base_uri": "https://localhost:8080/"
        },
        "id": "heAywFnKNrnW",
        "outputId": "02d74bdb-361a-4b44-bb06-1a79f8957b5d"
      },
      "execution_count": 116,
      "outputs": [
        {
          "output_type": "execute_result",
          "data": {
            "text/plain": [
              "(LinearRegressionModel_New(\n",
              "   (linear_layer): Linear(in_features=1, out_features=1, bias=True)\n",
              " ),\n",
              " OrderedDict([('linear_layer.weight', tensor([[0.7645]], device='cuda:0')),\n",
              "              ('linear_layer.bias', tensor([0.8300], device='cuda:0'))]))"
            ]
          },
          "metadata": {},
          "execution_count": 116
        }
      ]
    },
    {
      "cell_type": "code",
      "source": [
        "# Check the current device of the model\n",
        "next(new_model_0.parameters()).device\n",
        "new_model_0.state_dict()"
      ],
      "metadata": {
        "colab": {
          "base_uri": "https://localhost:8080/"
        },
        "id": "RsCGxRwgoUAN",
        "outputId": "2ee81f83-9f04-4bfc-d2d6-877cb2e58b53"
      },
      "execution_count": 117,
      "outputs": [
        {
          "output_type": "execute_result",
          "data": {
            "text/plain": [
              "OrderedDict([('linear_layer.weight', tensor([[0.7645]], device='cuda:0')),\n",
              "             ('linear_layer.bias', tensor([0.8300], device='cuda:0'))])"
            ]
          },
          "metadata": {},
          "execution_count": 117
        }
      ]
    },
    {
      "cell_type": "markdown",
      "source": [
        "## 6.3 Training\n",
        "\n",
        "For training we require\n",
        "* Loss function\n",
        "* Optimiser\n",
        "* Training loop\n",
        "* Testing loop"
      ],
      "metadata": {
        "id": "0N1whIANt8FW"
      }
    },
    {
      "cell_type": "code",
      "source": [
        "# Setup loss function\n",
        "loss_fn_new = nn.L1Loss() # same as MAE - Mean Absolute Loss\n",
        "\n",
        "# Setup optimizer function\n",
        "optimizer_new = torch.optim.SGD(params= new_model_0.parameters(), lr= 0.01)"
      ],
      "metadata": {
        "id": "Xhuzu8MGusOR"
      },
      "execution_count": 118,
      "outputs": []
    },
    {
      "cell_type": "code",
      "source": [
        "# Write training loop\n",
        "RANDOM_SEED = 42\n",
        "torch.manual_seed(RANDOM_SEED)\n",
        "\n",
        "# Put data on the target device\n",
        "#X_train, X_test = X_train.to(device), X_test.to(device)\n",
        "#y_train, y_test = y_train.to(device), y_test.to(device)\n",
        "\n",
        "epochs = 500\n",
        "\n",
        "for epoch in range(epochs):\n",
        "  new_model_0.train()\n",
        "\n",
        "  # 1. Do the forard pass\n",
        "  y_preds_new = new_model_0(X_train)\n",
        "\n",
        "  # 2. Calculate the loss\n",
        "  new_loss = loss_fn_new(y_preds_new, y_train)\n",
        "\n",
        "  # 3. Optimizer zero Grad\n",
        "  optimizer_new.zero_grad # Resets the gradients all the optimised tensors, prepares the model for the next epoch run\n",
        "\n",
        "  # 4. Perform backword propogation\n",
        "  new_loss.backward()\n",
        "\n",
        "  # 5. Optimiser step\n",
        "  optimizer_new.step()\n",
        "\n",
        "  ## Testing\n",
        "  new_model_0.eval()\n",
        "  with torch.inference_mode():\n",
        "    test_preds_new = new_model_0(X_test)\n",
        "    test_loss_new = loss_fn_new(test_preds_new, y_test)\n",
        "\n",
        "  # Print to see progress\n",
        "  if epoch % 10 == 0:\n",
        "    print(f\"Epoch: {epoch} | Loss: {new_loss} | Test Loss {test_loss_new} \")"
      ],
      "metadata": {
        "colab": {
          "base_uri": "https://localhost:8080/"
        },
        "id": "YKIYNnXU52ae",
        "outputId": "c34f6c27-f9db-482e-fb34-88f7a93831dd"
      },
      "execution_count": 119,
      "outputs": [
        {
          "output_type": "stream",
          "name": "stdout",
          "text": [
            "Epoch: 0 | Loss: 0.5551779866218567 | Test Loss 0.5739762187004089 \n",
            "Epoch: 10 | Loss: 0.07653241604566574 | Test Loss 0.26966753602027893 \n",
            "Epoch: 20 | Loss: 0.5755314826965332 | Test Loss 0.7160065174102783 \n",
            "Epoch: 30 | Loss: 0.07554610818624496 | Test Loss 0.15370561182498932 \n",
            "Epoch: 40 | Loss: 0.5932031273841858 | Test Loss 0.6298026442527771 \n",
            "Epoch: 50 | Loss: 0.0412398986518383 | Test Loss 0.21425841748714447 \n",
            "Epoch: 60 | Loss: 0.5604729056358337 | Test Loss 0.6811314821243286 \n",
            "Epoch: 70 | Loss: 0.07239407300949097 | Test Loss 0.17215359210968018 \n",
            "Epoch: 80 | Loss: 0.5900511145591736 | Test Loss 0.6482505202293396 \n",
            "Epoch: 90 | Loss: 0.044391930103302 | Test Loss 0.1958104372024536 \n",
            "Epoch: 100 | Loss: 0.5636249780654907 | Test Loss 0.6626834273338318 \n",
            "Epoch: 110 | Loss: 0.06924203783273697 | Test Loss 0.19060154259204865 \n",
            "Epoch: 120 | Loss: 0.5868990421295166 | Test Loss 0.6666985154151917 \n",
            "Epoch: 130 | Loss: 0.0475439690053463 | Test Loss 0.17736245691776276 \n",
            "Epoch: 140 | Loss: 0.5667769908905029 | Test Loss 0.6442355513572693 \n",
            "Epoch: 150 | Loss: 0.06609002500772476 | Test Loss 0.20904958248138428 \n",
            "Epoch: 160 | Loss: 0.5837470889091492 | Test Loss 0.6851465702056885 \n",
            "Epoch: 170 | Loss: 0.0506959930062294 | Test Loss 0.1589144468307495 \n",
            "Epoch: 180 | Loss: 0.5699290633201599 | Test Loss 0.6257874369621277 \n",
            "Epoch: 190 | Loss: 0.06293798238039017 | Test Loss 0.22749757766723633 \n",
            "Epoch: 200 | Loss: 0.5805949568748474 | Test Loss 0.7035945653915405 \n",
            "Epoch: 210 | Loss: 0.053848039358854294 | Test Loss 0.14046645164489746 \n",
            "Epoch: 220 | Loss: 0.5730810165405273 | Test Loss 0.6073395013809204 \n",
            "Epoch: 230 | Loss: 0.05978595092892647 | Test Loss 0.24594557285308838 \n",
            "Epoch: 240 | Loss: 0.5774429440498352 | Test Loss 0.7220425605773926 \n",
            "Epoch: 250 | Loss: 0.057000018656253815 | Test Loss 0.12201838940382004 \n",
            "Epoch: 260 | Loss: 0.5762330293655396 | Test Loss 0.5888914465904236 \n",
            "Epoch: 270 | Loss: 0.05769972875714302 | Test Loss 0.266446977853775 \n",
            "Epoch: 280 | Loss: 0.5945249795913696 | Test Loss 0.763077974319458 \n",
            "Epoch: 290 | Loss: 0.034282486885786057 | Test Loss 0.0714985728263855 \n",
            "Epoch: 300 | Loss: 0.6064281463623047 | Test Loss 0.6283326148986816 \n",
            "Epoch: 310 | Loss: 0.04198148846626282 | Test Loss 0.15859836339950562 \n",
            "Epoch: 320 | Loss: 0.6136438846588135 | Test Loss 0.7808043360710144 \n",
            "Epoch: 330 | Loss: 0.11625986546278 | Test Loss 0.055910348892211914 \n",
            "Epoch: 340 | Loss: 0.6122100353240967 | Test Loss 0.6934746503829956 \n",
            "Epoch: 350 | Loss: 0.20145507156848907 | Test Loss 0.09575965255498886 \n",
            "Epoch: 360 | Loss: 0.531887948513031 | Test Loss 0.6366653442382812 \n",
            "Epoch: 370 | Loss: 0.13617287576198578 | Test Loss 0.021990353241562843 \n",
            "Epoch: 380 | Loss: 0.5821301341056824 | Test Loss 0.727394700050354 \n",
            "Epoch: 390 | Loss: 0.17137514054775238 | Test Loss 0.12967966496944427 \n",
            "Epoch: 400 | Loss: 0.5619678497314453 | Test Loss 0.6027453541755676 \n",
            "Epoch: 410 | Loss: 0.16625277698040009 | Test Loss 0.012252586893737316 \n",
            "Epoch: 420 | Loss: 0.580705463886261 | Test Loss 0.7944968342781067 \n",
            "Epoch: 430 | Loss: 0.20576952397823334 | Test Loss 0.23365092277526855 \n",
            "Epoch: 440 | Loss: 0.5808831453323364 | Test Loss 0.5868798494338989 \n",
            "Epoch: 450 | Loss: 0.26076003909111023 | Test Loss 0.0741967186331749 \n",
            "Epoch: 460 | Loss: 0.562907338142395 | Test Loss 0.8025522232055664 \n",
            "Epoch: 470 | Loss: 0.3085564076900482 | Test Loss 0.36304131150245667 \n",
            "Epoch: 480 | Loss: 0.546835720539093 | Test Loss 0.5863000750541687 \n",
            "Epoch: 490 | Loss: 0.3595896363258362 | Test Loss 0.24864399433135986 \n"
          ]
        }
      ]
    },
    {
      "cell_type": "code",
      "source": [
        "new_model_0.state_dict()"
      ],
      "metadata": {
        "colab": {
          "base_uri": "https://localhost:8080/"
        },
        "id": "lm0_Fs9akzBT",
        "outputId": "ac23280e-74ee-4b0c-fc5e-25e7c7caae32"
      },
      "execution_count": 120,
      "outputs": [
        {
          "output_type": "execute_result",
          "data": {
            "text/plain": [
              "OrderedDict([('linear_layer.weight', tensor([[0.4076]], device='cuda:0')),\n",
              "             ('linear_layer.bias', tensor([-0.1065], device='cuda:0'))])"
            ]
          },
          "metadata": {},
          "execution_count": 120
        }
      ]
    },
    {
      "cell_type": "code",
      "source": [],
      "metadata": {
        "id": "eVSF501tqZxD"
      },
      "execution_count": null,
      "outputs": []
    }
  ]
}
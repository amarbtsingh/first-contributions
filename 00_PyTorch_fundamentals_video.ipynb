{
  "nbformat": 4,
  "nbformat_minor": 0,
  "metadata": {
    "colab": {
      "provenance": [],
      "gpuType": "T4",
      "authorship_tag": "ABX9TyOWnqANDeZ5dXdDNCw1JJV/",
      "include_colab_link": true
    },
    "kernelspec": {
      "name": "python3",
      "display_name": "Python 3"
    },
    "language_info": {
      "name": "python"
    },
    "accelerator": "GPU"
  },
  "cells": [
    {
      "cell_type": "markdown",
      "metadata": {
        "id": "view-in-github",
        "colab_type": "text"
      },
      "source": [
        "<a href=\"https://colab.research.google.com/github/amarbtsingh/first-contributions/blob/main/00_PyTorch_fundamentals_video.ipynb\" target=\"_parent\"><img src=\"https://colab.research.google.com/assets/colab-badge.svg\" alt=\"Open In Colab\"/></a>"
      ]
    },
    {
      "cell_type": "code",
      "execution_count": 1,
      "metadata": {
        "colab": {
          "base_uri": "https://localhost:8080/"
        },
        "id": "gto9Qt2pJft3",
        "outputId": "1bdce08c-db44-48e5-99bd-f25bfe3091ef"
      },
      "outputs": [
        {
          "output_type": "stream",
          "name": "stdout",
          "text": [
            "2.1.0+cu121\n"
          ]
        }
      ],
      "source": [
        "import torch\n",
        "import pandas as pd\n",
        "import matplotlib.pyplot as plt\n",
        "\n",
        "print(torch.__version__)"
      ]
    },
    {
      "cell_type": "markdown",
      "source": [
        "## Introduction to Tensors\n",
        "\n",
        "Creating Tensors"
      ],
      "metadata": {
        "id": "r79ifXbGLJTS"
      }
    },
    {
      "cell_type": "markdown",
      "source": [
        "Scalar"
      ],
      "metadata": {
        "id": "1bgkyIJLMy0j"
      }
    },
    {
      "cell_type": "code",
      "source": [
        "scalar = torch.tensor(7) # number 7 is being initialised as a scalar\n",
        "\n",
        "print(scalar)\n",
        "\n",
        "scalar.ndim\n",
        "\n",
        "print(type(scalar))\n"
      ],
      "metadata": {
        "colab": {
          "base_uri": "https://localhost:8080/"
        },
        "id": "lFkg3f6cM2fE",
        "outputId": "d56aefe6-3a7d-4440-e281-7996401d5585"
      },
      "execution_count": 2,
      "outputs": [
        {
          "output_type": "stream",
          "name": "stdout",
          "text": [
            "tensor(7)\n",
            "<class 'torch.Tensor'>\n"
          ]
        }
      ]
    },
    {
      "cell_type": "markdown",
      "source": [
        "Get tensor back as a python basic datatype"
      ],
      "metadata": {
        "id": "fZpD3ZSzdvGY"
      }
    },
    {
      "cell_type": "code",
      "source": [
        "print(type(scalar.item()))"
      ],
      "metadata": {
        "colab": {
          "base_uri": "https://localhost:8080/"
        },
        "id": "gCFOfI1Cd2l9",
        "outputId": "134e498d-7329-4f18-cabb-6448e1e92775"
      },
      "execution_count": 3,
      "outputs": [
        {
          "output_type": "stream",
          "name": "stdout",
          "text": [
            "<class 'int'>\n"
          ]
        }
      ]
    },
    {
      "cell_type": "markdown",
      "source": [
        "Vector"
      ],
      "metadata": {
        "id": "XVThc-beeEF8"
      }
    },
    {
      "cell_type": "code",
      "source": [
        "vector = torch.tensor([4, 6, 7])\n",
        "\n",
        "print(vector)\n",
        "vector.ndim"
      ],
      "metadata": {
        "colab": {
          "base_uri": "https://localhost:8080/"
        },
        "id": "rk_drIVfeGaZ",
        "outputId": "9d854ab8-ba0c-464e-ecbd-ba0057992697"
      },
      "execution_count": 4,
      "outputs": [
        {
          "output_type": "stream",
          "name": "stdout",
          "text": [
            "tensor([4, 6, 7])\n"
          ]
        },
        {
          "output_type": "execute_result",
          "data": {
            "text/plain": [
              "1"
            ]
          },
          "metadata": {},
          "execution_count": 4
        }
      ]
    },
    {
      "cell_type": "code",
      "source": [
        "vector.shape"
      ],
      "metadata": {
        "colab": {
          "base_uri": "https://localhost:8080/"
        },
        "id": "lrOvL8Nte4Jl",
        "outputId": "fb9fe21f-92a0-4be2-bacb-717c1285136f"
      },
      "execution_count": 5,
      "outputs": [
        {
          "output_type": "execute_result",
          "data": {
            "text/plain": [
              "torch.Size([3])"
            ]
          },
          "metadata": {},
          "execution_count": 5
        }
      ]
    },
    {
      "cell_type": "code",
      "source": [
        "# MATRIX\n",
        "MATRIX = torch.tensor([[1, 2, 3],\n",
        "                       [4, 5, 6],\n",
        "                       [7, 8, 9]])"
      ],
      "metadata": {
        "id": "BbchgXmKfSG-"
      },
      "execution_count": 6,
      "outputs": []
    },
    {
      "cell_type": "code",
      "source": [
        "print(MATRIX)\n",
        "print(MATRIX.ndim)\n",
        "print(MATRIX.shape)"
      ],
      "metadata": {
        "colab": {
          "base_uri": "https://localhost:8080/"
        },
        "id": "heBIujrNfwV7",
        "outputId": "121d3909-92dc-40cf-fb0f-d557bc46153f"
      },
      "execution_count": 7,
      "outputs": [
        {
          "output_type": "stream",
          "name": "stdout",
          "text": [
            "tensor([[1, 2, 3],\n",
            "        [4, 5, 6],\n",
            "        [7, 8, 9]])\n",
            "2\n",
            "torch.Size([3, 3])\n"
          ]
        }
      ]
    },
    {
      "cell_type": "code",
      "source": [
        "# 0th element\n",
        "print(MATRIX[0])\n",
        "print(MATRIX[0].ndim)"
      ],
      "metadata": {
        "colab": {
          "base_uri": "https://localhost:8080/"
        },
        "id": "zxKNhEdJf8IL",
        "outputId": "51e4b3f1-a0ae-4ff4-a978-5591361021bb"
      },
      "execution_count": 8,
      "outputs": [
        {
          "output_type": "stream",
          "name": "stdout",
          "text": [
            "tensor([1, 2, 3])\n",
            "1\n"
          ]
        }
      ]
    },
    {
      "cell_type": "code",
      "source": [
        "# TENSOR\n",
        "\n",
        "TENSOR = torch.tensor([[[1, 8, 3],\n",
        "                        [7, 0, 1],\n",
        "                        [9, 10, 45]]])"
      ],
      "metadata": {
        "id": "wrtltcjIgg36"
      },
      "execution_count": 9,
      "outputs": []
    },
    {
      "cell_type": "code",
      "source": [
        "print(TENSOR)\n",
        "print(TENSOR.ndim)\n",
        "print(TENSOR.shape)"
      ],
      "metadata": {
        "colab": {
          "base_uri": "https://localhost:8080/"
        },
        "id": "wL49masXhmvx",
        "outputId": "25fbc55f-0b69-4c3f-e2f6-aaebe789e6c5"
      },
      "execution_count": 10,
      "outputs": [
        {
          "output_type": "stream",
          "name": "stdout",
          "text": [
            "tensor([[[ 1,  8,  3],\n",
            "         [ 7,  0,  1],\n",
            "         [ 9, 10, 45]]])\n",
            "3\n",
            "torch.Size([1, 3, 3])\n"
          ]
        }
      ]
    },
    {
      "cell_type": "code",
      "source": [
        "TENSOR[0]"
      ],
      "metadata": {
        "colab": {
          "base_uri": "https://localhost:8080/"
        },
        "id": "MXuO_opaho_M",
        "outputId": "5c8c30b1-c11f-44b9-f083-6e79a93569fb"
      },
      "execution_count": 11,
      "outputs": [
        {
          "output_type": "execute_result",
          "data": {
            "text/plain": [
              "tensor([[ 1,  8,  3],\n",
              "        [ 7,  0,  1],\n",
              "        [ 9, 10, 45]])"
            ]
          },
          "metadata": {},
          "execution_count": 11
        }
      ]
    },
    {
      "cell_type": "code",
      "source": [
        "# TENSOR_4D\n",
        "TENSOR_4D = torch.tensor([\n",
        "    [\n",
        "      [\n",
        "          [ 1,  2,  3,  4],\n",
        "          [ 5,  6,  7,  8],\n",
        "          [ 9, 10, 11, 12]\n",
        "      ],\n",
        "\n",
        "      [\n",
        "          [21, 22, 23, 24],\n",
        "          [25, 26, 27, 28],\n",
        "          [ 9, 10, 11, 12]\n",
        "      ]\n",
        "    ],\n",
        "\n",
        "    [\n",
        "        [\n",
        "            [31, 32, 33, 34],\n",
        "            [35, 36, 37, 38],\n",
        "            [39, 40, 41, 42]\n",
        "        ],\n",
        "\n",
        "        [\n",
        "            [ 12,  22,  23,  24],\n",
        "            [ 25,  26,  27,  28],\n",
        "            [ 9, 10, 11, 12]\n",
        "        ]\n",
        "    ],\n",
        "\n",
        "    [\n",
        "        [\n",
        "            [41, 42, 43, 44],\n",
        "            [25, 26, 27, 28],\n",
        "            [ 29, 30, 31, 32]\n",
        "        ],\n",
        "\n",
        "      [\n",
        "          [51, 52, 53, 54],\n",
        "          [75, 76, 77, 78],\n",
        "          [89, 80, 81, 82]\n",
        "      ],\n",
        "    ]\n",
        "  ])\n",
        "TENSOR_4D"
      ],
      "metadata": {
        "colab": {
          "base_uri": "https://localhost:8080/"
        },
        "id": "XtkI7u26i2uX",
        "outputId": "52c130e4-fe56-4162-9394-e6e48ffcfad2"
      },
      "execution_count": 12,
      "outputs": [
        {
          "output_type": "execute_result",
          "data": {
            "text/plain": [
              "tensor([[[[ 1,  2,  3,  4],\n",
              "          [ 5,  6,  7,  8],\n",
              "          [ 9, 10, 11, 12]],\n",
              "\n",
              "         [[21, 22, 23, 24],\n",
              "          [25, 26, 27, 28],\n",
              "          [ 9, 10, 11, 12]]],\n",
              "\n",
              "\n",
              "        [[[31, 32, 33, 34],\n",
              "          [35, 36, 37, 38],\n",
              "          [39, 40, 41, 42]],\n",
              "\n",
              "         [[12, 22, 23, 24],\n",
              "          [25, 26, 27, 28],\n",
              "          [ 9, 10, 11, 12]]],\n",
              "\n",
              "\n",
              "        [[[41, 42, 43, 44],\n",
              "          [25, 26, 27, 28],\n",
              "          [29, 30, 31, 32]],\n",
              "\n",
              "         [[51, 52, 53, 54],\n",
              "          [75, 76, 77, 78],\n",
              "          [89, 80, 81, 82]]]])"
            ]
          },
          "metadata": {},
          "execution_count": 12
        }
      ]
    },
    {
      "cell_type": "code",
      "source": [
        "print(TENSOR_4D.ndim)\n",
        "print(TENSOR_4D.shape)"
      ],
      "metadata": {
        "colab": {
          "base_uri": "https://localhost:8080/"
        },
        "id": "NUczdED-kQga",
        "outputId": "570922c6-5444-41d9-9521-7366d6654f77"
      },
      "execution_count": 13,
      "outputs": [
        {
          "output_type": "stream",
          "name": "stdout",
          "text": [
            "4\n",
            "torch.Size([3, 2, 3, 4])\n"
          ]
        }
      ]
    },
    {
      "cell_type": "code",
      "source": [
        "print(TENSOR_4D[2][1][1])"
      ],
      "metadata": {
        "colab": {
          "base_uri": "https://localhost:8080/"
        },
        "id": "CBN--8c3umQE",
        "outputId": "2e9916cb-85c6-4955-c596-cc405aa286a7"
      },
      "execution_count": 14,
      "outputs": [
        {
          "output_type": "stream",
          "name": "stdout",
          "text": [
            "tensor([75, 76, 77, 78])\n"
          ]
        }
      ]
    },
    {
      "cell_type": "markdown",
      "source": [
        "### Random Tensor"
      ],
      "metadata": {
        "id": "0E80_VUgj4nl"
      }
    },
    {
      "cell_type": "markdown",
      "source": [
        "Why random tensors?\n",
        "\n",
        "Random tensors are important because the way many Neural networks work is, they start with tensors filled with big random numbers and work there way to adjust these random numbers to better represent data.\n",
        "\n",
        "`Start with random numebrs --> Look at Data --> Update random numbers --> Look at Data --> Update random numbers `\n",
        "\n",
        "Random Tensor Docs -->\n",
        "https://pytorch.org/docs/stable/generated/torch.rand.html"
      ],
      "metadata": {
        "id": "qvEYMAfPj-jX"
      }
    },
    {
      "cell_type": "code",
      "source": [
        "## Create a random tensor of size (3, 4)\n",
        "random_tensor = torch.rand([3, 4])\n",
        "random_tensor, random_tensor.dtype"
      ],
      "metadata": {
        "colab": {
          "base_uri": "https://localhost:8080/"
        },
        "id": "2J2OLTJflOhg",
        "outputId": "acef1e6d-56c7-4192-8cd3-52a73dabaf97"
      },
      "execution_count": 15,
      "outputs": [
        {
          "output_type": "execute_result",
          "data": {
            "text/plain": [
              "(tensor([[0.1924, 0.6736, 0.9098, 0.2384],\n",
              "         [0.4221, 0.8210, 0.9164, 0.7748],\n",
              "         [0.2226, 0.0933, 0.7738, 0.2356]]),\n",
              " torch.float32)"
            ]
          },
          "metadata": {},
          "execution_count": 15
        }
      ]
    },
    {
      "cell_type": "code",
      "source": [
        "print(random_tensor.ndim)\n",
        "print(random_tensor.size())\n"
      ],
      "metadata": {
        "colab": {
          "base_uri": "https://localhost:8080/"
        },
        "id": "vwckmaJZNwIr",
        "outputId": "d799f7e0-cc84-47a7-a834-013a7d78b8fc"
      },
      "execution_count": 16,
      "outputs": [
        {
          "output_type": "stream",
          "name": "stdout",
          "text": [
            "2\n",
            "torch.Size([3, 4])\n"
          ]
        }
      ]
    },
    {
      "cell_type": "markdown",
      "source": [
        "Create a random tensor with size of that of an image"
      ],
      "metadata": {
        "id": "ba0UsYhcO2Fq"
      }
    },
    {
      "cell_type": "code",
      "source": [
        "random_image_size_tensor = torch.rand(size = [224, 224, 3]) # Image size = (224, 224, 3) Height x Width x Color Channels ()\n",
        "random_image_size_tensor.shape, random_image_size_tensor.ndim"
      ],
      "metadata": {
        "colab": {
          "base_uri": "https://localhost:8080/"
        },
        "id": "8n6R9iuUPQ1y",
        "outputId": "9f83f77f-86d8-4e90-a46b-f08f1f443a4e"
      },
      "execution_count": 17,
      "outputs": [
        {
          "output_type": "execute_result",
          "data": {
            "text/plain": [
              "(torch.Size([224, 224, 3]), 3)"
            ]
          },
          "metadata": {},
          "execution_count": 17
        }
      ]
    },
    {
      "cell_type": "code",
      "source": [
        "random_image_size_tensor"
      ],
      "metadata": {
        "colab": {
          "base_uri": "https://localhost:8080/"
        },
        "id": "hlzg6DiAQ2Jg",
        "outputId": "8597daf1-e762-42bf-e28c-35e124ed5212"
      },
      "execution_count": 18,
      "outputs": [
        {
          "output_type": "execute_result",
          "data": {
            "text/plain": [
              "tensor([[[0.9438, 0.2005, 0.9885],\n",
              "         [0.2293, 0.5334, 0.8268],\n",
              "         [0.2097, 0.1672, 0.6000],\n",
              "         ...,\n",
              "         [0.2402, 0.4608, 0.7744],\n",
              "         [0.1626, 0.1413, 0.1816],\n",
              "         [0.8843, 0.8452, 0.3455]],\n",
              "\n",
              "        [[0.0629, 0.6204, 0.7453],\n",
              "         [0.9275, 0.6866, 0.0059],\n",
              "         [0.5639, 0.1595, 0.7091],\n",
              "         ...,\n",
              "         [0.8074, 0.0205, 0.0715],\n",
              "         [0.1944, 0.4202, 0.5884],\n",
              "         [0.0704, 0.3113, 0.5695]],\n",
              "\n",
              "        [[0.9386, 0.4499, 0.9988],\n",
              "         [0.3483, 0.1053, 0.3330],\n",
              "         [0.0686, 0.8515, 0.2213],\n",
              "         ...,\n",
              "         [0.0036, 0.9265, 0.1625],\n",
              "         [0.2935, 0.8826, 0.2162],\n",
              "         [0.4746, 0.2060, 0.9279]],\n",
              "\n",
              "        ...,\n",
              "\n",
              "        [[0.2041, 0.7115, 0.5191],\n",
              "         [0.7391, 0.2328, 0.1998],\n",
              "         [0.9213, 0.1273, 0.4420],\n",
              "         ...,\n",
              "         [0.4495, 0.0342, 0.1693],\n",
              "         [0.2007, 0.0306, 0.7222],\n",
              "         [0.7010, 0.0421, 0.0256]],\n",
              "\n",
              "        [[0.3307, 0.3379, 0.9352],\n",
              "         [0.2196, 0.8035, 0.3872],\n",
              "         [0.5280, 0.0915, 0.8365],\n",
              "         ...,\n",
              "         [0.1156, 0.8743, 0.0884],\n",
              "         [0.8595, 0.5271, 0.7680],\n",
              "         [0.0258, 0.3181, 0.4800]],\n",
              "\n",
              "        [[0.6862, 0.7674, 0.4549],\n",
              "         [0.2387, 0.6825, 0.3424],\n",
              "         [0.2572, 0.9933, 0.2692],\n",
              "         ...,\n",
              "         [0.7232, 0.0786, 0.9602],\n",
              "         [0.7379, 0.1859, 0.2284],\n",
              "         [0.6175, 0.7337, 0.2968]]])"
            ]
          },
          "metadata": {},
          "execution_count": 18
        }
      ]
    },
    {
      "cell_type": "code",
      "source": [
        "exerc_random_tensor = torch.rand(size= (3,30,30) ) #3 channel color image of 30x30 pixels\n",
        "exerc_random_tensor.shape, exerc_random_tensor.ndim"
      ],
      "metadata": {
        "colab": {
          "base_uri": "https://localhost:8080/"
        },
        "id": "c8f8CsAVRH2Z",
        "outputId": "5f95a42d-3a22-4525-9b70-be4dafc4e73f"
      },
      "execution_count": 19,
      "outputs": [
        {
          "output_type": "execute_result",
          "data": {
            "text/plain": [
              "(torch.Size([3, 30, 30]), 3)"
            ]
          },
          "metadata": {},
          "execution_count": 19
        }
      ]
    },
    {
      "cell_type": "code",
      "source": [
        "exerc_random_tensor"
      ],
      "metadata": {
        "colab": {
          "base_uri": "https://localhost:8080/"
        },
        "id": "eb2zq84wRh-x",
        "outputId": "58f54534-e60e-407c-8d4f-7e529a6f2fef"
      },
      "execution_count": 20,
      "outputs": [
        {
          "output_type": "execute_result",
          "data": {
            "text/plain": [
              "tensor([[[0.2385, 0.8649, 0.5515,  ..., 0.6774, 0.1685, 0.4712],\n",
              "         [0.9677, 0.5434, 0.3472,  ..., 0.9295, 0.5296, 0.6044],\n",
              "         [0.2759, 0.5950, 0.1069,  ..., 0.2270, 0.1753, 0.9459],\n",
              "         ...,\n",
              "         [0.4472, 0.9080, 0.7711,  ..., 0.9407, 0.1768, 0.8291],\n",
              "         [0.3447, 0.6822, 0.4280,  ..., 0.7408, 0.2719, 0.6954],\n",
              "         [0.3194, 0.2113, 0.3208,  ..., 0.3357, 0.9728, 0.6741]],\n",
              "\n",
              "        [[0.7887, 0.1035, 0.2130,  ..., 0.0916, 0.0298, 0.3645],\n",
              "         [0.3421, 0.9512, 0.3780,  ..., 0.8153, 0.3013, 0.8545],\n",
              "         [0.2362, 0.5771, 0.4506,  ..., 0.6579, 0.6615, 0.9440],\n",
              "         ...,\n",
              "         [0.9485, 0.9421, 0.5166,  ..., 0.0808, 0.1348, 0.8446],\n",
              "         [0.9224, 0.7193, 0.7220,  ..., 0.1756, 0.3959, 0.8243],\n",
              "         [0.0257, 0.3301, 0.8034,  ..., 0.0103, 0.2341, 0.6958]],\n",
              "\n",
              "        [[0.1669, 0.4686, 0.7157,  ..., 0.8165, 0.7619, 0.0695],\n",
              "         [0.7154, 0.1573, 0.7729,  ..., 0.4462, 0.0350, 0.2557],\n",
              "         [0.2064, 0.1961, 0.6998,  ..., 0.5432, 0.9713, 0.0118],\n",
              "         ...,\n",
              "         [0.3624, 0.1603, 0.3174,  ..., 0.1940, 0.7790, 0.9242],\n",
              "         [0.9114, 0.2514, 0.8425,  ..., 0.8154, 0.3673, 0.1643],\n",
              "         [0.7370, 0.0785, 0.3347,  ..., 0.0241, 0.6730, 0.1141]]])"
            ]
          },
          "metadata": {},
          "execution_count": 20
        }
      ]
    },
    {
      "cell_type": "markdown",
      "source": [
        "##Zeros and Ones"
      ],
      "metadata": {
        "id": "gptXleAbSBR-"
      }
    },
    {
      "cell_type": "code",
      "source": [
        "#Create Tensor of all Zeros\n",
        "zeros = torch.zeros(size=[3, 4])\n",
        "zeros.size()"
      ],
      "metadata": {
        "colab": {
          "base_uri": "https://localhost:8080/"
        },
        "id": "y9Ie9MVASE2m",
        "outputId": "a91d61c9-e081-4fa7-a845-8b743dbf3021"
      },
      "execution_count": 21,
      "outputs": [
        {
          "output_type": "execute_result",
          "data": {
            "text/plain": [
              "torch.Size([3, 4])"
            ]
          },
          "metadata": {},
          "execution_count": 21
        }
      ]
    },
    {
      "cell_type": "code",
      "source": [
        "zeros * random_tensor"
      ],
      "metadata": {
        "colab": {
          "base_uri": "https://localhost:8080/"
        },
        "id": "b65v-164TWcH",
        "outputId": "b711d101-4103-4724-f9da-08661360d7e0"
      },
      "execution_count": 22,
      "outputs": [
        {
          "output_type": "execute_result",
          "data": {
            "text/plain": [
              "tensor([[0., 0., 0., 0.],\n",
              "        [0., 0., 0., 0.],\n",
              "        [0., 0., 0., 0.]])"
            ]
          },
          "metadata": {},
          "execution_count": 22
        }
      ]
    },
    {
      "cell_type": "code",
      "source": [
        "# Create a tensor of all ones\n",
        "ones = torch.ones(size=[3, 4])\n",
        "print(ones, ones.ndim)\n",
        "ones * random_tensor"
      ],
      "metadata": {
        "colab": {
          "base_uri": "https://localhost:8080/"
        },
        "id": "0i6EbI-fdb_e",
        "outputId": "6f929a65-014b-45bc-caab-2ada852e0e75"
      },
      "execution_count": 23,
      "outputs": [
        {
          "output_type": "stream",
          "name": "stdout",
          "text": [
            "tensor([[1., 1., 1., 1.],\n",
            "        [1., 1., 1., 1.],\n",
            "        [1., 1., 1., 1.]]) 2\n"
          ]
        },
        {
          "output_type": "execute_result",
          "data": {
            "text/plain": [
              "tensor([[0.1924, 0.6736, 0.9098, 0.2384],\n",
              "        [0.4221, 0.8210, 0.9164, 0.7748],\n",
              "        [0.2226, 0.0933, 0.7738, 0.2356]])"
            ]
          },
          "metadata": {},
          "execution_count": 23
        }
      ]
    },
    {
      "cell_type": "markdown",
      "source": [
        "#Creating a range of tensors and tensor-like\n",
        "\n",
        "#torch.arange() --> https://pytorch.org/docs/stable/generated/torch.arange.html\n",
        "#torch.zeros_like() --> https://pytorch.org/docs/stable/generated/torch.zeros_like.html\n",
        "#torch.ones)like() --> https://pytorch.org/docs/stable/generated/torch.ones_like.html"
      ],
      "metadata": {
        "id": "jOjP1fXogb74"
      }
    },
    {
      "cell_type": "code",
      "source": [
        "# Create a tensor with arange\n",
        "range_tensor = torch.arange(start=10, end=30, step=2)\n",
        "range_tensor"
      ],
      "metadata": {
        "colab": {
          "base_uri": "https://localhost:8080/"
        },
        "id": "JNeyNp7Lggp7",
        "outputId": "7ad00ce6-d488-4dcd-eac1-266df1ec0928"
      },
      "execution_count": 24,
      "outputs": [
        {
          "output_type": "execute_result",
          "data": {
            "text/plain": [
              "tensor([10, 12, 14, 16, 18, 20, 22, 24, 26, 28])"
            ]
          },
          "metadata": {},
          "execution_count": 24
        }
      ]
    },
    {
      "cell_type": "code",
      "source": [
        "#Create a zeros like tensor with same shape as another tensor\n",
        "zeros_like_tensor = torch.zeros_like(input= range_tensor)\n",
        "zeros_like_tensor"
      ],
      "metadata": {
        "colab": {
          "base_uri": "https://localhost:8080/"
        },
        "id": "deYmW9kdjs3T",
        "outputId": "26227274-3507-4306-ec90-bab216813968"
      },
      "execution_count": 25,
      "outputs": [
        {
          "output_type": "execute_result",
          "data": {
            "text/plain": [
              "tensor([0, 0, 0, 0, 0, 0, 0, 0, 0, 0])"
            ]
          },
          "metadata": {},
          "execution_count": 25
        }
      ]
    },
    {
      "cell_type": "code",
      "source": [
        "#Create a ones like tensor with same shape as another tensor\n",
        "ones_like_tensor = torch.ones_like(input= range_tensor)\n",
        "ones_like_tensor"
      ],
      "metadata": {
        "colab": {
          "base_uri": "https://localhost:8080/"
        },
        "id": "KBrf6YjAkJdd",
        "outputId": "8631cdb5-da4a-45ba-b6f6-2565584e48bb"
      },
      "execution_count": 26,
      "outputs": [
        {
          "output_type": "execute_result",
          "data": {
            "text/plain": [
              "tensor([1, 1, 1, 1, 1, 1, 1, 1, 1, 1])"
            ]
          },
          "metadata": {},
          "execution_count": 26
        }
      ]
    },
    {
      "cell_type": "code",
      "source": [
        "float32_tensor = torch.tensor(data= [3.0, 6.0, 9.0],\n",
        "                              dtype= torch.float32, # What data type is the tensor eg. float32, float16 etc.\n",
        "                              device= None,         #\n",
        "                              requires_grad= False,\n",
        "                              )"
      ],
      "metadata": {
        "id": "giVV-XgLmfa9"
      },
      "execution_count": 27,
      "outputs": []
    },
    {
      "cell_type": "markdown",
      "source": [
        "#Three most common mistakes that happen during machine learning programming are:\n",
        "1. dtype - Data type mismatch between tensors\n",
        "2. size and shape - size and shape mismatch between tensors and\n",
        "3. device type - Device type mismatch, Tensor not on right device\n",
        "\n",
        "Precision in Computing\n",
        "\n",
        "https://en.wikipedia.org/wiki/Precision_(computer_science)"
      ],
      "metadata": {
        "id": "mxAjM16xqATS"
      }
    },
    {
      "cell_type": "code",
      "source": [
        "float_32_tensor = torch.tensor(data=[3.0,6.0,9.0],\n",
        "                              dtype=torch.float32,  # What is the data type of your Tensor eg. float32, float16  etc.\n",
        "                              device=None,          # On which device your Tensor will reside eg. cpu, cuda\n",
        "                              requires_grad=False)  # whether or not to track gradient with this Tensors operations\n",
        "\n",
        "print(float_32_tensor)\n",
        "\n",
        "converted_to_float16 = float_32_tensor.type(dtype=torch.float16)\n",
        "converted_to_float16"
      ],
      "metadata": {
        "colab": {
          "base_uri": "https://localhost:8080/"
        },
        "id": "QXr05P5sqtRE",
        "outputId": "c909d5fa-0877-4f0a-eb3d-f0cf5582513a"
      },
      "execution_count": 28,
      "outputs": [
        {
          "output_type": "stream",
          "name": "stdout",
          "text": [
            "tensor([3., 6., 9.])\n"
          ]
        },
        {
          "output_type": "execute_result",
          "data": {
            "text/plain": [
              "tensor([3., 6., 9.], dtype=torch.float16)"
            ]
          },
          "metadata": {},
          "execution_count": 28
        }
      ]
    },
    {
      "cell_type": "code",
      "source": [
        "float_16_tensor = torch.tensor(data=[8.0, 9.0, 10.0],\n",
        "                               dtype= torch.float16,\n",
        "                               device=None,\n",
        "                               requires_grad= False)\n",
        "float_16_tensor"
      ],
      "metadata": {
        "colab": {
          "base_uri": "https://localhost:8080/"
        },
        "id": "5_x1tVC1tPMz",
        "outputId": "d24cbcd6-e260-4985-c4e4-1bafe6e9da80"
      },
      "execution_count": 29,
      "outputs": [
        {
          "output_type": "execute_result",
          "data": {
            "text/plain": [
              "tensor([ 8.,  9., 10.], dtype=torch.float16)"
            ]
          },
          "metadata": {},
          "execution_count": 29
        }
      ]
    },
    {
      "cell_type": "code",
      "source": [
        "mul_tensor = float_32_tensor * float_16_tensor\n",
        "mul_tensor"
      ],
      "metadata": {
        "colab": {
          "base_uri": "https://localhost:8080/"
        },
        "id": "-WeU0Sm0rVhy",
        "outputId": "2eadc7c7-a93f-4f0d-dc0c-c8fb53cb975e"
      },
      "execution_count": 30,
      "outputs": [
        {
          "output_type": "execute_result",
          "data": {
            "text/plain": [
              "tensor([24., 54., 90.])"
            ]
          },
          "metadata": {},
          "execution_count": 30
        }
      ]
    },
    {
      "cell_type": "markdown",
      "source": [
        "#Getting information from a Tensor\n",
        "\n",
        "1. dtype - Data type mismatch between tensors --> to get datatype use tensor.dtype\n",
        "2. size and shape - size and shape mismatch between tensors --> to get shape use tensor.shape3\n",
        "3. device type - Device type mismatch, Tensor not on right device --> to get device on which tensor is residing, use tensor.device"
      ],
      "metadata": {
        "id": "FInlhhepw3A9"
      }
    },
    {
      "cell_type": "code",
      "source": [
        "# Create a random tensor\n",
        "\n",
        "a_new_tensor = torch.rand([3, 5])\n",
        "\n",
        "print(a_new_tensor)\n",
        "print(f\"Data type of tensor : {a_new_tensor.dtype}\")\n",
        "print(f\"Shape of the tensor: {list(a_new_tensor.shape)}\")\n",
        "print(f\"Device on which tensor is: {a_new_tensor.device}\")\n",
        "\n",
        "#cuda = torch.device('cuda')\n",
        "#a_new_tensor.to(cuda)\n",
        "\n",
        "print(f\"--Data type of tensor : {a_new_tensor.dtype}\")\n",
        "print(f\"--Shape of the tensor: {list(a_new_tensor.shape)}\")\n",
        "print(f\"--Device on which tensor is: {a_new_tensor.device}\")"
      ],
      "metadata": {
        "id": "ojaTZH-vx_o7"
      },
      "execution_count": null,
      "outputs": []
    },
    {
      "cell_type": "markdown",
      "source": [
        "## Manupulating Tensors - (tensor Operations)"
      ],
      "metadata": {
        "id": "j-h9PGNe4bHq"
      }
    },
    {
      "cell_type": "code",
      "source": [],
      "metadata": {
        "id": "HAGcf_hA4f0p"
      },
      "execution_count": null,
      "outputs": []
    }
  ]
}
{
  "nbformat": 4,
  "nbformat_minor": 0,
  "metadata": {
    "colab": {
      "provenance": [],
      "gpuType": "T4",
      "authorship_tag": "ABX9TyOShKs2m7CdW0hDw8N8Pu3b",
      "include_colab_link": true
    },
    "kernelspec": {
      "name": "python3",
      "display_name": "Python 3"
    },
    "language_info": {
      "name": "python"
    },
    "accelerator": "GPU"
  },
  "cells": [
    {
      "cell_type": "markdown",
      "metadata": {
        "id": "view-in-github",
        "colab_type": "text"
      },
      "source": [
        "<a href=\"https://colab.research.google.com/github/amarbtsingh/first-contributions/blob/main/00_PyTorch_fundamentals_video.ipynb\" target=\"_parent\"><img src=\"https://colab.research.google.com/assets/colab-badge.svg\" alt=\"Open In Colab\"/></a>"
      ]
    },
    {
      "cell_type": "code",
      "execution_count": null,
      "metadata": {
        "colab": {
          "base_uri": "https://localhost:8080/"
        },
        "id": "gto9Qt2pJft3",
        "outputId": "5272452d-af96-47ff-8ff1-c262586ec3a2"
      },
      "outputs": [
        {
          "output_type": "stream",
          "name": "stdout",
          "text": [
            "2.1.0+cu121\n"
          ]
        }
      ],
      "source": [
        "import torch\n",
        "import pandas as pd\n",
        "import matplotlib.pyplot as plt\n",
        "\n",
        "print(torch.__version__)"
      ]
    },
    {
      "cell_type": "markdown",
      "source": [
        "## Introduction to Tensors\n",
        "\n",
        "Creating Tensors"
      ],
      "metadata": {
        "id": "r79ifXbGLJTS"
      }
    },
    {
      "cell_type": "markdown",
      "source": [
        "Scalar"
      ],
      "metadata": {
        "id": "1bgkyIJLMy0j"
      }
    },
    {
      "cell_type": "code",
      "source": [
        "scalar = torch.tensor(7) # number 7 is being initialised as a scalar\n",
        "\n",
        "print(scalar)\n",
        "\n",
        "scalar.ndim\n",
        "\n",
        "print(type(scalar))\n"
      ],
      "metadata": {
        "colab": {
          "base_uri": "https://localhost:8080/"
        },
        "id": "lFkg3f6cM2fE",
        "outputId": "e263cc73-d84b-4c84-c08e-cb9353a3d957"
      },
      "execution_count": null,
      "outputs": [
        {
          "output_type": "stream",
          "name": "stdout",
          "text": [
            "tensor(7)\n",
            "<class 'torch.Tensor'>\n"
          ]
        }
      ]
    },
    {
      "cell_type": "markdown",
      "source": [
        "Get tensor back as a python basic datatype"
      ],
      "metadata": {
        "id": "fZpD3ZSzdvGY"
      }
    },
    {
      "cell_type": "code",
      "source": [
        "print(type(scalar.item()))"
      ],
      "metadata": {
        "colab": {
          "base_uri": "https://localhost:8080/"
        },
        "id": "gCFOfI1Cd2l9",
        "outputId": "7c96ad03-9b6e-4109-9eb0-82356e6c82fd"
      },
      "execution_count": null,
      "outputs": [
        {
          "output_type": "stream",
          "name": "stdout",
          "text": [
            "<class 'int'>\n"
          ]
        }
      ]
    },
    {
      "cell_type": "markdown",
      "source": [
        "Vector"
      ],
      "metadata": {
        "id": "XVThc-beeEF8"
      }
    },
    {
      "cell_type": "code",
      "source": [
        "vector = torch.tensor([4, 6, 7])\n",
        "\n",
        "print(vector)\n",
        "vector.ndim"
      ],
      "metadata": {
        "colab": {
          "base_uri": "https://localhost:8080/"
        },
        "id": "rk_drIVfeGaZ",
        "outputId": "61c0c819-417c-4e6d-b3ec-3516b7daf002"
      },
      "execution_count": null,
      "outputs": [
        {
          "output_type": "stream",
          "name": "stdout",
          "text": [
            "tensor([4, 6, 7])\n"
          ]
        },
        {
          "output_type": "execute_result",
          "data": {
            "text/plain": [
              "1"
            ]
          },
          "metadata": {},
          "execution_count": 76
        }
      ]
    },
    {
      "cell_type": "code",
      "source": [
        "vector.shape"
      ],
      "metadata": {
        "colab": {
          "base_uri": "https://localhost:8080/"
        },
        "id": "lrOvL8Nte4Jl",
        "outputId": "a8118b74-3dc6-4fd7-b2fe-6ee2185f7f8c"
      },
      "execution_count": null,
      "outputs": [
        {
          "output_type": "execute_result",
          "data": {
            "text/plain": [
              "torch.Size([3])"
            ]
          },
          "metadata": {},
          "execution_count": 77
        }
      ]
    },
    {
      "cell_type": "code",
      "source": [
        "# MATRIX\n",
        "MATRIX = torch.tensor([[1, 2, 3],\n",
        "                       [4, 5, 6],\n",
        "                       [7, 8, 9]])"
      ],
      "metadata": {
        "id": "BbchgXmKfSG-"
      },
      "execution_count": null,
      "outputs": []
    },
    {
      "cell_type": "code",
      "source": [
        "print(MATRIX)\n",
        "print(MATRIX.ndim)\n",
        "print(MATRIX.shape)"
      ],
      "metadata": {
        "colab": {
          "base_uri": "https://localhost:8080/"
        },
        "id": "heBIujrNfwV7",
        "outputId": "53f0ae62-e42d-4517-fc49-b50cdea86c1b"
      },
      "execution_count": null,
      "outputs": [
        {
          "output_type": "stream",
          "name": "stdout",
          "text": [
            "tensor([[1, 2, 3],\n",
            "        [4, 5, 6],\n",
            "        [7, 8, 9]])\n",
            "2\n",
            "torch.Size([3, 3])\n"
          ]
        }
      ]
    },
    {
      "cell_type": "code",
      "source": [
        "# 0th element\n",
        "print(MATRIX[0])\n",
        "print(MATRIX[0].ndim)"
      ],
      "metadata": {
        "colab": {
          "base_uri": "https://localhost:8080/"
        },
        "id": "zxKNhEdJf8IL",
        "outputId": "d725fa53-aed0-44eb-b571-d9262b02cabb"
      },
      "execution_count": null,
      "outputs": [
        {
          "output_type": "stream",
          "name": "stdout",
          "text": [
            "tensor([1, 2, 3])\n",
            "1\n"
          ]
        }
      ]
    },
    {
      "cell_type": "code",
      "source": [
        "# TENSOR\n",
        "\n",
        "TENSOR = torch.tensor([[[1, 8, 3],\n",
        "                        [7, 0, 1],\n",
        "                        [9, 10, 45]]])"
      ],
      "metadata": {
        "id": "wrtltcjIgg36"
      },
      "execution_count": null,
      "outputs": []
    },
    {
      "cell_type": "code",
      "source": [
        "print(TENSOR)\n",
        "print(TENSOR.ndim)\n",
        "print(TENSOR.shape)"
      ],
      "metadata": {
        "colab": {
          "base_uri": "https://localhost:8080/"
        },
        "id": "wL49masXhmvx",
        "outputId": "d429320f-84ae-48ac-b3da-370c5ba80b8f"
      },
      "execution_count": null,
      "outputs": [
        {
          "output_type": "stream",
          "name": "stdout",
          "text": [
            "tensor([[[ 1,  8,  3],\n",
            "         [ 7,  0,  1],\n",
            "         [ 9, 10, 45]]])\n",
            "3\n",
            "torch.Size([1, 3, 3])\n"
          ]
        }
      ]
    },
    {
      "cell_type": "code",
      "source": [
        "TENSOR[0]"
      ],
      "metadata": {
        "colab": {
          "base_uri": "https://localhost:8080/"
        },
        "id": "MXuO_opaho_M",
        "outputId": "47f7b262-9133-4925-8991-5c72b75b9ab2"
      },
      "execution_count": null,
      "outputs": [
        {
          "output_type": "execute_result",
          "data": {
            "text/plain": [
              "tensor([[ 1,  8,  3],\n",
              "        [ 7,  0,  1],\n",
              "        [ 9, 10, 45]])"
            ]
          },
          "metadata": {},
          "execution_count": 83
        }
      ]
    },
    {
      "cell_type": "code",
      "source": [
        "# TENSOR_4D\n",
        "TENSOR_4D = torch.tensor([\n",
        "    [\n",
        "      [\n",
        "          [ 1,  2,  3,  4],\n",
        "          [ 5,  6,  7,  8],\n",
        "          [ 9, 10, 11, 12]\n",
        "      ],\n",
        "\n",
        "      [\n",
        "          [21, 22, 23, 24],\n",
        "          [25, 26, 27, 28],\n",
        "          [ 9, 10, 11, 12]\n",
        "      ]\n",
        "    ],\n",
        "\n",
        "    [\n",
        "        [\n",
        "            [31, 32, 33, 34],\n",
        "            [35, 36, 37, 38],\n",
        "            [39, 40, 41, 42]\n",
        "        ],\n",
        "\n",
        "        [\n",
        "            [ 12,  22,  23,  24],\n",
        "            [ 25,  26,  27,  28],\n",
        "            [ 9, 10, 11, 12]\n",
        "        ]\n",
        "    ],\n",
        "\n",
        "    [\n",
        "        [\n",
        "            [41, 42, 43, 44],\n",
        "            [25, 26, 27, 28],\n",
        "            [ 29, 30, 31, 32]\n",
        "        ],\n",
        "\n",
        "      [\n",
        "          [51, 52, 53, 54],\n",
        "          [75, 76, 77, 78],\n",
        "          [89, 80, 81, 82]\n",
        "      ],\n",
        "    ]\n",
        "  ])\n",
        "TENSOR_4D"
      ],
      "metadata": {
        "colab": {
          "base_uri": "https://localhost:8080/"
        },
        "id": "XtkI7u26i2uX",
        "outputId": "cc9a0fdd-cd28-4a77-8a72-0a9df066be5a"
      },
      "execution_count": null,
      "outputs": [
        {
          "output_type": "execute_result",
          "data": {
            "text/plain": [
              "tensor([[[[ 1,  2,  3,  4],\n",
              "          [ 5,  6,  7,  8],\n",
              "          [ 9, 10, 11, 12]],\n",
              "\n",
              "         [[21, 22, 23, 24],\n",
              "          [25, 26, 27, 28],\n",
              "          [ 9, 10, 11, 12]]],\n",
              "\n",
              "\n",
              "        [[[31, 32, 33, 34],\n",
              "          [35, 36, 37, 38],\n",
              "          [39, 40, 41, 42]],\n",
              "\n",
              "         [[12, 22, 23, 24],\n",
              "          [25, 26, 27, 28],\n",
              "          [ 9, 10, 11, 12]]],\n",
              "\n",
              "\n",
              "        [[[41, 42, 43, 44],\n",
              "          [25, 26, 27, 28],\n",
              "          [29, 30, 31, 32]],\n",
              "\n",
              "         [[51, 52, 53, 54],\n",
              "          [75, 76, 77, 78],\n",
              "          [89, 80, 81, 82]]]])"
            ]
          },
          "metadata": {},
          "execution_count": 84
        }
      ]
    },
    {
      "cell_type": "code",
      "source": [
        "print(TENSOR_4D.ndim)\n",
        "print(TENSOR_4D.shape)"
      ],
      "metadata": {
        "colab": {
          "base_uri": "https://localhost:8080/"
        },
        "id": "NUczdED-kQga",
        "outputId": "1d635328-a201-4faf-8615-3513a63f5575"
      },
      "execution_count": null,
      "outputs": [
        {
          "output_type": "stream",
          "name": "stdout",
          "text": [
            "4\n",
            "torch.Size([3, 2, 3, 4])\n"
          ]
        }
      ]
    },
    {
      "cell_type": "code",
      "source": [
        "print(TENSOR_4D[2][1][1])"
      ],
      "metadata": {
        "colab": {
          "base_uri": "https://localhost:8080/"
        },
        "id": "CBN--8c3umQE",
        "outputId": "4896740f-f46b-4dcf-fa8b-1468a12fdf2b"
      },
      "execution_count": null,
      "outputs": [
        {
          "output_type": "stream",
          "name": "stdout",
          "text": [
            "tensor([75, 76, 77, 78])\n"
          ]
        }
      ]
    },
    {
      "cell_type": "markdown",
      "source": [
        "### Random Tensor"
      ],
      "metadata": {
        "id": "0E80_VUgj4nl"
      }
    },
    {
      "cell_type": "markdown",
      "source": [
        "Why random tensors?\n",
        "\n",
        "Random tensors are important because the way many Neural networks work is, they start with tensors filled with big random numbers and work there way to adjust these random numbers to better represent data.\n",
        "\n",
        "`Start with random numebrs --> Look at Data --> Update random numbers --> Look at Data --> Update random numbers `\n",
        "\n",
        "Random Tensor Docs -->\n",
        "https://pytorch.org/docs/stable/generated/torch.rand.html"
      ],
      "metadata": {
        "id": "qvEYMAfPj-jX"
      }
    },
    {
      "cell_type": "code",
      "source": [
        "## Create a random tensor of size (3, 4)\n",
        "random_tensor = torch.rand([3, 4])\n",
        "random_tensor, random_tensor.dtype"
      ],
      "metadata": {
        "colab": {
          "base_uri": "https://localhost:8080/"
        },
        "id": "2J2OLTJflOhg",
        "outputId": "ba0823cf-bdfe-4c1b-bfa9-146dd3d93fb7"
      },
      "execution_count": null,
      "outputs": [
        {
          "output_type": "execute_result",
          "data": {
            "text/plain": [
              "(tensor([[0.5594, 0.5105, 0.6670, 0.7721],\n",
              "         [0.3371, 0.8614, 0.0336, 0.7084],\n",
              "         [0.4157, 0.1375, 0.2742, 0.9491]]),\n",
              " torch.float32)"
            ]
          },
          "metadata": {},
          "execution_count": 87
        }
      ]
    },
    {
      "cell_type": "code",
      "source": [
        "print(random_tensor.ndim)\n",
        "print(random_tensor.size())\n"
      ],
      "metadata": {
        "colab": {
          "base_uri": "https://localhost:8080/"
        },
        "id": "vwckmaJZNwIr",
        "outputId": "4864780f-cf94-4b5e-8309-605e3bc72c18"
      },
      "execution_count": null,
      "outputs": [
        {
          "output_type": "stream",
          "name": "stdout",
          "text": [
            "2\n",
            "torch.Size([3, 4])\n"
          ]
        }
      ]
    },
    {
      "cell_type": "markdown",
      "source": [
        "Create a random tensor with size of that of an image"
      ],
      "metadata": {
        "id": "ba0UsYhcO2Fq"
      }
    },
    {
      "cell_type": "code",
      "source": [
        "random_image_size_tensor = torch.rand(size = [224, 224, 3]) # Image size = (224, 224, 3) Height x Width x Color Channels ()\n",
        "random_image_size_tensor.shape, random_image_size_tensor.ndim"
      ],
      "metadata": {
        "colab": {
          "base_uri": "https://localhost:8080/"
        },
        "id": "8n6R9iuUPQ1y",
        "outputId": "03065c56-1a2d-479e-b890-0badae3387fb"
      },
      "execution_count": null,
      "outputs": [
        {
          "output_type": "execute_result",
          "data": {
            "text/plain": [
              "(torch.Size([224, 224, 3]), 3)"
            ]
          },
          "metadata": {},
          "execution_count": 89
        }
      ]
    },
    {
      "cell_type": "code",
      "source": [
        "random_image_size_tensor"
      ],
      "metadata": {
        "colab": {
          "base_uri": "https://localhost:8080/"
        },
        "id": "hlzg6DiAQ2Jg",
        "outputId": "8003fed6-9672-4fa6-c3da-35c3a14105c8"
      },
      "execution_count": null,
      "outputs": [
        {
          "output_type": "execute_result",
          "data": {
            "text/plain": [
              "tensor([[[0.9289, 0.9331, 0.5077],\n",
              "         [0.0183, 0.5874, 0.5099],\n",
              "         [0.9573, 0.9993, 0.8078],\n",
              "         ...,\n",
              "         [0.1234, 0.8389, 0.2189],\n",
              "         [0.6502, 0.2019, 0.8893],\n",
              "         [0.2654, 0.5809, 0.3976]],\n",
              "\n",
              "        [[0.0166, 0.5477, 0.2320],\n",
              "         [0.9178, 0.8798, 0.5019],\n",
              "         [0.7995, 0.4503, 0.5503],\n",
              "         ...,\n",
              "         [0.1395, 0.5197, 0.1737],\n",
              "         [0.5452, 0.3704, 0.3455],\n",
              "         [0.0796, 0.5413, 0.0659]],\n",
              "\n",
              "        [[0.3992, 0.6238, 0.8062],\n",
              "         [0.0528, 0.9275, 0.7350],\n",
              "         [0.8925, 0.9119, 0.0976],\n",
              "         ...,\n",
              "         [0.2798, 0.9632, 0.9533],\n",
              "         [0.1126, 0.8930, 0.3689],\n",
              "         [0.8230, 0.0353, 0.6029]],\n",
              "\n",
              "        ...,\n",
              "\n",
              "        [[0.2499, 0.2750, 0.6234],\n",
              "         [0.1626, 0.1020, 0.1411],\n",
              "         [0.0694, 0.4897, 0.0845],\n",
              "         ...,\n",
              "         [0.2218, 0.0632, 0.0778],\n",
              "         [0.6387, 0.1871, 0.1654],\n",
              "         [0.7844, 0.4674, 0.3943]],\n",
              "\n",
              "        [[0.4843, 0.3300, 0.5379],\n",
              "         [0.0582, 0.1312, 0.6086],\n",
              "         [0.1127, 0.2416, 0.2513],\n",
              "         ...,\n",
              "         [0.8007, 0.4313, 0.9984],\n",
              "         [0.2157, 0.4903, 0.1208],\n",
              "         [0.7019, 0.6182, 0.6629]],\n",
              "\n",
              "        [[0.0232, 0.9816, 0.7428],\n",
              "         [0.7942, 0.0907, 0.9667],\n",
              "         [0.2659, 0.1219, 0.4539],\n",
              "         ...,\n",
              "         [0.9031, 0.6824, 0.7387],\n",
              "         [0.8981, 0.1098, 0.6107],\n",
              "         [0.3807, 0.5567, 0.7331]]])"
            ]
          },
          "metadata": {},
          "execution_count": 90
        }
      ]
    },
    {
      "cell_type": "code",
      "source": [
        "exerc_random_tensor = torch.rand(size= (3,30,30) ) #3 channel color image of 30x30 pixels\n",
        "exerc_random_tensor.shape, exerc_random_tensor.ndim"
      ],
      "metadata": {
        "colab": {
          "base_uri": "https://localhost:8080/"
        },
        "id": "c8f8CsAVRH2Z",
        "outputId": "96bd0a0f-d95e-4c01-ce2b-9affa9e6b56b"
      },
      "execution_count": null,
      "outputs": [
        {
          "output_type": "execute_result",
          "data": {
            "text/plain": [
              "(torch.Size([3, 30, 30]), 3)"
            ]
          },
          "metadata": {},
          "execution_count": 91
        }
      ]
    },
    {
      "cell_type": "code",
      "source": [
        "exerc_random_tensor"
      ],
      "metadata": {
        "colab": {
          "base_uri": "https://localhost:8080/"
        },
        "id": "eb2zq84wRh-x",
        "outputId": "f077f475-fdf5-40d4-d62f-4b8fd8638ecc"
      },
      "execution_count": null,
      "outputs": [
        {
          "output_type": "execute_result",
          "data": {
            "text/plain": [
              "tensor([[[0.4005, 0.3301, 0.5367,  ..., 0.4517, 0.8158, 0.5001],\n",
              "         [0.5977, 0.5609, 0.9768,  ..., 0.9014, 0.2152, 0.7421],\n",
              "         [0.9332, 0.4691, 0.6569,  ..., 0.0053, 0.2777, 0.4105],\n",
              "         ...,\n",
              "         [0.9458, 0.0191, 0.2945,  ..., 0.5127, 0.1568, 0.9152],\n",
              "         [0.7736, 0.2568, 0.9831,  ..., 0.0476, 0.9998, 0.4889],\n",
              "         [0.8373, 0.1826, 0.2561,  ..., 0.7575, 0.8023, 0.8121]],\n",
              "\n",
              "        [[0.3637, 0.7017, 0.3403,  ..., 0.7013, 0.4659, 0.9225],\n",
              "         [0.9583, 0.3826, 0.4452,  ..., 0.9911, 0.8528, 0.6852],\n",
              "         [0.5627, 0.8050, 0.7323,  ..., 0.8013, 0.3313, 0.3992],\n",
              "         ...,\n",
              "         [0.7699, 0.5369, 0.1523,  ..., 0.2443, 0.7225, 0.9264],\n",
              "         [0.2592, 0.4294, 0.1472,  ..., 0.9693, 0.5868, 0.3992],\n",
              "         [0.7225, 0.9678, 0.4739,  ..., 0.8526, 0.0574, 0.6495]],\n",
              "\n",
              "        [[0.9671, 0.6059, 0.3525,  ..., 0.0616, 0.4262, 0.0187],\n",
              "         [0.4032, 0.9974, 0.9585,  ..., 0.4232, 0.6443, 0.4746],\n",
              "         [0.1316, 0.1215, 0.0538,  ..., 0.2220, 0.9068, 0.7666],\n",
              "         ...,\n",
              "         [0.4652, 0.5103, 0.3161,  ..., 0.1794, 0.9794, 0.0877],\n",
              "         [0.5633, 0.8102, 0.6378,  ..., 0.0418, 0.5715, 0.4322],\n",
              "         [0.8950, 0.0037, 0.7593,  ..., 0.6836, 0.5170, 0.5825]]])"
            ]
          },
          "metadata": {},
          "execution_count": 92
        }
      ]
    },
    {
      "cell_type": "markdown",
      "source": [
        "##Zeros and Ones"
      ],
      "metadata": {
        "id": "gptXleAbSBR-"
      }
    },
    {
      "cell_type": "code",
      "source": [
        "#Create Tensor of all Zeros\n",
        "zeros = torch.zeros(size=[3, 4])\n",
        "zeros.size()"
      ],
      "metadata": {
        "colab": {
          "base_uri": "https://localhost:8080/"
        },
        "id": "y9Ie9MVASE2m",
        "outputId": "6d464397-fe19-4220-e9b1-129f916aa94f"
      },
      "execution_count": null,
      "outputs": [
        {
          "output_type": "execute_result",
          "data": {
            "text/plain": [
              "torch.Size([3, 4])"
            ]
          },
          "metadata": {},
          "execution_count": 93
        }
      ]
    },
    {
      "cell_type": "code",
      "source": [
        "zeros * random_tensor"
      ],
      "metadata": {
        "colab": {
          "base_uri": "https://localhost:8080/"
        },
        "id": "b65v-164TWcH",
        "outputId": "537b1d5e-96cb-4320-95bb-447266cdafa2"
      },
      "execution_count": null,
      "outputs": [
        {
          "output_type": "execute_result",
          "data": {
            "text/plain": [
              "tensor([[0., 0., 0., 0.],\n",
              "        [0., 0., 0., 0.],\n",
              "        [0., 0., 0., 0.]])"
            ]
          },
          "metadata": {},
          "execution_count": 94
        }
      ]
    },
    {
      "cell_type": "code",
      "source": [
        "# Create a tensor of all ones\n",
        "ones = torch.ones(size=[3, 4])\n",
        "print(ones, ones.ndim)\n",
        "ones * random_tensor"
      ],
      "metadata": {
        "colab": {
          "base_uri": "https://localhost:8080/"
        },
        "id": "0i6EbI-fdb_e",
        "outputId": "4255f235-c001-4b8c-9975-419c98ece412"
      },
      "execution_count": null,
      "outputs": [
        {
          "output_type": "stream",
          "name": "stdout",
          "text": [
            "tensor([[1., 1., 1., 1.],\n",
            "        [1., 1., 1., 1.],\n",
            "        [1., 1., 1., 1.]]) 2\n"
          ]
        },
        {
          "output_type": "execute_result",
          "data": {
            "text/plain": [
              "tensor([[0.5594, 0.5105, 0.6670, 0.7721],\n",
              "        [0.3371, 0.8614, 0.0336, 0.7084],\n",
              "        [0.4157, 0.1375, 0.2742, 0.9491]])"
            ]
          },
          "metadata": {},
          "execution_count": 95
        }
      ]
    },
    {
      "cell_type": "markdown",
      "source": [
        "#Creating a range of tensors and tensor-like\n",
        "\n",
        "#torch.arange() --> https://pytorch.org/docs/stable/generated/torch.arange.html\n",
        "#torch.zeros_like() --> https://pytorch.org/docs/stable/generated/torch.zeros_like.html\n",
        "#torch.ones)like() --> https://pytorch.org/docs/stable/generated/torch.ones_like.html"
      ],
      "metadata": {
        "id": "jOjP1fXogb74"
      }
    },
    {
      "cell_type": "code",
      "source": [
        "# Create a tensor with arange\n",
        "range_tensor = torch.arange(start=10, end=30, step=2)\n",
        "range_tensor"
      ],
      "metadata": {
        "colab": {
          "base_uri": "https://localhost:8080/"
        },
        "id": "JNeyNp7Lggp7",
        "outputId": "dfa7ae20-4397-46ca-a6f9-0782ff1641f1"
      },
      "execution_count": null,
      "outputs": [
        {
          "output_type": "execute_result",
          "data": {
            "text/plain": [
              "tensor([10, 12, 14, 16, 18, 20, 22, 24, 26, 28])"
            ]
          },
          "metadata": {},
          "execution_count": 96
        }
      ]
    },
    {
      "cell_type": "code",
      "source": [
        "#Create a zeros like tensor with same shape as another tensor\n",
        "zeros_like_tensor = torch.zeros_like(input= range_tensor)\n",
        "zeros_like_tensor"
      ],
      "metadata": {
        "colab": {
          "base_uri": "https://localhost:8080/"
        },
        "id": "deYmW9kdjs3T",
        "outputId": "d19c77db-bdf8-437b-da3e-22b204c73d58"
      },
      "execution_count": null,
      "outputs": [
        {
          "output_type": "execute_result",
          "data": {
            "text/plain": [
              "tensor([0, 0, 0, 0, 0, 0, 0, 0, 0, 0])"
            ]
          },
          "metadata": {},
          "execution_count": 97
        }
      ]
    },
    {
      "cell_type": "code",
      "source": [
        "#Create a ones like tensor with same shape as another tensor\n",
        "ones_like_tensor = torch.ones_like(input= range_tensor)\n",
        "ones_like_tensor"
      ],
      "metadata": {
        "colab": {
          "base_uri": "https://localhost:8080/"
        },
        "id": "KBrf6YjAkJdd",
        "outputId": "d17aca2b-5382-4af1-a160-2fd493d24c12"
      },
      "execution_count": null,
      "outputs": [
        {
          "output_type": "execute_result",
          "data": {
            "text/plain": [
              "tensor([1, 1, 1, 1, 1, 1, 1, 1, 1, 1])"
            ]
          },
          "metadata": {},
          "execution_count": 98
        }
      ]
    },
    {
      "cell_type": "code",
      "source": [
        "float32_tensor = torch.tensor(data= [3.0, 6.0, 9.0],\n",
        "                              dtype= torch.float32, # What data type is the tensor eg. float32, float16 etc.\n",
        "                              device= None,         #\n",
        "                              requires_grad= False,\n",
        "                              )"
      ],
      "metadata": {
        "id": "giVV-XgLmfa9"
      },
      "execution_count": null,
      "outputs": []
    },
    {
      "cell_type": "markdown",
      "source": [
        "#Three most common mistakes that happen during machine learning programming are:\n",
        "1. dtype - Data type mismatch between tensors\n",
        "2. size and shape - size and shape mismatch between tensors and\n",
        "3. device type - Device type mismatch, Tensor not on right device\n",
        "\n",
        "Precision in Computing\n",
        "\n",
        "https://en.wikipedia.org/wiki/Precision_(computer_science)"
      ],
      "metadata": {
        "id": "mxAjM16xqATS"
      }
    },
    {
      "cell_type": "code",
      "source": [
        "float_32_tensor = torch.tensor(data=[3.0,6.0,9.0],\n",
        "                              dtype=torch.float32,  # What is the data type of your Tensor eg. float32, float16  etc.\n",
        "                              device=None,          # On which device your Tensor will reside eg. cpu, cuda\n",
        "                              requires_grad=False)  # whether or not to track gradient with this Tensors operations\n",
        "\n",
        "print(float_32_tensor)\n",
        "\n",
        "converted_to_float16 = float_32_tensor.type(dtype=torch.float16)\n",
        "converted_to_float16"
      ],
      "metadata": {
        "colab": {
          "base_uri": "https://localhost:8080/"
        },
        "id": "QXr05P5sqtRE",
        "outputId": "25ace937-c85e-4a1d-fec7-651a0352de50"
      },
      "execution_count": null,
      "outputs": [
        {
          "output_type": "stream",
          "name": "stdout",
          "text": [
            "tensor([3., 6., 9.])\n"
          ]
        },
        {
          "output_type": "execute_result",
          "data": {
            "text/plain": [
              "tensor([3., 6., 9.], dtype=torch.float16)"
            ]
          },
          "metadata": {},
          "execution_count": 100
        }
      ]
    },
    {
      "cell_type": "code",
      "source": [
        "float_16_tensor = torch.tensor(data=[8.0, 9.0, 10.0],\n",
        "                               dtype= torch.float16,\n",
        "                               device=None,\n",
        "                               requires_grad= False)\n",
        "float_16_tensor"
      ],
      "metadata": {
        "colab": {
          "base_uri": "https://localhost:8080/"
        },
        "id": "5_x1tVC1tPMz",
        "outputId": "3cecac46-41a1-4a97-fe09-0fccf1f9f2fb"
      },
      "execution_count": null,
      "outputs": [
        {
          "output_type": "execute_result",
          "data": {
            "text/plain": [
              "tensor([ 8.,  9., 10.], dtype=torch.float16)"
            ]
          },
          "metadata": {},
          "execution_count": 101
        }
      ]
    },
    {
      "cell_type": "code",
      "source": [
        "mul_tensor = float_32_tensor * float_16_tensor\n",
        "mul_tensor"
      ],
      "metadata": {
        "colab": {
          "base_uri": "https://localhost:8080/"
        },
        "id": "-WeU0Sm0rVhy",
        "outputId": "278f6de3-f941-44b4-9236-b8b9d480cf8b"
      },
      "execution_count": null,
      "outputs": [
        {
          "output_type": "execute_result",
          "data": {
            "text/plain": [
              "tensor([24., 54., 90.])"
            ]
          },
          "metadata": {},
          "execution_count": 102
        }
      ]
    },
    {
      "cell_type": "markdown",
      "source": [
        "#Getting information from a Tensor\n",
        "\n",
        "1. dtype - Data type mismatch between tensors --> to get datatype use tensor.dtype\n",
        "2. size and shape - size and shape mismatch between tensors --> to get shape use tensor.shape3\n",
        "3. device type - Device type mismatch, Tensor not on right device --> to get device on which tensor is residing, use tensor.device"
      ],
      "metadata": {
        "id": "FInlhhepw3A9"
      }
    },
    {
      "cell_type": "code",
      "source": [
        "# Create a random tensor\n",
        "\n",
        "a_new_tensor = torch.rand([3, 5])\n",
        "\n",
        "print(a_new_tensor)\n",
        "print(f\"Data type of tensor : {a_new_tensor.dtype}\")\n",
        "print(f\"Shape of the tensor: {list(a_new_tensor.shape)}\")\n",
        "print(f\"Device on which tensor is: {a_new_tensor.device}\")\n",
        "\n",
        "#cuda = torch.device('cuda')\n",
        "#a_new_tensor.to(cuda)\n",
        "\n",
        "print(f\"--Data type of tensor : {a_new_tensor.dtype}\")\n",
        "print(f\"--Shape of the tensor: {list(a_new_tensor.shape)}\")\n",
        "print(f\"--Device on which tensor is: {a_new_tensor.device}\")"
      ],
      "metadata": {
        "id": "ojaTZH-vx_o7",
        "colab": {
          "base_uri": "https://localhost:8080/"
        },
        "outputId": "6ddaefc9-7dd0-4fff-e16e-ac4c54665cc9"
      },
      "execution_count": null,
      "outputs": [
        {
          "output_type": "stream",
          "name": "stdout",
          "text": [
            "tensor([[0.9129, 0.2666, 0.6019, 0.6180, 0.5364],\n",
            "        [0.4493, 0.6666, 0.0917, 0.1770, 0.9247],\n",
            "        [0.3392, 0.5582, 0.9680, 0.7134, 0.7661]])\n",
            "Data type of tensor : torch.float32\n",
            "Shape of the tensor: [3, 5]\n",
            "Device on which tensor is: cpu\n",
            "--Data type of tensor : torch.float32\n",
            "--Shape of the tensor: [3, 5]\n",
            "--Device on which tensor is: cpu\n"
          ]
        }
      ]
    },
    {
      "cell_type": "markdown",
      "source": [
        "## Manupulating Tensors - (tensor Operations)\n",
        "Operations are\n",
        "* Addition\n",
        "* Subtraction\n",
        "* Multiplication - elementwise\n",
        "* Division\n",
        "* Matrix Multiplication"
      ],
      "metadata": {
        "id": "j-h9PGNe4bHq"
      }
    },
    {
      "cell_type": "code",
      "source": [
        "# Addition Operation - The addition operation in PyTorch requires the tensors to have the same size at all non-singleton dimensions.\n",
        "\n",
        "#Create a Tensor\n",
        "\n",
        "first_tensor = torch.rand(size=[3,4], dtype=torch.float16)\n",
        "print(\"First =\", first_tensor)\n",
        "\n",
        "second_tensor = torch.rand(size=[3, 3], dtype=torch.float16, device=\"cpu\")\n",
        "print(\"Second =\", second_tensor)\n",
        "\n",
        "third_tensor = first_tensor + second_tensor.resize_(size=[3, 4])\n",
        "print(\"Third = \", third_tensor)\n"
      ],
      "metadata": {
        "id": "IilOgD8BuWVh",
        "colab": {
          "base_uri": "https://localhost:8080/"
        },
        "outputId": "0ea81a3f-798b-4a78-fa08-dc2ae65778e5"
      },
      "execution_count": null,
      "outputs": [
        {
          "output_type": "stream",
          "name": "stdout",
          "text": [
            "First = tensor([[0.0283, 0.9185, 0.3848, 0.4414],\n",
            "        [0.7432, 0.7607, 0.6929, 0.6509],\n",
            "        [0.1953, 0.4058, 0.7275, 0.4409]], dtype=torch.float16)\n",
            "Second = tensor([[0.5938, 0.3223, 0.6265],\n",
            "        [0.2798, 0.1284, 0.8374],\n",
            "        [0.9932, 0.3730, 0.8091]], dtype=torch.float16)\n",
            "Third =  tensor([[0.6221, 1.2402, 1.0117, 0.7212],\n",
            "        [0.8716, 1.5977, 1.6855, 1.0234],\n",
            "        [1.0039, 0.4058, 0.7275, 0.4409]], dtype=torch.float16)\n"
          ]
        }
      ]
    },
    {
      "cell_type": "code",
      "source": [
        "fourth_tensor=torch.rand(size=(3,3),dtype=torch.float16)\n",
        "print(fourth_tensor)\n",
        "print(fourth_tensor + 10)"
      ],
      "metadata": {
        "id": "HAGcf_hA4f0p",
        "colab": {
          "base_uri": "https://localhost:8080/"
        },
        "outputId": "0b054cc4-5ecb-4f80-e586-0222b8d93192"
      },
      "execution_count": null,
      "outputs": [
        {
          "output_type": "stream",
          "name": "stdout",
          "text": [
            "tensor([[0.2119, 0.6548, 0.8198],\n",
            "        [0.3193, 0.0923, 0.2471],\n",
            "        [0.4814, 0.9805, 0.4238]], dtype=torch.float16)\n",
            "tensor([[10.2109, 10.6562, 10.8203],\n",
            "        [10.3203, 10.0938, 10.2500],\n",
            "        [10.4844, 10.9844, 10.4219]], dtype=torch.float16)\n"
          ]
        }
      ]
    },
    {
      "cell_type": "code",
      "source": [
        "fourth_tensor - 10"
      ],
      "metadata": {
        "colab": {
          "base_uri": "https://localhost:8080/"
        },
        "id": "Duvlhbeb30uq",
        "outputId": "b96b06c9-55d8-45e8-a4b5-dea579eccdf0"
      },
      "execution_count": null,
      "outputs": [
        {
          "output_type": "execute_result",
          "data": {
            "text/plain": [
              "tensor([[-9.7891, -9.3438, -9.1797],\n",
              "        [-9.6797, -9.9062, -9.7500],\n",
              "        [-9.5156, -9.0156, -9.5781]], dtype=torch.float16)"
            ]
          },
          "metadata": {},
          "execution_count": 106
        }
      ]
    },
    {
      "cell_type": "code",
      "source": [
        "fourth_tensor * 10"
      ],
      "metadata": {
        "colab": {
          "base_uri": "https://localhost:8080/"
        },
        "id": "oIidAhck39KT",
        "outputId": "9cc1a852-37fa-4ff5-cf1d-828b90c30f21"
      },
      "execution_count": null,
      "outputs": [
        {
          "output_type": "execute_result",
          "data": {
            "text/plain": [
              "tensor([[2.1191, 6.5469, 8.1953],\n",
              "        [3.1934, 0.9229, 2.4707],\n",
              "        [4.8125, 9.8047, 4.2383]], dtype=torch.float16)"
            ]
          },
          "metadata": {},
          "execution_count": 107
        }
      ]
    },
    {
      "cell_type": "code",
      "source": [
        "fourth_tensor / 10"
      ],
      "metadata": {
        "colab": {
          "base_uri": "https://localhost:8080/"
        },
        "id": "OvnqHL--4Fl8",
        "outputId": "6162ebd1-3f79-42c7-f06f-bd24ad1165b4"
      },
      "execution_count": null,
      "outputs": [
        {
          "output_type": "execute_result",
          "data": {
            "text/plain": [
              "tensor([[0.0212, 0.0655, 0.0820],\n",
              "        [0.0319, 0.0092, 0.0247],\n",
              "        [0.0482, 0.0980, 0.0424]], dtype=torch.float16)"
            ]
          },
          "metadata": {},
          "execution_count": 108
        }
      ]
    },
    {
      "cell_type": "markdown",
      "source": [
        "### Tensor Multiplication\n",
        "\n",
        "1. Element-wise multiplication\n",
        "2. Matrix Multiplication - Dot Product\n",
        "\n",
        "https://www.mathsisfun.com/algebra/matrix-multiplying.html\n",
        "\n",
        "There are two main rules when performing matrix multiplication\n",
        "1. The inner dimensions must match:\n",
        "* `(3, 2) @ (3, 2)` won't work\n",
        "* `(2, 2) @ (2, 4)` will work\n",
        "* `(3, 2) @ (2, 3)` will work\n",
        "\n",
        "2. The resulting matrix has shape of outer dimensions"
      ],
      "metadata": {
        "id": "Tm_SrHVyBHJo"
      }
    },
    {
      "cell_type": "code",
      "source": [
        "#Element-wise Multiplication\n",
        "%%time\n",
        "\n",
        "tensor = torch.tensor([1, 2, 4])\n",
        "\n",
        "print(tensor, \" * \", tensor)\n",
        "print(f\"Equals: {tensor*tensor}\")"
      ],
      "metadata": {
        "colab": {
          "base_uri": "https://localhost:8080/"
        },
        "id": "bUu2v53DBN_g",
        "outputId": "75d137ea-1a35-4acd-beab-ae6bb2645a16"
      },
      "execution_count": null,
      "outputs": [
        {
          "output_type": "stream",
          "name": "stdout",
          "text": [
            "tensor([1, 2, 4])  *  tensor([1, 2, 4])\n",
            "Equals: tensor([ 1,  4, 16])\n",
            "CPU times: user 3.92 ms, sys: 0 ns, total: 3.92 ms\n",
            "Wall time: 3.81 ms\n"
          ]
        }
      ]
    },
    {
      "cell_type": "code",
      "source": [
        "## Matrix Multiplication\n",
        "%%time\n",
        "tensor1 = torch.tensor([[2, 3],\n",
        "                        [4, 6]])\n",
        "print(\"Tensor1:\", tensor1)\n",
        "\n",
        "tensor2 = torch.tensor([[4, 5, 6],\n",
        "                        [1, 4, 6]])\n",
        "print(\"Tensor2:\", tensor2)\n",
        "\n",
        "torch.matmul(tensor1, tensor2)"
      ],
      "metadata": {
        "id": "Pi8CiPDRCOpW"
      },
      "execution_count": null,
      "outputs": []
    },
    {
      "cell_type": "code",
      "source": [
        "%%time\n",
        "\n",
        "tensor3 = torch.tensor([4, 5, 6])\n",
        "\n",
        "print(torch.matmul(tensor3, tensor3))"
      ],
      "metadata": {
        "colab": {
          "base_uri": "https://localhost:8080/"
        },
        "id": "PX0NAauKJh9k",
        "outputId": "dd34e930-9189-4af2-a937-1a052b2a817c"
      },
      "execution_count": null,
      "outputs": [
        {
          "output_type": "stream",
          "name": "stdout",
          "text": [
            "tensor(77)\n",
            "CPU times: user 656 µs, sys: 0 ns, total: 656 µs\n",
            "Wall time: 1.36 ms\n"
          ]
        }
      ]
    },
    {
      "cell_type": "code",
      "source": [
        "%%time\n",
        "value = 0\n",
        "for i in range(len(tensor3)):\n",
        "  value += tensor3[i]*tensor3[i]\n",
        "value"
      ],
      "metadata": {
        "id": "Tq58HIrOJ9IY"
      },
      "execution_count": null,
      "outputs": []
    },
    {
      "cell_type": "markdown",
      "source": [
        "### Tensor Aggregation\n",
        "\n",
        "Finding min, max, mean , sum etc. of a tensor"
      ],
      "metadata": {
        "id": "dx26xl31VyNN"
      }
    },
    {
      "cell_type": "code",
      "source": [
        "# Create a Tensor\n",
        "\n",
        "tensor_x = torch.randint(high=500, size=(3, 6))\n",
        "tensor_x"
      ],
      "metadata": {
        "colab": {
          "base_uri": "https://localhost:8080/"
        },
        "id": "PlMB8a4bWDJE",
        "outputId": "066283b7-e5d9-4007-8d7b-4b7d2cbc4cd9"
      },
      "execution_count": null,
      "outputs": [
        {
          "output_type": "execute_result",
          "data": {
            "text/plain": [
              "tensor([[154, 286, 430, 234, 291,  97],\n",
              "        [266, 492,  76, 224, 272, 225],\n",
              "        [275, 166, 385, 390, 325, 365]])"
            ]
          },
          "metadata": {},
          "execution_count": 115
        }
      ]
    },
    {
      "cell_type": "code",
      "source": [
        "print(f\"Min : {tensor_x.min()}\")\n",
        "print(f\"Max : {tensor_x.max()}\")\n",
        "print(f\"Mean : {tensor_x.mean(dtype=torch.float16)}\")\n",
        "print(f\"Sum : {tensor_x.sum()}\")"
      ],
      "metadata": {
        "colab": {
          "base_uri": "https://localhost:8080/"
        },
        "id": "IrosoP_uWjUh",
        "outputId": "c535c59f-47e9-4614-c385-6ee62c425a1e"
      },
      "execution_count": null,
      "outputs": [
        {
          "output_type": "stream",
          "name": "stdout",
          "text": [
            "Min : 76\n",
            "Max : 492\n",
            "Mean : 275.25\n",
            "Sum : 4953\n"
          ]
        }
      ]
    },
    {
      "cell_type": "code",
      "source": [
        "torch.argmin(tensor_x,dim=1, keepdim=True)\n"
      ],
      "metadata": {
        "colab": {
          "base_uri": "https://localhost:8080/"
        },
        "id": "zt93SjY0Y8R7",
        "outputId": "f1feb168-78a6-40ab-be5c-2e302f02fb48"
      },
      "execution_count": null,
      "outputs": [
        {
          "output_type": "execute_result",
          "data": {
            "text/plain": [
              "tensor([[5],\n",
              "        [2],\n",
              "        [1]])"
            ]
          },
          "metadata": {},
          "execution_count": 129
        }
      ]
    },
    {
      "cell_type": "markdown",
      "source": [
        "### Reshaping, Stacking, Unstacking, Squeezing and Un-Squeezing Tensors\n",
        "* Reshape - reshapes an input tensor to a defined shape\n",
        "* View - returns the view of an input tensor of certain shape but keep the same memory as original tensor\n",
        "* Stacking - Combining multiple tensors on top of each other - (vstack) or side-by-side (hstack)\n",
        "* Squeeze - Removes all `1` dimension from the tensor\n",
        "* Unsqueeze - Adds `1` dimension to a target tensor\n",
        "* Permute - Returns view of a tensor with the dimensions permuted (swapped) in a certain way\n",
        "\n"
      ],
      "metadata": {
        "id": "Z7njn8ZwtER5"
      }
    },
    {
      "cell_type": "code",
      "source": [
        "## Create a new tensor\n",
        "import torch\n",
        "x = torch.arange(1, 47, 5)\n",
        "x, x.shape"
      ],
      "metadata": {
        "colab": {
          "base_uri": "https://localhost:8080/"
        },
        "id": "rfbvWS5_uyXE",
        "outputId": "48fdb0cb-dd4e-4ded-867f-b9255e7718a0"
      },
      "execution_count": null,
      "outputs": [
        {
          "output_type": "execute_result",
          "data": {
            "text/plain": [
              "(tensor([ 1,  6, 11, 16, 21, 26, 31, 36, 41, 46]), torch.Size([10]))"
            ]
          },
          "metadata": {},
          "execution_count": 151
        }
      ]
    },
    {
      "cell_type": "code",
      "source": [
        "x_reshaped = x.reshape((1, 10))\n",
        "x_reshaped, x_reshaped.shape"
      ],
      "metadata": {
        "colab": {
          "base_uri": "https://localhost:8080/"
        },
        "id": "2bMlUbJyxGdu",
        "outputId": "6ddc75e7-6ab6-45cc-935e-9970a54f60bd"
      },
      "execution_count": null,
      "outputs": [
        {
          "output_type": "execute_result",
          "data": {
            "text/plain": [
              "(tensor([[ 1,  6, 11, 16, 21, 26, 31, 36, 41, 46]]), torch.Size([1, 10]))"
            ]
          },
          "metadata": {},
          "execution_count": 135
        }
      ]
    },
    {
      "cell_type": "code",
      "source": [
        "x_reshaped = x.reshape(2, 5)\n",
        "x_reshaped, x_reshaped.shape"
      ],
      "metadata": {
        "colab": {
          "base_uri": "https://localhost:8080/"
        },
        "id": "tK4MlnEDxHCJ",
        "outputId": "70d4d628-2d0c-4ce8-f6b5-58526cf09b10"
      },
      "execution_count": null,
      "outputs": [
        {
          "output_type": "execute_result",
          "data": {
            "text/plain": [
              "(tensor([[ 1,  6, 11, 16, 21],\n",
              "         [26, 31, 36, 41, 46]]),\n",
              " torch.Size([2, 5]))"
            ]
          },
          "metadata": {},
          "execution_count": 138
        }
      ]
    },
    {
      "cell_type": "code",
      "source": [
        "# Change the view\n",
        "y = torch.arange(1, 47, 5)\n",
        "\n",
        "z = y.view(10, 1)\n",
        "z, z.shape"
      ],
      "metadata": {
        "colab": {
          "base_uri": "https://localhost:8080/"
        },
        "id": "WAKsheQFyk-I",
        "outputId": "bc096a43-a0fe-4f96-bf6f-e782f3937471"
      },
      "execution_count": null,
      "outputs": [
        {
          "output_type": "execute_result",
          "data": {
            "text/plain": [
              "(tensor([[ 1],\n",
              "         [ 6],\n",
              "         [11],\n",
              "         [16],\n",
              "         [21],\n",
              "         [26],\n",
              "         [31],\n",
              "         [36],\n",
              "         [41],\n",
              "         [46]]),\n",
              " torch.Size([10, 1]))"
            ]
          },
          "metadata": {},
          "execution_count": 156
        }
      ]
    },
    {
      "cell_type": "code",
      "source": [
        "z[0][0] = 7\n",
        "z, y"
      ],
      "metadata": {
        "colab": {
          "base_uri": "https://localhost:8080/"
        },
        "id": "jiuKpGJryky9",
        "outputId": "cf3def87-1a72-4b12-cdbf-ab475d1bfc5d"
      },
      "execution_count": null,
      "outputs": [
        {
          "output_type": "execute_result",
          "data": {
            "text/plain": [
              "(tensor([[ 7],\n",
              "         [ 6],\n",
              "         [11],\n",
              "         [16],\n",
              "         [21],\n",
              "         [26],\n",
              "         [31],\n",
              "         [36],\n",
              "         [41],\n",
              "         [46]]),\n",
              " tensor([ 7,  6, 11, 16, 21, 26, 31, 36, 41, 46]))"
            ]
          },
          "metadata": {},
          "execution_count": 157
        }
      ]
    },
    {
      "cell_type": "code",
      "source": [
        "# Stacking\n",
        "\n",
        "tensor_normal = torch.arange(0., 3., 0.5)\n",
        "tensor_normal, tensor_normal.shape\n",
        "\n",
        "tensor_stacked = torch.stack([tensor_normal, tensor_normal, tensor_normal, tensor_normal], dim=1)\n",
        "print(\"Normal - \", tensor_normal,tensor_normal.shape)\n",
        "print(\"Stacked - \",tensor_stacked, tensor_stacked.shape)\n",
        "\n",
        "tensor_stacked_2 = torch.stack([tensor_stacked, tensor_stacked, tensor_stacked], dim=2)\n",
        "print(\"Stacked_2 - \",tensor_stacked_2, tensor_stacked_2.shape)"
      ],
      "metadata": {
        "colab": {
          "base_uri": "https://localhost:8080/"
        },
        "id": "qhBhnFmW0r2h",
        "outputId": "b91e9716-3a4a-4ae8-cad3-48b42a7e9092"
      },
      "execution_count": null,
      "outputs": [
        {
          "output_type": "stream",
          "name": "stdout",
          "text": [
            "Normal -  tensor([0.0000, 0.5000, 1.0000, 1.5000, 2.0000, 2.5000]) torch.Size([6])\n",
            "Stacked -  tensor([[0.0000, 0.0000, 0.0000, 0.0000],\n",
            "        [0.5000, 0.5000, 0.5000, 0.5000],\n",
            "        [1.0000, 1.0000, 1.0000, 1.0000],\n",
            "        [1.5000, 1.5000, 1.5000, 1.5000],\n",
            "        [2.0000, 2.0000, 2.0000, 2.0000],\n",
            "        [2.5000, 2.5000, 2.5000, 2.5000]]) torch.Size([6, 4])\n",
            "Stacked_2 -  tensor([[[0.0000, 0.0000, 0.0000],\n",
            "         [0.0000, 0.0000, 0.0000],\n",
            "         [0.0000, 0.0000, 0.0000],\n",
            "         [0.0000, 0.0000, 0.0000]],\n",
            "\n",
            "        [[0.5000, 0.5000, 0.5000],\n",
            "         [0.5000, 0.5000, 0.5000],\n",
            "         [0.5000, 0.5000, 0.5000],\n",
            "         [0.5000, 0.5000, 0.5000]],\n",
            "\n",
            "        [[1.0000, 1.0000, 1.0000],\n",
            "         [1.0000, 1.0000, 1.0000],\n",
            "         [1.0000, 1.0000, 1.0000],\n",
            "         [1.0000, 1.0000, 1.0000]],\n",
            "\n",
            "        [[1.5000, 1.5000, 1.5000],\n",
            "         [1.5000, 1.5000, 1.5000],\n",
            "         [1.5000, 1.5000, 1.5000],\n",
            "         [1.5000, 1.5000, 1.5000]],\n",
            "\n",
            "        [[2.0000, 2.0000, 2.0000],\n",
            "         [2.0000, 2.0000, 2.0000],\n",
            "         [2.0000, 2.0000, 2.0000],\n",
            "         [2.0000, 2.0000, 2.0000]],\n",
            "\n",
            "        [[2.5000, 2.5000, 2.5000],\n",
            "         [2.5000, 2.5000, 2.5000],\n",
            "         [2.5000, 2.5000, 2.5000],\n",
            "         [2.5000, 2.5000, 2.5000]]]) torch.Size([6, 4, 3])\n"
          ]
        }
      ]
    },
    {
      "cell_type": "code",
      "source": [
        "# Squeeze\n",
        "import torch\n",
        "tensor_sq = torch.tensor([[5, 7, 6, 8, 9, 10]])\n",
        "print(tensor_sq, tensor_sq.shape)\n",
        "\n",
        "tensor_squeezed = tensor_sq.squeeze(dim=0)\n",
        "print(tensor_squeezed, tensor_squeezed.shape)\n",
        "\n",
        "tensor_sq_stacked = torch.stack([tensor_sq],dim=2)\n",
        "print(tensor_sq_stacked, tensor_sq_stacked.shape)\n",
        "\n",
        "a = tensor_sq_stacked.squeeze(dim=2)\n",
        "print(a, a.shape)\n"
      ],
      "metadata": {
        "colab": {
          "base_uri": "https://localhost:8080/"
        },
        "id": "RRBmzS0x3o2i",
        "outputId": "29801f93-b7be-48c0-b131-654c54787abc"
      },
      "execution_count": null,
      "outputs": [
        {
          "output_type": "stream",
          "name": "stdout",
          "text": [
            "tensor([[ 5,  7,  6,  8,  9, 10]]) torch.Size([1, 6])\n",
            "tensor([ 5,  7,  6,  8,  9, 10]) torch.Size([6])\n",
            "tensor([[[ 5],\n",
            "         [ 7],\n",
            "         [ 6],\n",
            "         [ 8],\n",
            "         [ 9],\n",
            "         [10]]]) torch.Size([1, 6, 1])\n",
            "tensor([[ 5,  7,  6,  8,  9, 10]]) torch.Size([1, 6])\n"
          ]
        }
      ]
    },
    {
      "cell_type": "code",
      "source": [
        "# View\n",
        "print(\"tensor_sq --> \", tensor_sq, tensor_sq.shape)\n",
        "\n",
        "print(tensor_sq[0], tensor_sq[0].shape)\n",
        "print(tensor_sq.view(6,1))"
      ],
      "metadata": {
        "colab": {
          "base_uri": "https://localhost:8080/"
        },
        "id": "mtAJVAgZBhiY",
        "outputId": "e036cc98-10e3-4540-b342-d8ec0cb08218"
      },
      "execution_count": null,
      "outputs": [
        {
          "output_type": "stream",
          "name": "stdout",
          "text": [
            "tensor_sq -->  tensor([[ 5,  7,  6,  8,  9, 10]]) torch.Size([1, 6])\n",
            "tensor([ 5,  7,  6,  8,  9, 10]) torch.Size([6])\n",
            "tensor([[ 5],\n",
            "        [ 7],\n",
            "        [ 6],\n",
            "        [ 8],\n",
            "        [ 9],\n",
            "        [10]])\n"
          ]
        }
      ]
    },
    {
      "cell_type": "code",
      "source": [
        "# Squeeeze and Unsqueeze\n",
        "import torch\n",
        "\n",
        "tensor_base = torch.tensor([[3, 5, 6, 2, 6, 8, 9]])\n",
        "print(\"Oriinal Tensor------\\n\", tensor_base, tensor_base.shape)\n",
        "\n",
        "tensor_squeezed = tensor_base.squeeze()\n",
        "print(\"Squeezed Tensor ------\\n\", tensor_squeezed, tensor_squeezed.shape)\n",
        "\n",
        "tensor_unsqueezed = tensor_squeezed.unsqueeze(dim=1)\n",
        "print(\"Unsqueezed Tensor -----\\n\", tensor_unsqueezed, tensor_unsqueezed.shape)\n"
      ],
      "metadata": {
        "colab": {
          "base_uri": "https://localhost:8080/"
        },
        "id": "uVKHSUzJVWSd",
        "outputId": "9d207ebc-ed55-4d98-aef2-216981f766fb"
      },
      "execution_count": null,
      "outputs": [
        {
          "output_type": "stream",
          "name": "stdout",
          "text": [
            "Oriinal Tensor------\n",
            " tensor([[3, 5, 6, 2, 6, 8, 9]]) torch.Size([1, 7])\n",
            "Squeezed Tensor ------\n",
            " tensor([3, 5, 6, 2, 6, 8, 9]) torch.Size([7])\n",
            "Unsqueezed Tensor -----\n",
            " tensor([[3],\n",
            "        [5],\n",
            "        [6],\n",
            "        [2],\n",
            "        [6],\n",
            "        [8],\n",
            "        [9]]) torch.Size([7, 1])\n"
          ]
        }
      ]
    },
    {
      "cell_type": "code",
      "source": [
        "# Permute - Returns view of a tensor with the dimensions permuted (swapped) in a certain way\n",
        "# (Permute gives a view, uses same memory as the original tensor)\n",
        "import torch\n",
        "\n",
        "tensor_orig = torch.randn(size=[224, 224, 3], dtype=torch.float32) # in an image [ height, width, colour_channels]\n",
        "print(\"Original Tensor -----\\n\", tensor_orig, tensor_orig.shape)\n",
        "\n",
        "# Permute - make the colour channel as the first dimension (0th)\n",
        "tensor_rearranged = tensor_orig.permute([2, 0, 1]) # Shifts axis 0->1, 1->2, 2->0\n",
        "print(\"Permuted Tensor -----\\n\", tensor_rearranged, tensor_rearranged.shape)\n",
        "\n",
        "# Exercise - change a value in the new tensor & see if is reflected in the original tensor as well\n",
        "tensor_rearranged[0][1][0] = 25.0\n",
        "\n",
        "print(\"Original Tensor -----\\n\", tensor_orig, tensor_orig.shape)\n",
        "print(\"Permuted Tensor -----\\n\", tensor_rearranged, tensor_rearranged.shape)\n",
        "\n",
        "# Check if the changed value reflected in the original tensor\n",
        "if tensor_orig[1][0][0] == 25.:\n",
        "  print(\"Value changed!....\")"
      ],
      "metadata": {
        "colab": {
          "base_uri": "https://localhost:8080/"
        },
        "id": "PMfV25qcYpF_",
        "outputId": "53959135-dca2-4ae6-acb8-b685592aa038"
      },
      "execution_count": null,
      "outputs": [
        {
          "output_type": "stream",
          "name": "stdout",
          "text": [
            "Original Tensor -----\n",
            " tensor([[[-1.4604e-01, -7.9643e-01,  1.6661e-01],\n",
            "         [-1.3350e+00, -9.1275e-01, -2.3760e+00],\n",
            "         [ 2.3340e+00,  9.2771e-01,  5.1092e-01],\n",
            "         ...,\n",
            "         [-1.0001e+00,  1.1363e-01,  7.9830e-02],\n",
            "         [-5.2466e-01,  2.9741e-01, -3.3094e-01],\n",
            "         [ 5.6956e-01, -1.3749e+00,  6.8877e-01]],\n",
            "\n",
            "        [[-9.9343e-01,  5.7437e-01,  1.0341e+00],\n",
            "         [ 1.4314e-01, -1.4059e+00, -8.6712e-01],\n",
            "         [ 9.3070e-01, -6.1621e-01,  1.3977e+00],\n",
            "         ...,\n",
            "         [-1.2511e+00,  1.3343e-01, -1.4533e+00],\n",
            "         [-6.9044e-01, -2.7743e-01, -1.6216e-01],\n",
            "         [ 2.0483e+00, -1.4046e+00,  4.5684e-01]],\n",
            "\n",
            "        [[ 1.6131e-01,  2.7921e-01, -4.1238e-01],\n",
            "         [-9.5224e-01,  9.3593e-01, -1.2979e+00],\n",
            "         [-1.6581e-01,  1.1169e+00, -1.4415e+00],\n",
            "         ...,\n",
            "         [ 4.9756e-01,  1.0605e+00, -1.8372e+00],\n",
            "         [-1.0708e+00, -3.2067e-01,  4.2886e-01],\n",
            "         [-1.9725e-01,  1.8176e+00,  3.6202e-01]],\n",
            "\n",
            "        ...,\n",
            "\n",
            "        [[-2.4650e-01, -1.4823e+00, -8.2427e-01],\n",
            "         [ 1.4719e-04,  6.6963e-01,  1.0611e+00],\n",
            "         [-9.3593e-01,  9.1636e-01, -8.2967e-01],\n",
            "         ...,\n",
            "         [ 5.2057e-01,  4.6526e-01,  5.8608e-01],\n",
            "         [-2.1528e-01,  1.9871e+00,  1.4137e+00],\n",
            "         [ 3.8001e-02, -1.0156e+00,  8.3602e-01]],\n",
            "\n",
            "        [[ 1.0187e+00, -1.7524e-01,  4.0362e-01],\n",
            "         [ 2.0995e-01, -1.2647e+00, -2.6128e-01],\n",
            "         [-2.1028e+00, -4.0723e-01, -6.1346e-01],\n",
            "         ...,\n",
            "         [ 1.1557e+00,  7.1182e-01, -3.6790e-01],\n",
            "         [ 6.4007e-01, -6.4096e-01, -1.4955e-01],\n",
            "         [-3.9976e-01, -8.3110e-01,  7.3714e-01]],\n",
            "\n",
            "        [[ 7.6295e-01,  7.8852e-01,  4.7577e-01],\n",
            "         [ 1.7007e-01,  1.9050e-01, -1.5132e+00],\n",
            "         [ 3.6949e-02,  6.2129e-01, -1.2631e+00],\n",
            "         ...,\n",
            "         [ 6.3633e-01, -2.9871e-01, -1.0096e-02],\n",
            "         [-8.1997e-01, -8.8532e-01, -7.5827e-01],\n",
            "         [ 2.0945e-01, -6.6589e-02,  3.7211e-01]]]) torch.Size([224, 224, 3])\n",
            "Permuted Tensor -----\n",
            " tensor([[[-1.4604e-01, -1.3350e+00,  2.3340e+00,  ..., -1.0001e+00,\n",
            "          -5.2466e-01,  5.6956e-01],\n",
            "         [-9.9343e-01,  1.4314e-01,  9.3070e-01,  ..., -1.2511e+00,\n",
            "          -6.9044e-01,  2.0483e+00],\n",
            "         [ 1.6131e-01, -9.5224e-01, -1.6581e-01,  ...,  4.9756e-01,\n",
            "          -1.0708e+00, -1.9725e-01],\n",
            "         ...,\n",
            "         [-2.4650e-01,  1.4719e-04, -9.3593e-01,  ...,  5.2057e-01,\n",
            "          -2.1528e-01,  3.8001e-02],\n",
            "         [ 1.0187e+00,  2.0995e-01, -2.1028e+00,  ...,  1.1557e+00,\n",
            "           6.4007e-01, -3.9976e-01],\n",
            "         [ 7.6295e-01,  1.7007e-01,  3.6949e-02,  ...,  6.3633e-01,\n",
            "          -8.1997e-01,  2.0945e-01]],\n",
            "\n",
            "        [[-7.9643e-01, -9.1275e-01,  9.2771e-01,  ...,  1.1363e-01,\n",
            "           2.9741e-01, -1.3749e+00],\n",
            "         [ 5.7437e-01, -1.4059e+00, -6.1621e-01,  ...,  1.3343e-01,\n",
            "          -2.7743e-01, -1.4046e+00],\n",
            "         [ 2.7921e-01,  9.3593e-01,  1.1169e+00,  ...,  1.0605e+00,\n",
            "          -3.2067e-01,  1.8176e+00],\n",
            "         ...,\n",
            "         [-1.4823e+00,  6.6963e-01,  9.1636e-01,  ...,  4.6526e-01,\n",
            "           1.9871e+00, -1.0156e+00],\n",
            "         [-1.7524e-01, -1.2647e+00, -4.0723e-01,  ...,  7.1182e-01,\n",
            "          -6.4096e-01, -8.3110e-01],\n",
            "         [ 7.8852e-01,  1.9050e-01,  6.2129e-01,  ..., -2.9871e-01,\n",
            "          -8.8532e-01, -6.6589e-02]],\n",
            "\n",
            "        [[ 1.6661e-01, -2.3760e+00,  5.1092e-01,  ...,  7.9830e-02,\n",
            "          -3.3094e-01,  6.8877e-01],\n",
            "         [ 1.0341e+00, -8.6712e-01,  1.3977e+00,  ..., -1.4533e+00,\n",
            "          -1.6216e-01,  4.5684e-01],\n",
            "         [-4.1238e-01, -1.2979e+00, -1.4415e+00,  ..., -1.8372e+00,\n",
            "           4.2886e-01,  3.6202e-01],\n",
            "         ...,\n",
            "         [-8.2427e-01,  1.0611e+00, -8.2967e-01,  ...,  5.8608e-01,\n",
            "           1.4137e+00,  8.3602e-01],\n",
            "         [ 4.0362e-01, -2.6128e-01, -6.1346e-01,  ..., -3.6790e-01,\n",
            "          -1.4955e-01,  7.3714e-01],\n",
            "         [ 4.7577e-01, -1.5132e+00, -1.2631e+00,  ..., -1.0096e-02,\n",
            "          -7.5827e-01,  3.7211e-01]]]) torch.Size([3, 224, 224])\n",
            "Original Tensor -----\n",
            " tensor([[[-1.4604e-01, -7.9643e-01,  1.6661e-01],\n",
            "         [-1.3350e+00, -9.1275e-01, -2.3760e+00],\n",
            "         [ 2.3340e+00,  9.2771e-01,  5.1092e-01],\n",
            "         ...,\n",
            "         [-1.0001e+00,  1.1363e-01,  7.9830e-02],\n",
            "         [-5.2466e-01,  2.9741e-01, -3.3094e-01],\n",
            "         [ 5.6956e-01, -1.3749e+00,  6.8877e-01]],\n",
            "\n",
            "        [[ 2.5000e+01,  5.7437e-01,  1.0341e+00],\n",
            "         [ 1.4314e-01, -1.4059e+00, -8.6712e-01],\n",
            "         [ 9.3070e-01, -6.1621e-01,  1.3977e+00],\n",
            "         ...,\n",
            "         [-1.2511e+00,  1.3343e-01, -1.4533e+00],\n",
            "         [-6.9044e-01, -2.7743e-01, -1.6216e-01],\n",
            "         [ 2.0483e+00, -1.4046e+00,  4.5684e-01]],\n",
            "\n",
            "        [[ 1.6131e-01,  2.7921e-01, -4.1238e-01],\n",
            "         [-9.5224e-01,  9.3593e-01, -1.2979e+00],\n",
            "         [-1.6581e-01,  1.1169e+00, -1.4415e+00],\n",
            "         ...,\n",
            "         [ 4.9756e-01,  1.0605e+00, -1.8372e+00],\n",
            "         [-1.0708e+00, -3.2067e-01,  4.2886e-01],\n",
            "         [-1.9725e-01,  1.8176e+00,  3.6202e-01]],\n",
            "\n",
            "        ...,\n",
            "\n",
            "        [[-2.4650e-01, -1.4823e+00, -8.2427e-01],\n",
            "         [ 1.4719e-04,  6.6963e-01,  1.0611e+00],\n",
            "         [-9.3593e-01,  9.1636e-01, -8.2967e-01],\n",
            "         ...,\n",
            "         [ 5.2057e-01,  4.6526e-01,  5.8608e-01],\n",
            "         [-2.1528e-01,  1.9871e+00,  1.4137e+00],\n",
            "         [ 3.8001e-02, -1.0156e+00,  8.3602e-01]],\n",
            "\n",
            "        [[ 1.0187e+00, -1.7524e-01,  4.0362e-01],\n",
            "         [ 2.0995e-01, -1.2647e+00, -2.6128e-01],\n",
            "         [-2.1028e+00, -4.0723e-01, -6.1346e-01],\n",
            "         ...,\n",
            "         [ 1.1557e+00,  7.1182e-01, -3.6790e-01],\n",
            "         [ 6.4007e-01, -6.4096e-01, -1.4955e-01],\n",
            "         [-3.9976e-01, -8.3110e-01,  7.3714e-01]],\n",
            "\n",
            "        [[ 7.6295e-01,  7.8852e-01,  4.7577e-01],\n",
            "         [ 1.7007e-01,  1.9050e-01, -1.5132e+00],\n",
            "         [ 3.6949e-02,  6.2129e-01, -1.2631e+00],\n",
            "         ...,\n",
            "         [ 6.3633e-01, -2.9871e-01, -1.0096e-02],\n",
            "         [-8.1997e-01, -8.8532e-01, -7.5827e-01],\n",
            "         [ 2.0945e-01, -6.6589e-02,  3.7211e-01]]]) torch.Size([224, 224, 3])\n",
            "Permuted Tensor -----\n",
            " tensor([[[-1.4604e-01, -1.3350e+00,  2.3340e+00,  ..., -1.0001e+00,\n",
            "          -5.2466e-01,  5.6956e-01],\n",
            "         [ 2.5000e+01,  1.4314e-01,  9.3070e-01,  ..., -1.2511e+00,\n",
            "          -6.9044e-01,  2.0483e+00],\n",
            "         [ 1.6131e-01, -9.5224e-01, -1.6581e-01,  ...,  4.9756e-01,\n",
            "          -1.0708e+00, -1.9725e-01],\n",
            "         ...,\n",
            "         [-2.4650e-01,  1.4719e-04, -9.3593e-01,  ...,  5.2057e-01,\n",
            "          -2.1528e-01,  3.8001e-02],\n",
            "         [ 1.0187e+00,  2.0995e-01, -2.1028e+00,  ...,  1.1557e+00,\n",
            "           6.4007e-01, -3.9976e-01],\n",
            "         [ 7.6295e-01,  1.7007e-01,  3.6949e-02,  ...,  6.3633e-01,\n",
            "          -8.1997e-01,  2.0945e-01]],\n",
            "\n",
            "        [[-7.9643e-01, -9.1275e-01,  9.2771e-01,  ...,  1.1363e-01,\n",
            "           2.9741e-01, -1.3749e+00],\n",
            "         [ 5.7437e-01, -1.4059e+00, -6.1621e-01,  ...,  1.3343e-01,\n",
            "          -2.7743e-01, -1.4046e+00],\n",
            "         [ 2.7921e-01,  9.3593e-01,  1.1169e+00,  ...,  1.0605e+00,\n",
            "          -3.2067e-01,  1.8176e+00],\n",
            "         ...,\n",
            "         [-1.4823e+00,  6.6963e-01,  9.1636e-01,  ...,  4.6526e-01,\n",
            "           1.9871e+00, -1.0156e+00],\n",
            "         [-1.7524e-01, -1.2647e+00, -4.0723e-01,  ...,  7.1182e-01,\n",
            "          -6.4096e-01, -8.3110e-01],\n",
            "         [ 7.8852e-01,  1.9050e-01,  6.2129e-01,  ..., -2.9871e-01,\n",
            "          -8.8532e-01, -6.6589e-02]],\n",
            "\n",
            "        [[ 1.6661e-01, -2.3760e+00,  5.1092e-01,  ...,  7.9830e-02,\n",
            "          -3.3094e-01,  6.8877e-01],\n",
            "         [ 1.0341e+00, -8.6712e-01,  1.3977e+00,  ..., -1.4533e+00,\n",
            "          -1.6216e-01,  4.5684e-01],\n",
            "         [-4.1238e-01, -1.2979e+00, -1.4415e+00,  ..., -1.8372e+00,\n",
            "           4.2886e-01,  3.6202e-01],\n",
            "         ...,\n",
            "         [-8.2427e-01,  1.0611e+00, -8.2967e-01,  ...,  5.8608e-01,\n",
            "           1.4137e+00,  8.3602e-01],\n",
            "         [ 4.0362e-01, -2.6128e-01, -6.1346e-01,  ..., -3.6790e-01,\n",
            "          -1.4955e-01,  7.3714e-01],\n",
            "         [ 4.7577e-01, -1.5132e+00, -1.2631e+00,  ..., -1.0096e-02,\n",
            "          -7.5827e-01,  3.7211e-01]]]) torch.Size([3, 224, 224])\n",
            "Value changed!....\n"
          ]
        }
      ]
    },
    {
      "cell_type": "code",
      "source": [
        "# Slicing\n",
        "import torch\n",
        "\n",
        "tensor_orig = torch.tensor([[3, 10, 7],\n",
        "                            [7, 34, 45],\n",
        "                            [29, 23, 67],\n",
        "                            [55, 56, 59]])\n",
        "tensor_orig, tensor_orig.shape\n",
        "\n",
        "print(tensor_orig[:3, :4])\n",
        "\n",
        "print(tensor_orig[tensor_orig < 30 ])"
      ],
      "metadata": {
        "id": "DcJDUGEua7bN"
      },
      "execution_count": null,
      "outputs": []
    },
    {
      "cell_type": "code",
      "source": [
        "# Random practice\n",
        "\n",
        "import torch\n",
        "aa = (100 * torch.rand(size=[4, 5], dtype=torch.float32)).int()\n",
        "print(\"Origina;l Tensor -\", aa)\n",
        "\n",
        "aa_truncated = aa [1:3, 1:2]\n",
        "print(\"Truncated Tensor -\", aa_truncated)"
      ],
      "metadata": {
        "colab": {
          "base_uri": "https://localhost:8080/"
        },
        "id": "H5R5K7LWbS7T",
        "outputId": "68920a03-bde8-44a7-aea8-49aa85fe5f9f"
      },
      "execution_count": null,
      "outputs": [
        {
          "output_type": "stream",
          "name": "stdout",
          "text": [
            "Origina;l Tensor - tensor([[70, 21, 91, 35, 40],\n",
            "        [35, 85, 67, 41, 55],\n",
            "        [95, 90, 70, 37, 99],\n",
            "        [17, 50,  8, 33, 65]], dtype=torch.int32)\n",
            "Truncated Tensor - tensor([[85],\n",
            "        [90]], dtype=torch.int32)\n"
          ]
        }
      ]
    },
    {
      "cell_type": "markdown",
      "source": [
        "## Indexing (selecting data from tensors)\n",
        "\n",
        "Indexing with Pytorch is similar to indexing with NumPy"
      ],
      "metadata": {
        "id": "l4iFIqfjgkC0"
      }
    },
    {
      "cell_type": "code",
      "source": [
        "# Indexing\n",
        "import torch\n",
        "\n",
        "new_tensor = torch.arange(1, 19, 1).reshape(2, 3, 3)\n",
        "\n",
        "print(new_tensor, new_tensor.shape)\n",
        "\n",
        "print(\"Indexed tensor :\", new_tensor[:2, :2, :3])\n"
      ],
      "metadata": {
        "colab": {
          "base_uri": "https://localhost:8080/"
        },
        "id": "sOJWYwOwiVzM",
        "outputId": "56d0fb4a-4b93-4c77-f6c8-0177cb93ab4c"
      },
      "execution_count": null,
      "outputs": [
        {
          "output_type": "stream",
          "name": "stdout",
          "text": [
            "tensor([[[ 1,  2,  3],\n",
            "         [ 4,  5,  6],\n",
            "         [ 7,  8,  9]],\n",
            "\n",
            "        [[10, 11, 12],\n",
            "         [13, 14, 15],\n",
            "         [16, 17, 18]]]) torch.Size([2, 3, 3])\n",
            "Indexed tensor : tensor([[[ 1,  2,  3],\n",
            "         [ 4,  5,  6]],\n",
            "\n",
            "        [[10, 11, 12],\n",
            "         [13, 14, 15]]])\n"
          ]
        }
      ]
    },
    {
      "cell_type": "code",
      "source": [
        "## Indexing exercise\n",
        "import torch\n",
        "\n",
        "exerc_tensor = torch.arange(1, 13, 1).reshape(1, 3, 4)\n",
        "print(exerc_tensor)"
      ],
      "metadata": {
        "colab": {
          "base_uri": "https://localhost:8080/"
        },
        "id": "WO4rfpb7idTW",
        "outputId": "d5a9825b-a5f4-42b3-94bf-39cab3b5e095"
      },
      "execution_count": null,
      "outputs": [
        {
          "output_type": "stream",
          "name": "stdout",
          "text": [
            "tensor([[[ 1,  2,  3,  4],\n",
            "         [ 5,  6,  7,  8],\n",
            "         [ 9, 10, 11, 12]]])\n"
          ]
        }
      ]
    },
    {
      "cell_type": "code",
      "source": [
        "print(\"Subset: \", exerc_tensor[0][2][3])\n",
        "print(\"Subset: \", exerc_tensor[:, 2, 3])\n",
        "\n"
      ],
      "metadata": {
        "colab": {
          "base_uri": "https://localhost:8080/"
        },
        "id": "gGfYgZH4WhX3",
        "outputId": "a035ce97-166a-47dd-ebbb-5a83c13e4273"
      },
      "execution_count": null,
      "outputs": [
        {
          "output_type": "stream",
          "name": "stdout",
          "text": [
            "Subset:  tensor(12)\n",
            "Subset:  tensor([12])\n"
          ]
        }
      ]
    },
    {
      "cell_type": "code",
      "source": [
        "print(\"New tensor: \", exerc_tensor[0][2])\n",
        "print(\"New tensor: \", exerc_tensor[0, 2, :])"
      ],
      "metadata": {
        "colab": {
          "base_uri": "https://localhost:8080/"
        },
        "id": "bC4gkExqidFQ",
        "outputId": "bdae4261-686b-4e08-fb9a-dc27a7566924"
      },
      "execution_count": null,
      "outputs": [
        {
          "output_type": "stream",
          "name": "stdout",
          "text": [
            "New tensor:  tensor([ 9, 10, 11, 12])\n",
            "New tensor:  tensor([ 9, 10, 11, 12])\n"
          ]
        }
      ]
    },
    {
      "cell_type": "markdown",
      "source": [
        "## Pytorch and NumPy\n",
        "\n",
        "NumPy is a very popolar scientific numerical computation library. Since PyTorch requires and uses NumPy internally, PyTorch can work with NumPy.\n",
        "\n",
        "* Data in NumPy array -- required in PyTorch tensor -> `torch.from_numpy(ndarray)`\n",
        "* PyTorch tensor --> NumPy --> `torch.Tensor.numpy()`"
      ],
      "metadata": {
        "id": "daAee1SqYvu_"
      }
    },
    {
      "cell_type": "code",
      "source": [
        "# NumPy to PyTorch\n",
        "import torch\n",
        "import numpy as np\n",
        "\n",
        "array = np.arange(1., 8.)\n",
        "tensor = torch.from_numpy(array) # When converting from NumPy -> PyTorch, PyTorch reflects NumPy's default data-type of float64, unless specificed otherwise\n",
        "\n",
        "print(\"Array: \", array,\"\\n\", \"Tensor:\", tensor)\n",
        "\n",
        "# Change the value of `array' and see if it reflects in `tensor`\n",
        "array = array + 1\n",
        "\n",
        "print(\"changed Array: \", array,\"\\n\", \"Tensor:\", tensor)\n",
        "\n",
        "array[0] = 34.0\n",
        "\n",
        "print(\"changed Array: \", array,\"\\n\", \"Tensor:\", tensor)\n"
      ],
      "metadata": {
        "colab": {
          "base_uri": "https://localhost:8080/"
        },
        "id": "_aRuKDNOZ_lh",
        "outputId": "e1013352-b95c-48a9-8171-78ccc9a672e5"
      },
      "execution_count": null,
      "outputs": [
        {
          "output_type": "stream",
          "name": "stdout",
          "text": [
            "Array:  [1. 2. 3. 4. 5. 6. 7.] \n",
            " Tensor: tensor([1., 2., 3., 4., 5., 6., 7.], dtype=torch.float64)\n",
            "changed Array:  [2. 3. 4. 5. 6. 7. 8.] \n",
            " Tensor: tensor([1., 2., 3., 4., 5., 6., 7.], dtype=torch.float64)\n",
            "changed Array:  [34.  3.  4.  5.  6.  7.  8.] \n",
            " Tensor: tensor([1., 2., 3., 4., 5., 6., 7.], dtype=torch.float64)\n"
          ]
        }
      ]
    },
    {
      "cell_type": "code",
      "source": [
        "# Tensor to NumPy\n",
        "my_tensor = torch.ones(8)\n",
        "my_tensor, my_tensor.dtype\n",
        "\n",
        "array = my_tensor.numpy()\n",
        "array, array.dtype\n",
        "\n",
        "my_tensor = my_tensor + 1\n",
        "my_tensor, array"
      ],
      "metadata": {
        "colab": {
          "base_uri": "https://localhost:8080/"
        },
        "id": "hoe9Kv2Dayy1",
        "outputId": "584b0e4e-b89f-4148-e6c1-aaa6deecd784"
      },
      "execution_count": null,
      "outputs": [
        {
          "output_type": "execute_result",
          "data": {
            "text/plain": [
              "(tensor([2., 2., 2., 2., 2., 2., 2., 2.]),\n",
              " array([1., 1., 1., 1., 1., 1., 1., 1.], dtype=float32))"
            ]
          },
          "metadata": {},
          "execution_count": 23
        }
      ]
    },
    {
      "cell_type": "code",
      "source": [
        "# NumPy --> PyTorch practice\n",
        "import torch\n",
        "import numpy as np\n",
        "\n",
        "my_array = np.arange(1, 13, 1).reshape(3,4)\n",
        "my_array\n",
        "\n",
        "my_tensor = torch.from_numpy(my_array)\n",
        "my_tensor"
      ],
      "metadata": {
        "colab": {
          "base_uri": "https://localhost:8080/"
        },
        "id": "9en4HjZhd3e-",
        "outputId": "ed30d569-294f-4bdb-ba3c-de976178f36e"
      },
      "execution_count": null,
      "outputs": [
        {
          "output_type": "execute_result",
          "data": {
            "text/plain": [
              "tensor([[ 1,  2,  3,  4],\n",
              "        [ 5,  6,  7,  8],\n",
              "        [ 9, 10, 11, 12]])"
            ]
          },
          "metadata": {},
          "execution_count": 42
        }
      ]
    },
    {
      "cell_type": "code",
      "source": [
        "my_array[:, 3] = 77\n",
        "print(my_array, my_tensor)"
      ],
      "metadata": {
        "id": "icJApWmPiijt"
      },
      "execution_count": null,
      "outputs": []
    },
    {
      "cell_type": "code",
      "source": [
        "my_tensor[:, 3] = 45 # Here the original array is updated 'in place' and since the\n",
        "print(my_tensor, my_array)\n",
        "\n",
        "my_tensor = my_tensor + 1\n",
        "print(my_tensor, my_array)"
      ],
      "metadata": {
        "colab": {
          "base_uri": "https://localhost:8080/"
        },
        "id": "mrk8tjDYlQcr",
        "outputId": "077a6a3e-66bb-4856-8166-8c817aff8e78"
      },
      "execution_count": null,
      "outputs": [
        {
          "output_type": "stream",
          "name": "stdout",
          "text": [
            "tensor([[ 2,  3,  4, 45],\n",
            "        [ 6,  7,  8, 45],\n",
            "        [10, 11, 12, 45]]) [[ 1  2  3 45]\n",
            " [ 5  6  7 45]\n",
            " [ 9 10 11 45]]\n",
            "tensor([[ 3,  4,  5, 46],\n",
            "        [ 7,  8,  9, 46],\n",
            "        [11, 12, 13, 46]]) [[ 1  2  3 45]\n",
            " [ 5  6  7 45]\n",
            " [ 9 10 11 45]]\n"
          ]
        }
      ]
    },
    {
      "cell_type": "markdown",
      "source": [
        "## Reproducibility - Trying to take random out of random :)\n",
        "\n",
        "In short how the neural network learns is:\n",
        "\n",
        "`Start with random numbers -> tensor opsrations -> update random numbers to try and make them better representation of the data -> again -> again -> again`\n",
        "\n",
        "To reduce the randomness in neural network and PyTorch, comes the concept of **random seed**\n",
        "\n",
        "Essentially what the `random seed` does is it 'flavours` the randomness"
      ],
      "metadata": {
        "id": "VVHXnoWiw-AM"
      }
    },
    {
      "cell_type": "code",
      "source": [
        "#Randomness and ramdom seed\n",
        "import torch\n",
        "tensor = torch.rand(3, 3)\n",
        "\n",
        "tensor\n",
        "\n",
        "# Create two random tensors and compare them\n",
        "random_tensor_A = torch.rand(3, 4)\n",
        "random_tensor_B = torch.rand(3, 4)\n",
        "\n",
        "print(random_tensor_A, \"\\n\", random_tensor_B)\n",
        "print(random_tensor_A == random_tensor_B)"
      ],
      "metadata": {
        "id": "pZ-75mDDxzMu"
      },
      "execution_count": null,
      "outputs": []
    },
    {
      "cell_type": "code",
      "source": [
        "#Let's make some random but reproducible tensors\n",
        "import torch\n",
        "\n",
        "#Set the random seed\n",
        "RANDOM_SEED_1 = 42\n",
        "\n",
        "\n",
        "torch.manual_seed(RANDOM_SEED_1)\n",
        "\n",
        "# Create two random tensors and compare them\n",
        "random_tensor_C = torch.rand(3, 5)\n",
        "torch.manual_seed(RANDOM_SEED_1)\n",
        "random_tensor_D = torch.rand(3, 5)\n",
        "\n",
        "print(random_tensor_C, \"\\n\", random_tensor_D)\n",
        "print(random_tensor_C == random_tensor_D)"
      ],
      "metadata": {
        "id": "SP9xv1-90YzL"
      },
      "execution_count": null,
      "outputs": []
    },
    {
      "cell_type": "markdown",
      "source": [
        "Extra resources for reproducibility -- >\n",
        "\n",
        "* https://pytorch.org/docs/stable/notes/randomness.html\n",
        "\n",
        "* https://towardsdatascience.com/random-seeds-and-reproducibility-933da79446e3\n"
      ],
      "metadata": {
        "id": "83G24JET3E4b"
      }
    },
    {
      "cell_type": "markdown",
      "source": [
        "#### Running Tensors and Pytorch objects on the GPUs ( and making faster Computations )\n",
        "\n",
        "GPUs = faster computation operations on numbers, thanks to CUDA + nVidia Hardware + PyTorch working behind the scene to make everything hunky Dory (Good!)"
      ],
      "metadata": {
        "id": "oE04Nd-gVs0m"
      }
    },
    {
      "cell_type": "markdown",
      "source": [
        "### 1. Getting a GPU\n",
        "1. Use Google Colab for free (easiest) Can Upgrade for fater GPUs and more features\n",
        "2. Use our own GPU - requires a little bit of steup and investment ina GPU hardware, there are a lot of options ( search for `Tim Dettmers GPU`)\n",
        "3. Use Cloud compute - GCP, AWS, Azure and rent Compute and GCU"
      ],
      "metadata": {
        "id": "6G1HAFgNW8C6"
      }
    },
    {
      "cell_type": "code",
      "source": [
        "# 1 Check which GPU is allocated\n",
        "!nvidia-smi"
      ],
      "metadata": {
        "colab": {
          "base_uri": "https://localhost:8080/"
        },
        "id": "JE62mxi1ZXbB",
        "outputId": "771e6082-89e8-4a1d-ea12-11e7033486c7"
      },
      "execution_count": null,
      "outputs": [
        {
          "output_type": "stream",
          "name": "stdout",
          "text": [
            "Fri Jan  5 16:18:01 2024       \n",
            "+---------------------------------------------------------------------------------------+\n",
            "| NVIDIA-SMI 535.104.05             Driver Version: 535.104.05   CUDA Version: 12.2     |\n",
            "|-----------------------------------------+----------------------+----------------------+\n",
            "| GPU  Name                 Persistence-M | Bus-Id        Disp.A | Volatile Uncorr. ECC |\n",
            "| Fan  Temp   Perf          Pwr:Usage/Cap |         Memory-Usage | GPU-Util  Compute M. |\n",
            "|                                         |                      |               MIG M. |\n",
            "|=========================================+======================+======================|\n",
            "|   0  Tesla T4                       Off | 00000000:00:04.0 Off |                    0 |\n",
            "| N/A   53C    P8              11W /  70W |      0MiB / 15360MiB |      0%      Default |\n",
            "|                                         |                      |                  N/A |\n",
            "+-----------------------------------------+----------------------+----------------------+\n",
            "                                                                                         \n",
            "+---------------------------------------------------------------------------------------+\n",
            "| Processes:                                                                            |\n",
            "|  GPU   GI   CI        PID   Type   Process name                            GPU Memory |\n",
            "|        ID   ID                                                             Usage      |\n",
            "|=======================================================================================|\n",
            "|  No running processes found                                                           |\n",
            "+---------------------------------------------------------------------------------------+\n"
          ]
        }
      ]
    },
    {
      "cell_type": "code",
      "source": [
        "# 2. Check if you have GPU access\n",
        "import torch\n",
        "\n",
        "torch.cuda.is_available()"
      ],
      "metadata": {
        "colab": {
          "base_uri": "https://localhost:8080/"
        },
        "id": "uiqUKoZkZX1Z",
        "outputId": "136ea4d1-242d-4606-b580-36441129921d"
      },
      "execution_count": null,
      "outputs": [
        {
          "output_type": "execute_result",
          "data": {
            "text/plain": [
              "True"
            ]
          },
          "metadata": {},
          "execution_count": 5
        }
      ]
    },
    {
      "cell_type": "code",
      "source": [
        "# 3. Setup device agnostic Code - See https://pytorch.org/docs/stable/notes/cuda.html\n",
        "import torch\n",
        "device = \"cuda\" if torch.cuda.is_available() else \"cpu\"\n",
        "device"
      ],
      "metadata": {
        "colab": {
          "base_uri": "https://localhost:8080/",
          "height": 35
        },
        "id": "-exqUOxxb9Q4",
        "outputId": "5c402646-e9a6-4cbf-8ea6-d0dd2507377a"
      },
      "execution_count": 2,
      "outputs": [
        {
          "output_type": "execute_result",
          "data": {
            "text/plain": [
              "'cuda'"
            ],
            "application/vnd.google.colaboratory.intrinsic+json": {
              "type": "string"
            }
          },
          "metadata": {},
          "execution_count": 2
        }
      ]
    },
    {
      "cell_type": "code",
      "source": [
        "# 4. Count the number of GPUs\n",
        "torch.cuda.device_count()"
      ],
      "metadata": {
        "colab": {
          "base_uri": "https://localhost:8080/"
        },
        "id": "nEn-ORPWZX9W",
        "outputId": "0d35198b-b473-44ef-d785-e7059f7d84e4"
      },
      "execution_count": 3,
      "outputs": [
        {
          "output_type": "execute_result",
          "data": {
            "text/plain": [
              "1"
            ]
          },
          "metadata": {},
          "execution_count": 3
        }
      ]
    },
    {
      "cell_type": "markdown",
      "source": [
        "### Putting tensors and models on GPU\n",
        "\n",
        "The reason we want to put tensors and models on GPUs is because GPUs are faster when in comes to numerical calculations"
      ],
      "metadata": {
        "id": "4jbe0Bxa3q1Y"
      }
    },
    {
      "cell_type": "code",
      "source": [
        "# Create a tensor ( note that by default the tensor will be created on CPU)\n",
        "import torch\n",
        "\n",
        "tensor = torch.tensor([1, 2, 3, 4, 5, 6])\n",
        "\n",
        "# Tensor not on GPU\n",
        "print(tensor, tensor.device)\n",
        "\n",
        "device = \"cuda\" if torch.cuda.is_available() else \"cpu\"\n",
        "print(device)\n",
        "\n",
        "tensor_on_gpu = tensor.to(device)\n",
        "print(tensor_on_gpu, tensor_on_gpu.device)\n",
        "\n",
        "tensor_on_gpu[0] = tensor[0] + 1\n",
        "tensor_on_gpu"
      ],
      "metadata": {
        "colab": {
          "base_uri": "https://localhost:8080/"
        },
        "id": "UaBkdMIO385A",
        "outputId": "d0c8aa19-bdc0-42ea-8a28-0d2c23d63f07"
      },
      "execution_count": 14,
      "outputs": [
        {
          "output_type": "stream",
          "name": "stdout",
          "text": [
            "tensor([1, 2, 3, 4, 5, 6]) cpu\n",
            "cuda\n",
            "tensor([1, 2, 3, 4, 5, 6], device='cuda:0') cuda:0\n"
          ]
        },
        {
          "output_type": "execute_result",
          "data": {
            "text/plain": [
              "tensor([2, 2, 3, 4, 5, 6], device='cuda:0')"
            ]
          },
          "metadata": {},
          "execution_count": 14
        }
      ]
    },
    {
      "cell_type": "code",
      "source": [
        "# Create a tensor in, GPU if available, else on CPU\n",
        "import torch\n",
        "\n",
        "# Check if GPU is available\n",
        "device = \"cuda\" if torch.cuda.is_available() else \"cpu\"\n",
        "\n",
        "print(\"GPU is avialble.\" if device == \"cuda\" else \"GPU is not available.\")\n",
        "\n",
        "# Create tensor on GPU if it is avilable\n",
        "new_tensor = torch.rand(size=(2, 4, 5), device=device)\n",
        "\n",
        "# Print tensor and its location\n",
        "print(\"Tensor: \", new_tensor, \"\\n\")\n",
        "print(\"Tensor is created on: \", new_tensor.device)"
      ],
      "metadata": {
        "colab": {
          "base_uri": "https://localhost:8080/"
        },
        "id": "soM4WpaD8Unx",
        "outputId": "aaad76b7-b7f3-43c2-a3bb-c142d7141ada"
      },
      "execution_count": 8,
      "outputs": [
        {
          "output_type": "stream",
          "name": "stdout",
          "text": [
            "GPU is avialble.\n",
            "Tensor:  tensor([[[0.4323, 0.4632, 0.2674, 0.7209, 0.7029],\n",
            "         [0.7235, 0.8554, 0.9816, 0.5303, 0.5163],\n",
            "         [0.0437, 0.8232, 0.4727, 0.3409, 0.8578],\n",
            "         [0.1186, 0.4356, 0.7631, 0.7741, 0.9545]],\n",
            "\n",
            "        [[0.6849, 0.8829, 0.4123, 0.9749, 0.5767],\n",
            "         [0.1702, 0.5360, 0.4538, 0.6159, 0.4624],\n",
            "         [0.0690, 0.6848, 0.4291, 0.3102, 0.3686],\n",
            "         [0.8162, 0.8305, 0.8373, 0.7764, 0.9177]]], device='cuda:0') \n",
            "\n",
            "Tensor is created on:  cuda:0\n"
          ]
        }
      ]
    },
    {
      "cell_type": "markdown",
      "source": [
        "### Moving Tensor Back to CPU\n",
        "\n"
      ],
      "metadata": {
        "id": "CzXcbQu-_Kh5"
      }
    },
    {
      "cell_type": "code",
      "source": [
        "tensor_on_cpu = new_tensor.to(device=\"cpu\")\n",
        "tensor_on_cpu"
      ],
      "metadata": {
        "colab": {
          "base_uri": "https://localhost:8080/"
        },
        "id": "A9WqAK5X_dVe",
        "outputId": "f7ee0bd5-3e69-4149-8b13-16161f3d8591"
      },
      "execution_count": 9,
      "outputs": [
        {
          "output_type": "execute_result",
          "data": {
            "text/plain": [
              "tensor([[[0.4323, 0.4632, 0.2674, 0.7209, 0.7029],\n",
              "         [0.7235, 0.8554, 0.9816, 0.5303, 0.5163],\n",
              "         [0.0437, 0.8232, 0.4727, 0.3409, 0.8578],\n",
              "         [0.1186, 0.4356, 0.7631, 0.7741, 0.9545]],\n",
              "\n",
              "        [[0.6849, 0.8829, 0.4123, 0.9749, 0.5767],\n",
              "         [0.1702, 0.5360, 0.4538, 0.6159, 0.4624],\n",
              "         [0.0690, 0.6848, 0.4291, 0.3102, 0.3686],\n",
              "         [0.8162, 0.8305, 0.8373, 0.7764, 0.9177]]])"
            ]
          },
          "metadata": {},
          "execution_count": 9
        }
      ]
    },
    {
      "cell_type": "code",
      "source": [
        "# Numpy doesn't work on GPUs - below code will throw error\n",
        "new_tensor.numpy()"
      ],
      "metadata": {
        "colab": {
          "base_uri": "https://localhost:8080/",
          "height": 193
        },
        "id": "MzPQPLrI_zaZ",
        "outputId": "ea167622-7df3-4b5c-c472-ef5a2da2ed61"
      },
      "execution_count": 10,
      "outputs": [
        {
          "output_type": "error",
          "ename": "TypeError",
          "evalue": "can't convert cuda:0 device type tensor to numpy. Use Tensor.cpu() to copy the tensor to host memory first.",
          "traceback": [
            "\u001b[0;31m---------------------------------------------------------------------------\u001b[0m",
            "\u001b[0;31mTypeError\u001b[0m                                 Traceback (most recent call last)",
            "\u001b[0;32m<ipython-input-10-41ae6f914512>\u001b[0m in \u001b[0;36m<cell line: 2>\u001b[0;34m()\u001b[0m\n\u001b[1;32m      1\u001b[0m \u001b[0;31m# Numpy doesn't work on GPUs - below code will throw error\u001b[0m\u001b[0;34m\u001b[0m\u001b[0;34m\u001b[0m\u001b[0m\n\u001b[0;32m----> 2\u001b[0;31m \u001b[0mnew_tensor\u001b[0m\u001b[0;34m.\u001b[0m\u001b[0mnumpy\u001b[0m\u001b[0;34m(\u001b[0m\u001b[0;34m)\u001b[0m\u001b[0;34m\u001b[0m\u001b[0;34m\u001b[0m\u001b[0m\n\u001b[0m",
            "\u001b[0;31mTypeError\u001b[0m: can't convert cuda:0 device type tensor to numpy. Use Tensor.cpu() to copy the tensor to host memory first."
          ]
        }
      ]
    },
    {
      "cell_type": "code",
      "source": [
        "# To fix the issue we need to move the tensor the tensor to cpu first\n",
        "new_tensor = new_tensor.to(\"cpu\")\n",
        "print(new_tensor.numpy())\n",
        "\n",
        "float_tensor = torch.ones(1, dtype=torch.float)\n",
        "float_tensor\n",
        "\n",
        "torch.cuda.get_arch_list()"
      ],
      "metadata": {
        "colab": {
          "base_uri": "https://localhost:8080/"
        },
        "id": "Qs8X_trrATxS",
        "outputId": "fb5e562a-467c-4896-eb65-587e9868b541"
      },
      "execution_count": 13,
      "outputs": [
        {
          "output_type": "stream",
          "name": "stdout",
          "text": [
            "[[[0.4322665  0.46318787 0.26743305 0.7208911  0.70294046]\n",
            "  [0.723533   0.8554372  0.9816378  0.5302996  0.51631933]\n",
            "  [0.04368951 0.82317877 0.47274747 0.34088263 0.85776335]\n",
            "  [0.11864819 0.43559125 0.7630655  0.7740535  0.9544637 ]]\n",
            "\n",
            " [[0.68487066 0.8828542  0.41231424 0.97488946 0.5766735 ]\n",
            "  [0.17016324 0.5360236  0.45376846 0.61594564 0.4624448 ]\n",
            "  [0.06899366 0.6848174  0.42909655 0.31015438 0.36855298]\n",
            "  [0.8162316  0.83046    0.83731085 0.776434   0.9177033 ]]]\n"
          ]
        },
        {
          "output_type": "execute_result",
          "data": {
            "text/plain": [
              "['sm_50', 'sm_60', 'sm_70', 'sm_75', 'sm_80', 'sm_86', 'sm_90']"
            ]
          },
          "metadata": {},
          "execution_count": 13
        }
      ]
    }
  ]
}
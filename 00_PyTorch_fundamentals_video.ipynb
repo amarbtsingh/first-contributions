{
  "nbformat": 4,
  "nbformat_minor": 0,
  "metadata": {
    "colab": {
      "provenance": [],
      "authorship_tag": "ABX9TyNjKzJQdr/iWBsz/FG+aud2",
      "include_colab_link": true
    },
    "kernelspec": {
      "name": "python3",
      "display_name": "Python 3"
    },
    "language_info": {
      "name": "python"
    }
  },
  "cells": [
    {
      "cell_type": "markdown",
      "metadata": {
        "id": "view-in-github",
        "colab_type": "text"
      },
      "source": [
        "<a href=\"https://colab.research.google.com/github/amarbtsingh/first-contributions/blob/main/00_PyTorch_fundamentals_video.ipynb\" target=\"_parent\"><img src=\"https://colab.research.google.com/assets/colab-badge.svg\" alt=\"Open In Colab\"/></a>"
      ]
    },
    {
      "cell_type": "code",
      "execution_count": null,
      "metadata": {
        "colab": {
          "base_uri": "https://localhost:8080/"
        },
        "id": "gto9Qt2pJft3",
        "outputId": "5272452d-af96-47ff-8ff1-c262586ec3a2"
      },
      "outputs": [
        {
          "output_type": "stream",
          "name": "stdout",
          "text": [
            "2.1.0+cu121\n"
          ]
        }
      ],
      "source": [
        "import torch\n",
        "import pandas as pd\n",
        "import matplotlib.pyplot as plt\n",
        "\n",
        "print(torch.__version__)"
      ]
    },
    {
      "cell_type": "markdown",
      "source": [
        "## Introduction to Tensors\n",
        "\n",
        "Creating Tensors"
      ],
      "metadata": {
        "id": "r79ifXbGLJTS"
      }
    },
    {
      "cell_type": "markdown",
      "source": [
        "Scalar"
      ],
      "metadata": {
        "id": "1bgkyIJLMy0j"
      }
    },
    {
      "cell_type": "code",
      "source": [
        "scalar = torch.tensor(7) # number 7 is being initialised as a scalar\n",
        "\n",
        "print(scalar)\n",
        "\n",
        "scalar.ndim\n",
        "\n",
        "print(type(scalar))\n"
      ],
      "metadata": {
        "colab": {
          "base_uri": "https://localhost:8080/"
        },
        "id": "lFkg3f6cM2fE",
        "outputId": "e263cc73-d84b-4c84-c08e-cb9353a3d957"
      },
      "execution_count": null,
      "outputs": [
        {
          "output_type": "stream",
          "name": "stdout",
          "text": [
            "tensor(7)\n",
            "<class 'torch.Tensor'>\n"
          ]
        }
      ]
    },
    {
      "cell_type": "markdown",
      "source": [
        "Get tensor back as a python basic datatype"
      ],
      "metadata": {
        "id": "fZpD3ZSzdvGY"
      }
    },
    {
      "cell_type": "code",
      "source": [
        "print(type(scalar.item()))"
      ],
      "metadata": {
        "colab": {
          "base_uri": "https://localhost:8080/"
        },
        "id": "gCFOfI1Cd2l9",
        "outputId": "7c96ad03-9b6e-4109-9eb0-82356e6c82fd"
      },
      "execution_count": null,
      "outputs": [
        {
          "output_type": "stream",
          "name": "stdout",
          "text": [
            "<class 'int'>\n"
          ]
        }
      ]
    },
    {
      "cell_type": "markdown",
      "source": [
        "Vector"
      ],
      "metadata": {
        "id": "XVThc-beeEF8"
      }
    },
    {
      "cell_type": "code",
      "source": [
        "vector = torch.tensor([4, 6, 7])\n",
        "\n",
        "print(vector)\n",
        "vector.ndim"
      ],
      "metadata": {
        "colab": {
          "base_uri": "https://localhost:8080/"
        },
        "id": "rk_drIVfeGaZ",
        "outputId": "61c0c819-417c-4e6d-b3ec-3516b7daf002"
      },
      "execution_count": null,
      "outputs": [
        {
          "output_type": "stream",
          "name": "stdout",
          "text": [
            "tensor([4, 6, 7])\n"
          ]
        },
        {
          "output_type": "execute_result",
          "data": {
            "text/plain": [
              "1"
            ]
          },
          "metadata": {},
          "execution_count": 76
        }
      ]
    },
    {
      "cell_type": "code",
      "source": [
        "vector.shape"
      ],
      "metadata": {
        "colab": {
          "base_uri": "https://localhost:8080/"
        },
        "id": "lrOvL8Nte4Jl",
        "outputId": "a8118b74-3dc6-4fd7-b2fe-6ee2185f7f8c"
      },
      "execution_count": null,
      "outputs": [
        {
          "output_type": "execute_result",
          "data": {
            "text/plain": [
              "torch.Size([3])"
            ]
          },
          "metadata": {},
          "execution_count": 77
        }
      ]
    },
    {
      "cell_type": "code",
      "source": [
        "# MATRIX\n",
        "MATRIX = torch.tensor([[1, 2, 3],\n",
        "                       [4, 5, 6],\n",
        "                       [7, 8, 9]])"
      ],
      "metadata": {
        "id": "BbchgXmKfSG-"
      },
      "execution_count": null,
      "outputs": []
    },
    {
      "cell_type": "code",
      "source": [
        "print(MATRIX)\n",
        "print(MATRIX.ndim)\n",
        "print(MATRIX.shape)"
      ],
      "metadata": {
        "colab": {
          "base_uri": "https://localhost:8080/"
        },
        "id": "heBIujrNfwV7",
        "outputId": "53f0ae62-e42d-4517-fc49-b50cdea86c1b"
      },
      "execution_count": null,
      "outputs": [
        {
          "output_type": "stream",
          "name": "stdout",
          "text": [
            "tensor([[1, 2, 3],\n",
            "        [4, 5, 6],\n",
            "        [7, 8, 9]])\n",
            "2\n",
            "torch.Size([3, 3])\n"
          ]
        }
      ]
    },
    {
      "cell_type": "code",
      "source": [
        "# 0th element\n",
        "print(MATRIX[0])\n",
        "print(MATRIX[0].ndim)"
      ],
      "metadata": {
        "colab": {
          "base_uri": "https://localhost:8080/"
        },
        "id": "zxKNhEdJf8IL",
        "outputId": "d725fa53-aed0-44eb-b571-d9262b02cabb"
      },
      "execution_count": null,
      "outputs": [
        {
          "output_type": "stream",
          "name": "stdout",
          "text": [
            "tensor([1, 2, 3])\n",
            "1\n"
          ]
        }
      ]
    },
    {
      "cell_type": "code",
      "source": [
        "# TENSOR\n",
        "\n",
        "TENSOR = torch.tensor([[[1, 8, 3],\n",
        "                        [7, 0, 1],\n",
        "                        [9, 10, 45]]])"
      ],
      "metadata": {
        "id": "wrtltcjIgg36"
      },
      "execution_count": null,
      "outputs": []
    },
    {
      "cell_type": "code",
      "source": [
        "print(TENSOR)\n",
        "print(TENSOR.ndim)\n",
        "print(TENSOR.shape)"
      ],
      "metadata": {
        "colab": {
          "base_uri": "https://localhost:8080/"
        },
        "id": "wL49masXhmvx",
        "outputId": "d429320f-84ae-48ac-b3da-370c5ba80b8f"
      },
      "execution_count": null,
      "outputs": [
        {
          "output_type": "stream",
          "name": "stdout",
          "text": [
            "tensor([[[ 1,  8,  3],\n",
            "         [ 7,  0,  1],\n",
            "         [ 9, 10, 45]]])\n",
            "3\n",
            "torch.Size([1, 3, 3])\n"
          ]
        }
      ]
    },
    {
      "cell_type": "code",
      "source": [
        "TENSOR[0]"
      ],
      "metadata": {
        "colab": {
          "base_uri": "https://localhost:8080/"
        },
        "id": "MXuO_opaho_M",
        "outputId": "47f7b262-9133-4925-8991-5c72b75b9ab2"
      },
      "execution_count": null,
      "outputs": [
        {
          "output_type": "execute_result",
          "data": {
            "text/plain": [
              "tensor([[ 1,  8,  3],\n",
              "        [ 7,  0,  1],\n",
              "        [ 9, 10, 45]])"
            ]
          },
          "metadata": {},
          "execution_count": 83
        }
      ]
    },
    {
      "cell_type": "code",
      "source": [
        "# TENSOR_4D\n",
        "TENSOR_4D = torch.tensor([\n",
        "    [\n",
        "      [\n",
        "          [ 1,  2,  3,  4],\n",
        "          [ 5,  6,  7,  8],\n",
        "          [ 9, 10, 11, 12]\n",
        "      ],\n",
        "\n",
        "      [\n",
        "          [21, 22, 23, 24],\n",
        "          [25, 26, 27, 28],\n",
        "          [ 9, 10, 11, 12]\n",
        "      ]\n",
        "    ],\n",
        "\n",
        "    [\n",
        "        [\n",
        "            [31, 32, 33, 34],\n",
        "            [35, 36, 37, 38],\n",
        "            [39, 40, 41, 42]\n",
        "        ],\n",
        "\n",
        "        [\n",
        "            [ 12,  22,  23,  24],\n",
        "            [ 25,  26,  27,  28],\n",
        "            [ 9, 10, 11, 12]\n",
        "        ]\n",
        "    ],\n",
        "\n",
        "    [\n",
        "        [\n",
        "            [41, 42, 43, 44],\n",
        "            [25, 26, 27, 28],\n",
        "            [ 29, 30, 31, 32]\n",
        "        ],\n",
        "\n",
        "      [\n",
        "          [51, 52, 53, 54],\n",
        "          [75, 76, 77, 78],\n",
        "          [89, 80, 81, 82]\n",
        "      ],\n",
        "    ]\n",
        "  ])\n",
        "TENSOR_4D"
      ],
      "metadata": {
        "colab": {
          "base_uri": "https://localhost:8080/"
        },
        "id": "XtkI7u26i2uX",
        "outputId": "cc9a0fdd-cd28-4a77-8a72-0a9df066be5a"
      },
      "execution_count": null,
      "outputs": [
        {
          "output_type": "execute_result",
          "data": {
            "text/plain": [
              "tensor([[[[ 1,  2,  3,  4],\n",
              "          [ 5,  6,  7,  8],\n",
              "          [ 9, 10, 11, 12]],\n",
              "\n",
              "         [[21, 22, 23, 24],\n",
              "          [25, 26, 27, 28],\n",
              "          [ 9, 10, 11, 12]]],\n",
              "\n",
              "\n",
              "        [[[31, 32, 33, 34],\n",
              "          [35, 36, 37, 38],\n",
              "          [39, 40, 41, 42]],\n",
              "\n",
              "         [[12, 22, 23, 24],\n",
              "          [25, 26, 27, 28],\n",
              "          [ 9, 10, 11, 12]]],\n",
              "\n",
              "\n",
              "        [[[41, 42, 43, 44],\n",
              "          [25, 26, 27, 28],\n",
              "          [29, 30, 31, 32]],\n",
              "\n",
              "         [[51, 52, 53, 54],\n",
              "          [75, 76, 77, 78],\n",
              "          [89, 80, 81, 82]]]])"
            ]
          },
          "metadata": {},
          "execution_count": 84
        }
      ]
    },
    {
      "cell_type": "code",
      "source": [
        "print(TENSOR_4D.ndim)\n",
        "print(TENSOR_4D.shape)"
      ],
      "metadata": {
        "colab": {
          "base_uri": "https://localhost:8080/"
        },
        "id": "NUczdED-kQga",
        "outputId": "1d635328-a201-4faf-8615-3513a63f5575"
      },
      "execution_count": null,
      "outputs": [
        {
          "output_type": "stream",
          "name": "stdout",
          "text": [
            "4\n",
            "torch.Size([3, 2, 3, 4])\n"
          ]
        }
      ]
    },
    {
      "cell_type": "code",
      "source": [
        "print(TENSOR_4D[2][1][1])"
      ],
      "metadata": {
        "colab": {
          "base_uri": "https://localhost:8080/"
        },
        "id": "CBN--8c3umQE",
        "outputId": "4896740f-f46b-4dcf-fa8b-1468a12fdf2b"
      },
      "execution_count": null,
      "outputs": [
        {
          "output_type": "stream",
          "name": "stdout",
          "text": [
            "tensor([75, 76, 77, 78])\n"
          ]
        }
      ]
    },
    {
      "cell_type": "markdown",
      "source": [
        "### Random Tensor"
      ],
      "metadata": {
        "id": "0E80_VUgj4nl"
      }
    },
    {
      "cell_type": "markdown",
      "source": [
        "Why random tensors?\n",
        "\n",
        "Random tensors are important because the way many Neural networks work is, they start with tensors filled with big random numbers and work there way to adjust these random numbers to better represent data.\n",
        "\n",
        "`Start with random numebrs --> Look at Data --> Update random numbers --> Look at Data --> Update random numbers `\n",
        "\n",
        "Random Tensor Docs -->\n",
        "https://pytorch.org/docs/stable/generated/torch.rand.html"
      ],
      "metadata": {
        "id": "qvEYMAfPj-jX"
      }
    },
    {
      "cell_type": "code",
      "source": [
        "## Create a random tensor of size (3, 4)\n",
        "random_tensor = torch.rand([3, 4])\n",
        "random_tensor, random_tensor.dtype"
      ],
      "metadata": {
        "colab": {
          "base_uri": "https://localhost:8080/"
        },
        "id": "2J2OLTJflOhg",
        "outputId": "ba0823cf-bdfe-4c1b-bfa9-146dd3d93fb7"
      },
      "execution_count": null,
      "outputs": [
        {
          "output_type": "execute_result",
          "data": {
            "text/plain": [
              "(tensor([[0.5594, 0.5105, 0.6670, 0.7721],\n",
              "         [0.3371, 0.8614, 0.0336, 0.7084],\n",
              "         [0.4157, 0.1375, 0.2742, 0.9491]]),\n",
              " torch.float32)"
            ]
          },
          "metadata": {},
          "execution_count": 87
        }
      ]
    },
    {
      "cell_type": "code",
      "source": [
        "print(random_tensor.ndim)\n",
        "print(random_tensor.size())\n"
      ],
      "metadata": {
        "colab": {
          "base_uri": "https://localhost:8080/"
        },
        "id": "vwckmaJZNwIr",
        "outputId": "4864780f-cf94-4b5e-8309-605e3bc72c18"
      },
      "execution_count": null,
      "outputs": [
        {
          "output_type": "stream",
          "name": "stdout",
          "text": [
            "2\n",
            "torch.Size([3, 4])\n"
          ]
        }
      ]
    },
    {
      "cell_type": "markdown",
      "source": [
        "Create a random tensor with size of that of an image"
      ],
      "metadata": {
        "id": "ba0UsYhcO2Fq"
      }
    },
    {
      "cell_type": "code",
      "source": [
        "random_image_size_tensor = torch.rand(size = [224, 224, 3]) # Image size = (224, 224, 3) Height x Width x Color Channels ()\n",
        "random_image_size_tensor.shape, random_image_size_tensor.ndim"
      ],
      "metadata": {
        "colab": {
          "base_uri": "https://localhost:8080/"
        },
        "id": "8n6R9iuUPQ1y",
        "outputId": "03065c56-1a2d-479e-b890-0badae3387fb"
      },
      "execution_count": null,
      "outputs": [
        {
          "output_type": "execute_result",
          "data": {
            "text/plain": [
              "(torch.Size([224, 224, 3]), 3)"
            ]
          },
          "metadata": {},
          "execution_count": 89
        }
      ]
    },
    {
      "cell_type": "code",
      "source": [
        "random_image_size_tensor"
      ],
      "metadata": {
        "colab": {
          "base_uri": "https://localhost:8080/"
        },
        "id": "hlzg6DiAQ2Jg",
        "outputId": "8003fed6-9672-4fa6-c3da-35c3a14105c8"
      },
      "execution_count": null,
      "outputs": [
        {
          "output_type": "execute_result",
          "data": {
            "text/plain": [
              "tensor([[[0.9289, 0.9331, 0.5077],\n",
              "         [0.0183, 0.5874, 0.5099],\n",
              "         [0.9573, 0.9993, 0.8078],\n",
              "         ...,\n",
              "         [0.1234, 0.8389, 0.2189],\n",
              "         [0.6502, 0.2019, 0.8893],\n",
              "         [0.2654, 0.5809, 0.3976]],\n",
              "\n",
              "        [[0.0166, 0.5477, 0.2320],\n",
              "         [0.9178, 0.8798, 0.5019],\n",
              "         [0.7995, 0.4503, 0.5503],\n",
              "         ...,\n",
              "         [0.1395, 0.5197, 0.1737],\n",
              "         [0.5452, 0.3704, 0.3455],\n",
              "         [0.0796, 0.5413, 0.0659]],\n",
              "\n",
              "        [[0.3992, 0.6238, 0.8062],\n",
              "         [0.0528, 0.9275, 0.7350],\n",
              "         [0.8925, 0.9119, 0.0976],\n",
              "         ...,\n",
              "         [0.2798, 0.9632, 0.9533],\n",
              "         [0.1126, 0.8930, 0.3689],\n",
              "         [0.8230, 0.0353, 0.6029]],\n",
              "\n",
              "        ...,\n",
              "\n",
              "        [[0.2499, 0.2750, 0.6234],\n",
              "         [0.1626, 0.1020, 0.1411],\n",
              "         [0.0694, 0.4897, 0.0845],\n",
              "         ...,\n",
              "         [0.2218, 0.0632, 0.0778],\n",
              "         [0.6387, 0.1871, 0.1654],\n",
              "         [0.7844, 0.4674, 0.3943]],\n",
              "\n",
              "        [[0.4843, 0.3300, 0.5379],\n",
              "         [0.0582, 0.1312, 0.6086],\n",
              "         [0.1127, 0.2416, 0.2513],\n",
              "         ...,\n",
              "         [0.8007, 0.4313, 0.9984],\n",
              "         [0.2157, 0.4903, 0.1208],\n",
              "         [0.7019, 0.6182, 0.6629]],\n",
              "\n",
              "        [[0.0232, 0.9816, 0.7428],\n",
              "         [0.7942, 0.0907, 0.9667],\n",
              "         [0.2659, 0.1219, 0.4539],\n",
              "         ...,\n",
              "         [0.9031, 0.6824, 0.7387],\n",
              "         [0.8981, 0.1098, 0.6107],\n",
              "         [0.3807, 0.5567, 0.7331]]])"
            ]
          },
          "metadata": {},
          "execution_count": 90
        }
      ]
    },
    {
      "cell_type": "code",
      "source": [
        "exerc_random_tensor = torch.rand(size= (3,30,30) ) #3 channel color image of 30x30 pixels\n",
        "exerc_random_tensor.shape, exerc_random_tensor.ndim"
      ],
      "metadata": {
        "colab": {
          "base_uri": "https://localhost:8080/"
        },
        "id": "c8f8CsAVRH2Z",
        "outputId": "96bd0a0f-d95e-4c01-ce2b-9affa9e6b56b"
      },
      "execution_count": null,
      "outputs": [
        {
          "output_type": "execute_result",
          "data": {
            "text/plain": [
              "(torch.Size([3, 30, 30]), 3)"
            ]
          },
          "metadata": {},
          "execution_count": 91
        }
      ]
    },
    {
      "cell_type": "code",
      "source": [
        "exerc_random_tensor"
      ],
      "metadata": {
        "colab": {
          "base_uri": "https://localhost:8080/"
        },
        "id": "eb2zq84wRh-x",
        "outputId": "f077f475-fdf5-40d4-d62f-4b8fd8638ecc"
      },
      "execution_count": null,
      "outputs": [
        {
          "output_type": "execute_result",
          "data": {
            "text/plain": [
              "tensor([[[0.4005, 0.3301, 0.5367,  ..., 0.4517, 0.8158, 0.5001],\n",
              "         [0.5977, 0.5609, 0.9768,  ..., 0.9014, 0.2152, 0.7421],\n",
              "         [0.9332, 0.4691, 0.6569,  ..., 0.0053, 0.2777, 0.4105],\n",
              "         ...,\n",
              "         [0.9458, 0.0191, 0.2945,  ..., 0.5127, 0.1568, 0.9152],\n",
              "         [0.7736, 0.2568, 0.9831,  ..., 0.0476, 0.9998, 0.4889],\n",
              "         [0.8373, 0.1826, 0.2561,  ..., 0.7575, 0.8023, 0.8121]],\n",
              "\n",
              "        [[0.3637, 0.7017, 0.3403,  ..., 0.7013, 0.4659, 0.9225],\n",
              "         [0.9583, 0.3826, 0.4452,  ..., 0.9911, 0.8528, 0.6852],\n",
              "         [0.5627, 0.8050, 0.7323,  ..., 0.8013, 0.3313, 0.3992],\n",
              "         ...,\n",
              "         [0.7699, 0.5369, 0.1523,  ..., 0.2443, 0.7225, 0.9264],\n",
              "         [0.2592, 0.4294, 0.1472,  ..., 0.9693, 0.5868, 0.3992],\n",
              "         [0.7225, 0.9678, 0.4739,  ..., 0.8526, 0.0574, 0.6495]],\n",
              "\n",
              "        [[0.9671, 0.6059, 0.3525,  ..., 0.0616, 0.4262, 0.0187],\n",
              "         [0.4032, 0.9974, 0.9585,  ..., 0.4232, 0.6443, 0.4746],\n",
              "         [0.1316, 0.1215, 0.0538,  ..., 0.2220, 0.9068, 0.7666],\n",
              "         ...,\n",
              "         [0.4652, 0.5103, 0.3161,  ..., 0.1794, 0.9794, 0.0877],\n",
              "         [0.5633, 0.8102, 0.6378,  ..., 0.0418, 0.5715, 0.4322],\n",
              "         [0.8950, 0.0037, 0.7593,  ..., 0.6836, 0.5170, 0.5825]]])"
            ]
          },
          "metadata": {},
          "execution_count": 92
        }
      ]
    },
    {
      "cell_type": "markdown",
      "source": [
        "##Zeros and Ones"
      ],
      "metadata": {
        "id": "gptXleAbSBR-"
      }
    },
    {
      "cell_type": "code",
      "source": [
        "#Create Tensor of all Zeros\n",
        "zeros = torch.zeros(size=[3, 4])\n",
        "zeros.size()"
      ],
      "metadata": {
        "colab": {
          "base_uri": "https://localhost:8080/"
        },
        "id": "y9Ie9MVASE2m",
        "outputId": "6d464397-fe19-4220-e9b1-129f916aa94f"
      },
      "execution_count": null,
      "outputs": [
        {
          "output_type": "execute_result",
          "data": {
            "text/plain": [
              "torch.Size([3, 4])"
            ]
          },
          "metadata": {},
          "execution_count": 93
        }
      ]
    },
    {
      "cell_type": "code",
      "source": [
        "zeros * random_tensor"
      ],
      "metadata": {
        "colab": {
          "base_uri": "https://localhost:8080/"
        },
        "id": "b65v-164TWcH",
        "outputId": "537b1d5e-96cb-4320-95bb-447266cdafa2"
      },
      "execution_count": null,
      "outputs": [
        {
          "output_type": "execute_result",
          "data": {
            "text/plain": [
              "tensor([[0., 0., 0., 0.],\n",
              "        [0., 0., 0., 0.],\n",
              "        [0., 0., 0., 0.]])"
            ]
          },
          "metadata": {},
          "execution_count": 94
        }
      ]
    },
    {
      "cell_type": "code",
      "source": [
        "# Create a tensor of all ones\n",
        "ones = torch.ones(size=[3, 4])\n",
        "print(ones, ones.ndim)\n",
        "ones * random_tensor"
      ],
      "metadata": {
        "colab": {
          "base_uri": "https://localhost:8080/"
        },
        "id": "0i6EbI-fdb_e",
        "outputId": "4255f235-c001-4b8c-9975-419c98ece412"
      },
      "execution_count": null,
      "outputs": [
        {
          "output_type": "stream",
          "name": "stdout",
          "text": [
            "tensor([[1., 1., 1., 1.],\n",
            "        [1., 1., 1., 1.],\n",
            "        [1., 1., 1., 1.]]) 2\n"
          ]
        },
        {
          "output_type": "execute_result",
          "data": {
            "text/plain": [
              "tensor([[0.5594, 0.5105, 0.6670, 0.7721],\n",
              "        [0.3371, 0.8614, 0.0336, 0.7084],\n",
              "        [0.4157, 0.1375, 0.2742, 0.9491]])"
            ]
          },
          "metadata": {},
          "execution_count": 95
        }
      ]
    },
    {
      "cell_type": "markdown",
      "source": [
        "#Creating a range of tensors and tensor-like\n",
        "\n",
        "#torch.arange() --> https://pytorch.org/docs/stable/generated/torch.arange.html\n",
        "#torch.zeros_like() --> https://pytorch.org/docs/stable/generated/torch.zeros_like.html\n",
        "#torch.ones)like() --> https://pytorch.org/docs/stable/generated/torch.ones_like.html"
      ],
      "metadata": {
        "id": "jOjP1fXogb74"
      }
    },
    {
      "cell_type": "code",
      "source": [
        "# Create a tensor with arange\n",
        "range_tensor = torch.arange(start=10, end=30, step=2)\n",
        "range_tensor"
      ],
      "metadata": {
        "colab": {
          "base_uri": "https://localhost:8080/"
        },
        "id": "JNeyNp7Lggp7",
        "outputId": "dfa7ae20-4397-46ca-a6f9-0782ff1641f1"
      },
      "execution_count": null,
      "outputs": [
        {
          "output_type": "execute_result",
          "data": {
            "text/plain": [
              "tensor([10, 12, 14, 16, 18, 20, 22, 24, 26, 28])"
            ]
          },
          "metadata": {},
          "execution_count": 96
        }
      ]
    },
    {
      "cell_type": "code",
      "source": [
        "#Create a zeros like tensor with same shape as another tensor\n",
        "zeros_like_tensor = torch.zeros_like(input= range_tensor)\n",
        "zeros_like_tensor"
      ],
      "metadata": {
        "colab": {
          "base_uri": "https://localhost:8080/"
        },
        "id": "deYmW9kdjs3T",
        "outputId": "d19c77db-bdf8-437b-da3e-22b204c73d58"
      },
      "execution_count": null,
      "outputs": [
        {
          "output_type": "execute_result",
          "data": {
            "text/plain": [
              "tensor([0, 0, 0, 0, 0, 0, 0, 0, 0, 0])"
            ]
          },
          "metadata": {},
          "execution_count": 97
        }
      ]
    },
    {
      "cell_type": "code",
      "source": [
        "#Create a ones like tensor with same shape as another tensor\n",
        "ones_like_tensor = torch.ones_like(input= range_tensor)\n",
        "ones_like_tensor"
      ],
      "metadata": {
        "colab": {
          "base_uri": "https://localhost:8080/"
        },
        "id": "KBrf6YjAkJdd",
        "outputId": "d17aca2b-5382-4af1-a160-2fd493d24c12"
      },
      "execution_count": null,
      "outputs": [
        {
          "output_type": "execute_result",
          "data": {
            "text/plain": [
              "tensor([1, 1, 1, 1, 1, 1, 1, 1, 1, 1])"
            ]
          },
          "metadata": {},
          "execution_count": 98
        }
      ]
    },
    {
      "cell_type": "code",
      "source": [
        "float32_tensor = torch.tensor(data= [3.0, 6.0, 9.0],\n",
        "                              dtype= torch.float32, # What data type is the tensor eg. float32, float16 etc.\n",
        "                              device= None,         #\n",
        "                              requires_grad= False,\n",
        "                              )"
      ],
      "metadata": {
        "id": "giVV-XgLmfa9"
      },
      "execution_count": null,
      "outputs": []
    },
    {
      "cell_type": "markdown",
      "source": [
        "#Three most common mistakes that happen during machine learning programming are:\n",
        "1. dtype - Data type mismatch between tensors\n",
        "2. size and shape - size and shape mismatch between tensors and\n",
        "3. device type - Device type mismatch, Tensor not on right device\n",
        "\n",
        "Precision in Computing\n",
        "\n",
        "https://en.wikipedia.org/wiki/Precision_(computer_science)"
      ],
      "metadata": {
        "id": "mxAjM16xqATS"
      }
    },
    {
      "cell_type": "code",
      "source": [
        "float_32_tensor = torch.tensor(data=[3.0,6.0,9.0],\n",
        "                              dtype=torch.float32,  # What is the data type of your Tensor eg. float32, float16  etc.\n",
        "                              device=None,          # On which device your Tensor will reside eg. cpu, cuda\n",
        "                              requires_grad=False)  # whether or not to track gradient with this Tensors operations\n",
        "\n",
        "print(float_32_tensor)\n",
        "\n",
        "converted_to_float16 = float_32_tensor.type(dtype=torch.float16)\n",
        "converted_to_float16"
      ],
      "metadata": {
        "colab": {
          "base_uri": "https://localhost:8080/"
        },
        "id": "QXr05P5sqtRE",
        "outputId": "25ace937-c85e-4a1d-fec7-651a0352de50"
      },
      "execution_count": null,
      "outputs": [
        {
          "output_type": "stream",
          "name": "stdout",
          "text": [
            "tensor([3., 6., 9.])\n"
          ]
        },
        {
          "output_type": "execute_result",
          "data": {
            "text/plain": [
              "tensor([3., 6., 9.], dtype=torch.float16)"
            ]
          },
          "metadata": {},
          "execution_count": 100
        }
      ]
    },
    {
      "cell_type": "code",
      "source": [
        "float_16_tensor = torch.tensor(data=[8.0, 9.0, 10.0],\n",
        "                               dtype= torch.float16,\n",
        "                               device=None,\n",
        "                               requires_grad= False)\n",
        "float_16_tensor"
      ],
      "metadata": {
        "colab": {
          "base_uri": "https://localhost:8080/"
        },
        "id": "5_x1tVC1tPMz",
        "outputId": "3cecac46-41a1-4a97-fe09-0fccf1f9f2fb"
      },
      "execution_count": null,
      "outputs": [
        {
          "output_type": "execute_result",
          "data": {
            "text/plain": [
              "tensor([ 8.,  9., 10.], dtype=torch.float16)"
            ]
          },
          "metadata": {},
          "execution_count": 101
        }
      ]
    },
    {
      "cell_type": "code",
      "source": [
        "mul_tensor = float_32_tensor * float_16_tensor\n",
        "mul_tensor"
      ],
      "metadata": {
        "colab": {
          "base_uri": "https://localhost:8080/"
        },
        "id": "-WeU0Sm0rVhy",
        "outputId": "278f6de3-f941-44b4-9236-b8b9d480cf8b"
      },
      "execution_count": null,
      "outputs": [
        {
          "output_type": "execute_result",
          "data": {
            "text/plain": [
              "tensor([24., 54., 90.])"
            ]
          },
          "metadata": {},
          "execution_count": 102
        }
      ]
    },
    {
      "cell_type": "markdown",
      "source": [
        "#Getting information from a Tensor\n",
        "\n",
        "1. dtype - Data type mismatch between tensors --> to get datatype use tensor.dtype\n",
        "2. size and shape - size and shape mismatch between tensors --> to get shape use tensor.shape3\n",
        "3. device type - Device type mismatch, Tensor not on right device --> to get device on which tensor is residing, use tensor.device"
      ],
      "metadata": {
        "id": "FInlhhepw3A9"
      }
    },
    {
      "cell_type": "code",
      "source": [
        "# Create a random tensor\n",
        "\n",
        "a_new_tensor = torch.rand([3, 5])\n",
        "\n",
        "print(a_new_tensor)\n",
        "print(f\"Data type of tensor : {a_new_tensor.dtype}\")\n",
        "print(f\"Shape of the tensor: {list(a_new_tensor.shape)}\")\n",
        "print(f\"Device on which tensor is: {a_new_tensor.device}\")\n",
        "\n",
        "#cuda = torch.device('cuda')\n",
        "#a_new_tensor.to(cuda)\n",
        "\n",
        "print(f\"--Data type of tensor : {a_new_tensor.dtype}\")\n",
        "print(f\"--Shape of the tensor: {list(a_new_tensor.shape)}\")\n",
        "print(f\"--Device on which tensor is: {a_new_tensor.device}\")"
      ],
      "metadata": {
        "id": "ojaTZH-vx_o7",
        "colab": {
          "base_uri": "https://localhost:8080/"
        },
        "outputId": "6ddaefc9-7dd0-4fff-e16e-ac4c54665cc9"
      },
      "execution_count": null,
      "outputs": [
        {
          "output_type": "stream",
          "name": "stdout",
          "text": [
            "tensor([[0.9129, 0.2666, 0.6019, 0.6180, 0.5364],\n",
            "        [0.4493, 0.6666, 0.0917, 0.1770, 0.9247],\n",
            "        [0.3392, 0.5582, 0.9680, 0.7134, 0.7661]])\n",
            "Data type of tensor : torch.float32\n",
            "Shape of the tensor: [3, 5]\n",
            "Device on which tensor is: cpu\n",
            "--Data type of tensor : torch.float32\n",
            "--Shape of the tensor: [3, 5]\n",
            "--Device on which tensor is: cpu\n"
          ]
        }
      ]
    },
    {
      "cell_type": "markdown",
      "source": [
        "## Manupulating Tensors - (tensor Operations)\n",
        "Operations are\n",
        "* Addition\n",
        "* Subtraction\n",
        "* Multiplication - elementwise\n",
        "* Division\n",
        "* Matrix Multiplication"
      ],
      "metadata": {
        "id": "j-h9PGNe4bHq"
      }
    },
    {
      "cell_type": "code",
      "source": [
        "# Addition Operation - The addition operation in PyTorch requires the tensors to have the same size at all non-singleton dimensions.\n",
        "\n",
        "#Create a Tensor\n",
        "\n",
        "first_tensor = torch.rand(size=[3,4], dtype=torch.float16)\n",
        "print(\"First =\", first_tensor)\n",
        "\n",
        "second_tensor = torch.rand(size=[3, 3], dtype=torch.float16, device=\"cpu\")\n",
        "print(\"Second =\", second_tensor)\n",
        "\n",
        "third_tensor = first_tensor + second_tensor.resize_(size=[3, 4])\n",
        "print(\"Third = \", third_tensor)\n"
      ],
      "metadata": {
        "id": "IilOgD8BuWVh",
        "colab": {
          "base_uri": "https://localhost:8080/"
        },
        "outputId": "0ea81a3f-798b-4a78-fa08-dc2ae65778e5"
      },
      "execution_count": null,
      "outputs": [
        {
          "output_type": "stream",
          "name": "stdout",
          "text": [
            "First = tensor([[0.0283, 0.9185, 0.3848, 0.4414],\n",
            "        [0.7432, 0.7607, 0.6929, 0.6509],\n",
            "        [0.1953, 0.4058, 0.7275, 0.4409]], dtype=torch.float16)\n",
            "Second = tensor([[0.5938, 0.3223, 0.6265],\n",
            "        [0.2798, 0.1284, 0.8374],\n",
            "        [0.9932, 0.3730, 0.8091]], dtype=torch.float16)\n",
            "Third =  tensor([[0.6221, 1.2402, 1.0117, 0.7212],\n",
            "        [0.8716, 1.5977, 1.6855, 1.0234],\n",
            "        [1.0039, 0.4058, 0.7275, 0.4409]], dtype=torch.float16)\n"
          ]
        }
      ]
    },
    {
      "cell_type": "code",
      "source": [
        "fourth_tensor=torch.rand(size=(3,3),dtype=torch.float16)\n",
        "print(fourth_tensor)\n",
        "print(fourth_tensor + 10)"
      ],
      "metadata": {
        "id": "HAGcf_hA4f0p",
        "colab": {
          "base_uri": "https://localhost:8080/"
        },
        "outputId": "0b054cc4-5ecb-4f80-e586-0222b8d93192"
      },
      "execution_count": null,
      "outputs": [
        {
          "output_type": "stream",
          "name": "stdout",
          "text": [
            "tensor([[0.2119, 0.6548, 0.8198],\n",
            "        [0.3193, 0.0923, 0.2471],\n",
            "        [0.4814, 0.9805, 0.4238]], dtype=torch.float16)\n",
            "tensor([[10.2109, 10.6562, 10.8203],\n",
            "        [10.3203, 10.0938, 10.2500],\n",
            "        [10.4844, 10.9844, 10.4219]], dtype=torch.float16)\n"
          ]
        }
      ]
    },
    {
      "cell_type": "code",
      "source": [
        "fourth_tensor - 10"
      ],
      "metadata": {
        "colab": {
          "base_uri": "https://localhost:8080/"
        },
        "id": "Duvlhbeb30uq",
        "outputId": "b96b06c9-55d8-45e8-a4b5-dea579eccdf0"
      },
      "execution_count": null,
      "outputs": [
        {
          "output_type": "execute_result",
          "data": {
            "text/plain": [
              "tensor([[-9.7891, -9.3438, -9.1797],\n",
              "        [-9.6797, -9.9062, -9.7500],\n",
              "        [-9.5156, -9.0156, -9.5781]], dtype=torch.float16)"
            ]
          },
          "metadata": {},
          "execution_count": 106
        }
      ]
    },
    {
      "cell_type": "code",
      "source": [
        "fourth_tensor * 10"
      ],
      "metadata": {
        "colab": {
          "base_uri": "https://localhost:8080/"
        },
        "id": "oIidAhck39KT",
        "outputId": "9cc1a852-37fa-4ff5-cf1d-828b90c30f21"
      },
      "execution_count": null,
      "outputs": [
        {
          "output_type": "execute_result",
          "data": {
            "text/plain": [
              "tensor([[2.1191, 6.5469, 8.1953],\n",
              "        [3.1934, 0.9229, 2.4707],\n",
              "        [4.8125, 9.8047, 4.2383]], dtype=torch.float16)"
            ]
          },
          "metadata": {},
          "execution_count": 107
        }
      ]
    },
    {
      "cell_type": "code",
      "source": [
        "fourth_tensor / 10"
      ],
      "metadata": {
        "colab": {
          "base_uri": "https://localhost:8080/"
        },
        "id": "OvnqHL--4Fl8",
        "outputId": "6162ebd1-3f79-42c7-f06f-bd24ad1165b4"
      },
      "execution_count": null,
      "outputs": [
        {
          "output_type": "execute_result",
          "data": {
            "text/plain": [
              "tensor([[0.0212, 0.0655, 0.0820],\n",
              "        [0.0319, 0.0092, 0.0247],\n",
              "        [0.0482, 0.0980, 0.0424]], dtype=torch.float16)"
            ]
          },
          "metadata": {},
          "execution_count": 108
        }
      ]
    },
    {
      "cell_type": "markdown",
      "source": [
        "### Tensor Multiplication\n",
        "\n",
        "1. Element-wise multiplication\n",
        "2. Matrix Multiplication - Dot Product\n",
        "\n",
        "https://www.mathsisfun.com/algebra/matrix-multiplying.html\n",
        "\n",
        "There are two main rules when performing matrix multiplication\n",
        "1. The inner dimensions must match:\n",
        "* `(3, 2) @ (3, 2)` won't work\n",
        "* `(2, 2) @ (2, 4)` will work\n",
        "* `(3, 2) @ (2, 3)` will work\n",
        "\n",
        "2. The resulting matrix has shape of outer dimensions"
      ],
      "metadata": {
        "id": "Tm_SrHVyBHJo"
      }
    },
    {
      "cell_type": "code",
      "source": [
        "#Element-wise Multiplication\n",
        "%%time\n",
        "\n",
        "tensor = torch.tensor([1, 2, 4])\n",
        "\n",
        "print(tensor, \" * \", tensor)\n",
        "print(f\"Equals: {tensor*tensor}\")"
      ],
      "metadata": {
        "colab": {
          "base_uri": "https://localhost:8080/"
        },
        "id": "bUu2v53DBN_g",
        "outputId": "75d137ea-1a35-4acd-beab-ae6bb2645a16"
      },
      "execution_count": null,
      "outputs": [
        {
          "output_type": "stream",
          "name": "stdout",
          "text": [
            "tensor([1, 2, 4])  *  tensor([1, 2, 4])\n",
            "Equals: tensor([ 1,  4, 16])\n",
            "CPU times: user 3.92 ms, sys: 0 ns, total: 3.92 ms\n",
            "Wall time: 3.81 ms\n"
          ]
        }
      ]
    },
    {
      "cell_type": "code",
      "source": [
        "## Matrix Multiplication\n",
        "%%time\n",
        "tensor1 = torch.tensor([[2, 3],\n",
        "                        [4, 6]])\n",
        "print(\"Tensor1:\", tensor1)\n",
        "\n",
        "tensor2 = torch.tensor([[4, 5, 6],\n",
        "                        [1, 4, 6]])\n",
        "print(\"Tensor2:\", tensor2)\n",
        "\n",
        "torch.matmul(tensor1, tensor2)"
      ],
      "metadata": {
        "id": "Pi8CiPDRCOpW"
      },
      "execution_count": null,
      "outputs": []
    },
    {
      "cell_type": "code",
      "source": [
        "%%time\n",
        "\n",
        "tensor3 = torch.tensor([4, 5, 6])\n",
        "\n",
        "print(torch.matmul(tensor3, tensor3))"
      ],
      "metadata": {
        "colab": {
          "base_uri": "https://localhost:8080/"
        },
        "id": "PX0NAauKJh9k",
        "outputId": "dd34e930-9189-4af2-a937-1a052b2a817c"
      },
      "execution_count": null,
      "outputs": [
        {
          "output_type": "stream",
          "name": "stdout",
          "text": [
            "tensor(77)\n",
            "CPU times: user 656 µs, sys: 0 ns, total: 656 µs\n",
            "Wall time: 1.36 ms\n"
          ]
        }
      ]
    },
    {
      "cell_type": "code",
      "source": [
        "%%time\n",
        "value = 0\n",
        "for i in range(len(tensor3)):\n",
        "  value += tensor3[i]*tensor3[i]\n",
        "value"
      ],
      "metadata": {
        "id": "Tq58HIrOJ9IY"
      },
      "execution_count": null,
      "outputs": []
    },
    {
      "cell_type": "markdown",
      "source": [
        "### Tensor Aggregation\n",
        "\n",
        "Finding min, max, mean , sum etc. of a tensor"
      ],
      "metadata": {
        "id": "dx26xl31VyNN"
      }
    },
    {
      "cell_type": "code",
      "source": [
        "# Create a Tensor\n",
        "\n",
        "tensor_x = torch.randint(high=500, size=(3, 6))\n",
        "tensor_x"
      ],
      "metadata": {
        "colab": {
          "base_uri": "https://localhost:8080/"
        },
        "id": "PlMB8a4bWDJE",
        "outputId": "066283b7-e5d9-4007-8d7b-4b7d2cbc4cd9"
      },
      "execution_count": null,
      "outputs": [
        {
          "output_type": "execute_result",
          "data": {
            "text/plain": [
              "tensor([[154, 286, 430, 234, 291,  97],\n",
              "        [266, 492,  76, 224, 272, 225],\n",
              "        [275, 166, 385, 390, 325, 365]])"
            ]
          },
          "metadata": {},
          "execution_count": 115
        }
      ]
    },
    {
      "cell_type": "code",
      "source": [
        "print(f\"Min : {tensor_x.min()}\")\n",
        "print(f\"Max : {tensor_x.max()}\")\n",
        "print(f\"Mean : {tensor_x.mean(dtype=torch.float16)}\")\n",
        "print(f\"Sum : {tensor_x.sum()}\")"
      ],
      "metadata": {
        "colab": {
          "base_uri": "https://localhost:8080/"
        },
        "id": "IrosoP_uWjUh",
        "outputId": "c535c59f-47e9-4614-c385-6ee62c425a1e"
      },
      "execution_count": null,
      "outputs": [
        {
          "output_type": "stream",
          "name": "stdout",
          "text": [
            "Min : 76\n",
            "Max : 492\n",
            "Mean : 275.25\n",
            "Sum : 4953\n"
          ]
        }
      ]
    },
    {
      "cell_type": "code",
      "source": [
        "torch.argmin(tensor_x,dim=1, keepdim=True)\n"
      ],
      "metadata": {
        "colab": {
          "base_uri": "https://localhost:8080/"
        },
        "id": "zt93SjY0Y8R7",
        "outputId": "f1feb168-78a6-40ab-be5c-2e302f02fb48"
      },
      "execution_count": null,
      "outputs": [
        {
          "output_type": "execute_result",
          "data": {
            "text/plain": [
              "tensor([[5],\n",
              "        [2],\n",
              "        [1]])"
            ]
          },
          "metadata": {},
          "execution_count": 129
        }
      ]
    },
    {
      "cell_type": "markdown",
      "source": [
        "### Reshaping, Stacking, Unstacking, Squeezing and Un-Squeezing Tensors\n",
        "* Reshape - reshapes an input tensor to a defined shape\n",
        "* View - returns the view of an input tensor of certain shape but keep the same memory as original tensor\n",
        "* Stacking - Combining multiple tensors on top of each other - (vstack) or side-by-side (hstack)\n",
        "* Squeeze - Removes all `1` dimension from the tensor\n",
        "* Unsqueeze - Adds `1` dimension to a target tensor\n",
        "* Permute - Returns view of a tensor with the dimensions permuted (swapped) in a certain way\n",
        "\n"
      ],
      "metadata": {
        "id": "Z7njn8ZwtER5"
      }
    },
    {
      "cell_type": "code",
      "source": [
        "## Create a new tensor\n",
        "import torch\n",
        "x = torch.arange(1, 47, 5)\n",
        "x, x.shape"
      ],
      "metadata": {
        "colab": {
          "base_uri": "https://localhost:8080/"
        },
        "id": "rfbvWS5_uyXE",
        "outputId": "48fdb0cb-dd4e-4ded-867f-b9255e7718a0"
      },
      "execution_count": null,
      "outputs": [
        {
          "output_type": "execute_result",
          "data": {
            "text/plain": [
              "(tensor([ 1,  6, 11, 16, 21, 26, 31, 36, 41, 46]), torch.Size([10]))"
            ]
          },
          "metadata": {},
          "execution_count": 151
        }
      ]
    },
    {
      "cell_type": "code",
      "source": [
        "x_reshaped = x.reshape((1, 10))\n",
        "x_reshaped, x_reshaped.shape"
      ],
      "metadata": {
        "colab": {
          "base_uri": "https://localhost:8080/"
        },
        "id": "2bMlUbJyxGdu",
        "outputId": "6ddc75e7-6ab6-45cc-935e-9970a54f60bd"
      },
      "execution_count": null,
      "outputs": [
        {
          "output_type": "execute_result",
          "data": {
            "text/plain": [
              "(tensor([[ 1,  6, 11, 16, 21, 26, 31, 36, 41, 46]]), torch.Size([1, 10]))"
            ]
          },
          "metadata": {},
          "execution_count": 135
        }
      ]
    },
    {
      "cell_type": "code",
      "source": [
        "x_reshaped = x.reshape(2, 5)\n",
        "x_reshaped, x_reshaped.shape"
      ],
      "metadata": {
        "colab": {
          "base_uri": "https://localhost:8080/"
        },
        "id": "tK4MlnEDxHCJ",
        "outputId": "70d4d628-2d0c-4ce8-f6b5-58526cf09b10"
      },
      "execution_count": null,
      "outputs": [
        {
          "output_type": "execute_result",
          "data": {
            "text/plain": [
              "(tensor([[ 1,  6, 11, 16, 21],\n",
              "         [26, 31, 36, 41, 46]]),\n",
              " torch.Size([2, 5]))"
            ]
          },
          "metadata": {},
          "execution_count": 138
        }
      ]
    },
    {
      "cell_type": "code",
      "source": [
        "# Change the view\n",
        "y = torch.arange(1, 47, 5)\n",
        "\n",
        "z = y.view(10, 1)\n",
        "z, z.shape"
      ],
      "metadata": {
        "colab": {
          "base_uri": "https://localhost:8080/"
        },
        "id": "WAKsheQFyk-I",
        "outputId": "bc096a43-a0fe-4f96-bf6f-e782f3937471"
      },
      "execution_count": null,
      "outputs": [
        {
          "output_type": "execute_result",
          "data": {
            "text/plain": [
              "(tensor([[ 1],\n",
              "         [ 6],\n",
              "         [11],\n",
              "         [16],\n",
              "         [21],\n",
              "         [26],\n",
              "         [31],\n",
              "         [36],\n",
              "         [41],\n",
              "         [46]]),\n",
              " torch.Size([10, 1]))"
            ]
          },
          "metadata": {},
          "execution_count": 156
        }
      ]
    },
    {
      "cell_type": "code",
      "source": [
        "z[0][0] = 7\n",
        "z, y"
      ],
      "metadata": {
        "colab": {
          "base_uri": "https://localhost:8080/"
        },
        "id": "jiuKpGJryky9",
        "outputId": "cf3def87-1a72-4b12-cdbf-ab475d1bfc5d"
      },
      "execution_count": null,
      "outputs": [
        {
          "output_type": "execute_result",
          "data": {
            "text/plain": [
              "(tensor([[ 7],\n",
              "         [ 6],\n",
              "         [11],\n",
              "         [16],\n",
              "         [21],\n",
              "         [26],\n",
              "         [31],\n",
              "         [36],\n",
              "         [41],\n",
              "         [46]]),\n",
              " tensor([ 7,  6, 11, 16, 21, 26, 31, 36, 41, 46]))"
            ]
          },
          "metadata": {},
          "execution_count": 157
        }
      ]
    },
    {
      "cell_type": "code",
      "source": [
        "# Stacking\n",
        "\n",
        "tensor_normal = torch.arange(0., 3., 0.5)\n",
        "tensor_normal, tensor_normal.shape\n",
        "\n",
        "tensor_stacked = torch.stack([tensor_normal, tensor_normal, tensor_normal, tensor_normal], dim=1)\n",
        "print(\"Normal - \", tensor_normal,tensor_normal.shape)\n",
        "print(\"Stacked - \",tensor_stacked, tensor_stacked.shape)\n",
        "\n",
        "tensor_stacked_2 = torch.stack([tensor_stacked, tensor_stacked, tensor_stacked], dim=2)\n",
        "print(\"Stacked_2 - \",tensor_stacked_2, tensor_stacked_2.shape)"
      ],
      "metadata": {
        "colab": {
          "base_uri": "https://localhost:8080/"
        },
        "id": "qhBhnFmW0r2h",
        "outputId": "b91e9716-3a4a-4ae8-cad3-48b42a7e9092"
      },
      "execution_count": null,
      "outputs": [
        {
          "output_type": "stream",
          "name": "stdout",
          "text": [
            "Normal -  tensor([0.0000, 0.5000, 1.0000, 1.5000, 2.0000, 2.5000]) torch.Size([6])\n",
            "Stacked -  tensor([[0.0000, 0.0000, 0.0000, 0.0000],\n",
            "        [0.5000, 0.5000, 0.5000, 0.5000],\n",
            "        [1.0000, 1.0000, 1.0000, 1.0000],\n",
            "        [1.5000, 1.5000, 1.5000, 1.5000],\n",
            "        [2.0000, 2.0000, 2.0000, 2.0000],\n",
            "        [2.5000, 2.5000, 2.5000, 2.5000]]) torch.Size([6, 4])\n",
            "Stacked_2 -  tensor([[[0.0000, 0.0000, 0.0000],\n",
            "         [0.0000, 0.0000, 0.0000],\n",
            "         [0.0000, 0.0000, 0.0000],\n",
            "         [0.0000, 0.0000, 0.0000]],\n",
            "\n",
            "        [[0.5000, 0.5000, 0.5000],\n",
            "         [0.5000, 0.5000, 0.5000],\n",
            "         [0.5000, 0.5000, 0.5000],\n",
            "         [0.5000, 0.5000, 0.5000]],\n",
            "\n",
            "        [[1.0000, 1.0000, 1.0000],\n",
            "         [1.0000, 1.0000, 1.0000],\n",
            "         [1.0000, 1.0000, 1.0000],\n",
            "         [1.0000, 1.0000, 1.0000]],\n",
            "\n",
            "        [[1.5000, 1.5000, 1.5000],\n",
            "         [1.5000, 1.5000, 1.5000],\n",
            "         [1.5000, 1.5000, 1.5000],\n",
            "         [1.5000, 1.5000, 1.5000]],\n",
            "\n",
            "        [[2.0000, 2.0000, 2.0000],\n",
            "         [2.0000, 2.0000, 2.0000],\n",
            "         [2.0000, 2.0000, 2.0000],\n",
            "         [2.0000, 2.0000, 2.0000]],\n",
            "\n",
            "        [[2.5000, 2.5000, 2.5000],\n",
            "         [2.5000, 2.5000, 2.5000],\n",
            "         [2.5000, 2.5000, 2.5000],\n",
            "         [2.5000, 2.5000, 2.5000]]]) torch.Size([6, 4, 3])\n"
          ]
        }
      ]
    },
    {
      "cell_type": "code",
      "source": [
        "# Squeeze\n",
        "import torch\n",
        "tensor_sq = torch.tensor([[5, 7, 6, 8, 9, 10]])\n",
        "print(tensor_sq, tensor_sq.shape)\n",
        "\n",
        "tensor_squeezed = tensor_sq.squeeze(dim=0)\n",
        "print(tensor_squeezed, tensor_squeezed.shape)\n",
        "\n",
        "tensor_sq_stacked = torch.stack([tensor_sq],dim=2)\n",
        "print(tensor_sq_stacked, tensor_sq_stacked.shape)\n",
        "\n",
        "a = tensor_sq_stacked.squeeze(dim=2)\n",
        "print(a, a.shape)\n"
      ],
      "metadata": {
        "colab": {
          "base_uri": "https://localhost:8080/"
        },
        "id": "RRBmzS0x3o2i",
        "outputId": "29801f93-b7be-48c0-b131-654c54787abc"
      },
      "execution_count": 11,
      "outputs": [
        {
          "output_type": "stream",
          "name": "stdout",
          "text": [
            "tensor([[ 5,  7,  6,  8,  9, 10]]) torch.Size([1, 6])\n",
            "tensor([ 5,  7,  6,  8,  9, 10]) torch.Size([6])\n",
            "tensor([[[ 5],\n",
            "         [ 7],\n",
            "         [ 6],\n",
            "         [ 8],\n",
            "         [ 9],\n",
            "         [10]]]) torch.Size([1, 6, 1])\n",
            "tensor([[ 5,  7,  6,  8,  9, 10]]) torch.Size([1, 6])\n"
          ]
        }
      ]
    },
    {
      "cell_type": "code",
      "source": [
        "# View\n",
        "print(\"tensor_sq --> \", tensor_sq, tensor_sq.shape)\n",
        "\n",
        "print(tensor_sq[0], tensor_sq[0].shape)\n",
        "print(tensor_sq.view(6,1))"
      ],
      "metadata": {
        "colab": {
          "base_uri": "https://localhost:8080/"
        },
        "id": "mtAJVAgZBhiY",
        "outputId": "e036cc98-10e3-4540-b342-d8ec0cb08218"
      },
      "execution_count": 24,
      "outputs": [
        {
          "output_type": "stream",
          "name": "stdout",
          "text": [
            "tensor_sq -->  tensor([[ 5,  7,  6,  8,  9, 10]]) torch.Size([1, 6])\n",
            "tensor([ 5,  7,  6,  8,  9, 10]) torch.Size([6])\n",
            "tensor([[ 5],\n",
            "        [ 7],\n",
            "        [ 6],\n",
            "        [ 8],\n",
            "        [ 9],\n",
            "        [10]])\n"
          ]
        }
      ]
    },
    {
      "cell_type": "code",
      "source": [
        "# Squeeeze and Unsqueeze\n",
        "import torch\n",
        "\n",
        "tensor_base = torch.tensor([[3, 5, 6, 2, 6, 8, 9]])\n",
        "print(\"Oriinal Tensor------\\n\", tensor_base, tensor_base.shape)\n",
        "\n",
        "tensor_squeezed = tensor_base.squeeze()\n",
        "print(\"Squeezed Tensor ------\\n\", tensor_squeezed, tensor_squeezed.shape)\n",
        "\n",
        "tensor_unsqueezed = tensor_squeezed.unsqueeze(dim=1)\n",
        "print(\"Unsqueezed Tensor -----\\n\", tensor_unsqueezed, tensor_unsqueezed.shape)\n"
      ],
      "metadata": {
        "colab": {
          "base_uri": "https://localhost:8080/"
        },
        "id": "uVKHSUzJVWSd",
        "outputId": "9d207ebc-ed55-4d98-aef2-216981f766fb"
      },
      "execution_count": 32,
      "outputs": [
        {
          "output_type": "stream",
          "name": "stdout",
          "text": [
            "Oriinal Tensor------\n",
            " tensor([[3, 5, 6, 2, 6, 8, 9]]) torch.Size([1, 7])\n",
            "Squeezed Tensor ------\n",
            " tensor([3, 5, 6, 2, 6, 8, 9]) torch.Size([7])\n",
            "Unsqueezed Tensor -----\n",
            " tensor([[3],\n",
            "        [5],\n",
            "        [6],\n",
            "        [2],\n",
            "        [6],\n",
            "        [8],\n",
            "        [9]]) torch.Size([7, 1])\n"
          ]
        }
      ]
    },
    {
      "cell_type": "code",
      "source": [
        "# Permute - Returns view of a tensor with the dimensions permuted (swapped) in a certain way\n",
        "# (Permute gives a view, uses same memory as the original tensor)\n",
        "import torch\n",
        "\n",
        "tensor_orig = torch.randn(size=[224, 224, 3], dtype=torch.float32) # in an image [ height, width, colour_channels]\n",
        "print(\"Original Tensor -----\\n\", tensor_orig, tensor_orig.shape)\n",
        "\n",
        "# Permute - make the colour channel as the first dimension (0th)\n",
        "tensor_rearranged = tensor_orig.permute([2, 0, 1]) # Shifts axis 0->1, 1->2, 2->0\n",
        "print(\"Permuted Tensor -----\\n\", tensor_rearranged, tensor_rearranged.shape)\n",
        "\n",
        "# Exercise - change a value in the new tensor & see if is reflected in the original tensor as well\n",
        "tensor_rearranged[0][1][0] = 25.0\n",
        "\n",
        "print(\"Original Tensor -----\\n\", tensor_orig, tensor_orig.shape)\n",
        "print(\"Permuted Tensor -----\\n\", tensor_rearranged, tensor_rearranged.shape)\n",
        "\n",
        "# Check if the changed value reflected in the original tensor\n",
        "if tensor_orig[1][0][0] == 25.:\n",
        "  print(\"Value changed!....\")"
      ],
      "metadata": {
        "colab": {
          "base_uri": "https://localhost:8080/"
        },
        "id": "PMfV25qcYpF_",
        "outputId": "a2731b8c-0974-47f3-94ea-b9e72759555a"
      },
      "execution_count": 9,
      "outputs": [
        {
          "output_type": "stream",
          "name": "stdout",
          "text": [
            "Original Tensor -----\n",
            " tensor([[[ 2.2299e-01, -2.1468e-01, -1.2113e-01],\n",
            "         [-7.4802e-01,  8.0236e-01,  1.7328e+00],\n",
            "         [ 1.3447e+00, -6.1208e-01,  2.0023e+00],\n",
            "         ...,\n",
            "         [-1.2441e+00, -3.2099e-01, -1.0835e-01],\n",
            "         [ 2.3494e+00, -1.3950e+00,  4.3053e-01],\n",
            "         [ 1.4597e+00,  2.3039e-01,  2.5539e-01]],\n",
            "\n",
            "        [[ 8.1420e-01, -1.3279e+00,  9.7823e-02],\n",
            "         [-7.9173e-01,  2.3258e-03, -6.3672e-01],\n",
            "         [ 4.2282e-01, -9.2696e-01, -5.0053e-01],\n",
            "         ...,\n",
            "         [-5.3758e-01,  1.3077e+00, -1.6995e+00],\n",
            "         [-7.4405e-01, -7.0873e-01, -8.4812e-01],\n",
            "         [-1.1068e+00,  1.1063e+00, -1.0064e+00]],\n",
            "\n",
            "        [[ 9.2988e-01,  1.0248e+00,  4.6456e-02],\n",
            "         [ 2.9698e-01,  6.9988e-01,  2.5220e+00],\n",
            "         [-1.5928e+00, -3.7290e-01,  3.6931e-01],\n",
            "         ...,\n",
            "         [ 1.1830e+00,  2.7332e+00,  2.6489e+00],\n",
            "         [-1.1111e+00, -6.2876e-01,  4.6798e-01],\n",
            "         [ 4.8464e-01,  5.4669e-01,  1.3120e+00]],\n",
            "\n",
            "        ...,\n",
            "\n",
            "        [[-2.1216e+00,  5.4823e-01, -2.8030e+00],\n",
            "         [-1.2230e+00, -1.7628e+00,  9.4766e-01],\n",
            "         [ 1.7340e+00,  8.4440e-01,  7.8380e-01],\n",
            "         ...,\n",
            "         [-2.0003e+00, -3.2416e-01,  1.3846e+00],\n",
            "         [-8.9009e-01, -4.8883e-01, -1.0787e+00],\n",
            "         [ 7.1715e-01, -2.6647e-01,  9.0377e-01]],\n",
            "\n",
            "        [[ 3.4309e-02,  1.5344e-01,  6.5873e-02],\n",
            "         [-9.3231e-01, -1.0927e+00, -1.1007e+00],\n",
            "         [-2.4335e-01,  3.8893e-01, -8.0422e-01],\n",
            "         ...,\n",
            "         [ 3.6961e-01,  2.5059e-01, -1.0740e-02],\n",
            "         [-2.4651e-01,  3.1530e-01,  1.8993e+00],\n",
            "         [ 7.6460e-01,  1.0464e+00, -6.3673e-01]],\n",
            "\n",
            "        [[-2.6786e-01, -3.5343e-01, -8.8688e-01],\n",
            "         [-7.7673e-01, -1.5992e+00,  4.6817e-02],\n",
            "         [ 8.2191e-01, -8.2867e-01, -1.6304e+00],\n",
            "         ...,\n",
            "         [ 1.2131e+00,  2.2568e-01, -1.9130e+00],\n",
            "         [-1.1940e+00,  1.1596e+00, -1.9091e-01],\n",
            "         [ 2.0507e+00, -8.6400e-01,  1.5200e-01]]]) torch.Size([224, 224, 3])\n",
            "Permuted Tensor -----\n",
            " tensor([[[ 2.2299e-01, -7.4802e-01,  1.3447e+00,  ..., -1.2441e+00,\n",
            "           2.3494e+00,  1.4597e+00],\n",
            "         [ 8.1420e-01, -7.9173e-01,  4.2282e-01,  ..., -5.3758e-01,\n",
            "          -7.4405e-01, -1.1068e+00],\n",
            "         [ 9.2988e-01,  2.9698e-01, -1.5928e+00,  ...,  1.1830e+00,\n",
            "          -1.1111e+00,  4.8464e-01],\n",
            "         ...,\n",
            "         [-2.1216e+00, -1.2230e+00,  1.7340e+00,  ..., -2.0003e+00,\n",
            "          -8.9009e-01,  7.1715e-01],\n",
            "         [ 3.4309e-02, -9.3231e-01, -2.4335e-01,  ...,  3.6961e-01,\n",
            "          -2.4651e-01,  7.6460e-01],\n",
            "         [-2.6786e-01, -7.7673e-01,  8.2191e-01,  ...,  1.2131e+00,\n",
            "          -1.1940e+00,  2.0507e+00]],\n",
            "\n",
            "        [[-2.1468e-01,  8.0236e-01, -6.1208e-01,  ..., -3.2099e-01,\n",
            "          -1.3950e+00,  2.3039e-01],\n",
            "         [-1.3279e+00,  2.3258e-03, -9.2696e-01,  ...,  1.3077e+00,\n",
            "          -7.0873e-01,  1.1063e+00],\n",
            "         [ 1.0248e+00,  6.9988e-01, -3.7290e-01,  ...,  2.7332e+00,\n",
            "          -6.2876e-01,  5.4669e-01],\n",
            "         ...,\n",
            "         [ 5.4823e-01, -1.7628e+00,  8.4440e-01,  ..., -3.2416e-01,\n",
            "          -4.8883e-01, -2.6647e-01],\n",
            "         [ 1.5344e-01, -1.0927e+00,  3.8893e-01,  ...,  2.5059e-01,\n",
            "           3.1530e-01,  1.0464e+00],\n",
            "         [-3.5343e-01, -1.5992e+00, -8.2867e-01,  ...,  2.2568e-01,\n",
            "           1.1596e+00, -8.6400e-01]],\n",
            "\n",
            "        [[-1.2113e-01,  1.7328e+00,  2.0023e+00,  ..., -1.0835e-01,\n",
            "           4.3053e-01,  2.5539e-01],\n",
            "         [ 9.7823e-02, -6.3672e-01, -5.0053e-01,  ..., -1.6995e+00,\n",
            "          -8.4812e-01, -1.0064e+00],\n",
            "         [ 4.6456e-02,  2.5220e+00,  3.6931e-01,  ...,  2.6489e+00,\n",
            "           4.6798e-01,  1.3120e+00],\n",
            "         ...,\n",
            "         [-2.8030e+00,  9.4766e-01,  7.8380e-01,  ...,  1.3846e+00,\n",
            "          -1.0787e+00,  9.0377e-01],\n",
            "         [ 6.5873e-02, -1.1007e+00, -8.0422e-01,  ..., -1.0740e-02,\n",
            "           1.8993e+00, -6.3673e-01],\n",
            "         [-8.8688e-01,  4.6817e-02, -1.6304e+00,  ..., -1.9130e+00,\n",
            "          -1.9091e-01,  1.5200e-01]]]) torch.Size([3, 224, 224])\n",
            "Original Tensor -----\n",
            " tensor([[[ 2.2299e-01, -2.1468e-01, -1.2113e-01],\n",
            "         [-7.4802e-01,  8.0236e-01,  1.7328e+00],\n",
            "         [ 1.3447e+00, -6.1208e-01,  2.0023e+00],\n",
            "         ...,\n",
            "         [-1.2441e+00, -3.2099e-01, -1.0835e-01],\n",
            "         [ 2.3494e+00, -1.3950e+00,  4.3053e-01],\n",
            "         [ 1.4597e+00,  2.3039e-01,  2.5539e-01]],\n",
            "\n",
            "        [[ 2.5000e+01, -1.3279e+00,  9.7823e-02],\n",
            "         [-7.9173e-01,  2.3258e-03, -6.3672e-01],\n",
            "         [ 4.2282e-01, -9.2696e-01, -5.0053e-01],\n",
            "         ...,\n",
            "         [-5.3758e-01,  1.3077e+00, -1.6995e+00],\n",
            "         [-7.4405e-01, -7.0873e-01, -8.4812e-01],\n",
            "         [-1.1068e+00,  1.1063e+00, -1.0064e+00]],\n",
            "\n",
            "        [[ 9.2988e-01,  1.0248e+00,  4.6456e-02],\n",
            "         [ 2.9698e-01,  6.9988e-01,  2.5220e+00],\n",
            "         [-1.5928e+00, -3.7290e-01,  3.6931e-01],\n",
            "         ...,\n",
            "         [ 1.1830e+00,  2.7332e+00,  2.6489e+00],\n",
            "         [-1.1111e+00, -6.2876e-01,  4.6798e-01],\n",
            "         [ 4.8464e-01,  5.4669e-01,  1.3120e+00]],\n",
            "\n",
            "        ...,\n",
            "\n",
            "        [[-2.1216e+00,  5.4823e-01, -2.8030e+00],\n",
            "         [-1.2230e+00, -1.7628e+00,  9.4766e-01],\n",
            "         [ 1.7340e+00,  8.4440e-01,  7.8380e-01],\n",
            "         ...,\n",
            "         [-2.0003e+00, -3.2416e-01,  1.3846e+00],\n",
            "         [-8.9009e-01, -4.8883e-01, -1.0787e+00],\n",
            "         [ 7.1715e-01, -2.6647e-01,  9.0377e-01]],\n",
            "\n",
            "        [[ 3.4309e-02,  1.5344e-01,  6.5873e-02],\n",
            "         [-9.3231e-01, -1.0927e+00, -1.1007e+00],\n",
            "         [-2.4335e-01,  3.8893e-01, -8.0422e-01],\n",
            "         ...,\n",
            "         [ 3.6961e-01,  2.5059e-01, -1.0740e-02],\n",
            "         [-2.4651e-01,  3.1530e-01,  1.8993e+00],\n",
            "         [ 7.6460e-01,  1.0464e+00, -6.3673e-01]],\n",
            "\n",
            "        [[-2.6786e-01, -3.5343e-01, -8.8688e-01],\n",
            "         [-7.7673e-01, -1.5992e+00,  4.6817e-02],\n",
            "         [ 8.2191e-01, -8.2867e-01, -1.6304e+00],\n",
            "         ...,\n",
            "         [ 1.2131e+00,  2.2568e-01, -1.9130e+00],\n",
            "         [-1.1940e+00,  1.1596e+00, -1.9091e-01],\n",
            "         [ 2.0507e+00, -8.6400e-01,  1.5200e-01]]]) torch.Size([224, 224, 3])\n",
            "Permuted Tensor -----\n",
            " tensor([[[ 2.2299e-01, -7.4802e-01,  1.3447e+00,  ..., -1.2441e+00,\n",
            "           2.3494e+00,  1.4597e+00],\n",
            "         [ 2.5000e+01, -7.9173e-01,  4.2282e-01,  ..., -5.3758e-01,\n",
            "          -7.4405e-01, -1.1068e+00],\n",
            "         [ 9.2988e-01,  2.9698e-01, -1.5928e+00,  ...,  1.1830e+00,\n",
            "          -1.1111e+00,  4.8464e-01],\n",
            "         ...,\n",
            "         [-2.1216e+00, -1.2230e+00,  1.7340e+00,  ..., -2.0003e+00,\n",
            "          -8.9009e-01,  7.1715e-01],\n",
            "         [ 3.4309e-02, -9.3231e-01, -2.4335e-01,  ...,  3.6961e-01,\n",
            "          -2.4651e-01,  7.6460e-01],\n",
            "         [-2.6786e-01, -7.7673e-01,  8.2191e-01,  ...,  1.2131e+00,\n",
            "          -1.1940e+00,  2.0507e+00]],\n",
            "\n",
            "        [[-2.1468e-01,  8.0236e-01, -6.1208e-01,  ..., -3.2099e-01,\n",
            "          -1.3950e+00,  2.3039e-01],\n",
            "         [-1.3279e+00,  2.3258e-03, -9.2696e-01,  ...,  1.3077e+00,\n",
            "          -7.0873e-01,  1.1063e+00],\n",
            "         [ 1.0248e+00,  6.9988e-01, -3.7290e-01,  ...,  2.7332e+00,\n",
            "          -6.2876e-01,  5.4669e-01],\n",
            "         ...,\n",
            "         [ 5.4823e-01, -1.7628e+00,  8.4440e-01,  ..., -3.2416e-01,\n",
            "          -4.8883e-01, -2.6647e-01],\n",
            "         [ 1.5344e-01, -1.0927e+00,  3.8893e-01,  ...,  2.5059e-01,\n",
            "           3.1530e-01,  1.0464e+00],\n",
            "         [-3.5343e-01, -1.5992e+00, -8.2867e-01,  ...,  2.2568e-01,\n",
            "           1.1596e+00, -8.6400e-01]],\n",
            "\n",
            "        [[-1.2113e-01,  1.7328e+00,  2.0023e+00,  ..., -1.0835e-01,\n",
            "           4.3053e-01,  2.5539e-01],\n",
            "         [ 9.7823e-02, -6.3672e-01, -5.0053e-01,  ..., -1.6995e+00,\n",
            "          -8.4812e-01, -1.0064e+00],\n",
            "         [ 4.6456e-02,  2.5220e+00,  3.6931e-01,  ...,  2.6489e+00,\n",
            "           4.6798e-01,  1.3120e+00],\n",
            "         ...,\n",
            "         [-2.8030e+00,  9.4766e-01,  7.8380e-01,  ...,  1.3846e+00,\n",
            "          -1.0787e+00,  9.0377e-01],\n",
            "         [ 6.5873e-02, -1.1007e+00, -8.0422e-01,  ..., -1.0740e-02,\n",
            "           1.8993e+00, -6.3673e-01],\n",
            "         [-8.8688e-01,  4.6817e-02, -1.6304e+00,  ..., -1.9130e+00,\n",
            "          -1.9091e-01,  1.5200e-01]]]) torch.Size([3, 224, 224])\n",
            "Value changed!....\n"
          ]
        }
      ]
    },
    {
      "cell_type": "code",
      "source": [],
      "metadata": {
        "id": "DcJDUGEua7bN"
      },
      "execution_count": null,
      "outputs": []
    }
  ]
}
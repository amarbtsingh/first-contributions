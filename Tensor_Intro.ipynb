{
  "nbformat": 4,
  "nbformat_minor": 0,
  "metadata": {
    "colab": {
      "provenance": [],
      "authorship_tag": "ABX9TyOCMvLpmyuSEEPVff5i+sRc",
      "include_colab_link": true
    },
    "kernelspec": {
      "name": "python3",
      "display_name": "Python 3"
    },
    "language_info": {
      "name": "python"
    }
  },
  "cells": [
    {
      "cell_type": "markdown",
      "metadata": {
        "id": "view-in-github",
        "colab_type": "text"
      },
      "source": [
        "<a href=\"https://colab.research.google.com/github/amarbtsingh/first-contributions/blob/main/Tensor_Intro.ipynb\" target=\"_parent\"><img src=\"https://colab.research.google.com/assets/colab-badge.svg\" alt=\"Open In Colab\"/></a>"
      ]
    },
    {
      "cell_type": "code",
      "execution_count": 1,
      "metadata": {
        "colab": {
          "base_uri": "https://localhost:8080/"
        },
        "id": "LP6BJqHMGqaU",
        "outputId": "0305583b-4d93-4562-8439-13f97caea96d"
      },
      "outputs": [
        {
          "output_type": "stream",
          "name": "stdout",
          "text": [
            "tf.Tensor(4, shape=(), dtype=int32)\n"
          ]
        }
      ],
      "source": [
        "import tensorflow as tf\n",
        "\n",
        "tensor_zero_d = tf.constant(4)\n",
        "print(tensor_zero_d)"
      ]
    },
    {
      "cell_type": "code",
      "source": [
        "tensor_one_d = tf.constant([2, 0, -3, 10, 11],dtype=\"int8\")\n",
        "print(tensor_one_d)"
      ],
      "metadata": {
        "colab": {
          "base_uri": "https://localhost:8080/"
        },
        "id": "A11aC33NHsQS",
        "outputId": "7f2a0eff-b31c-4de8-ec24-25260f0d885f"
      },
      "execution_count": 8,
      "outputs": [
        {
          "output_type": "stream",
          "name": "stdout",
          "text": [
            "tf.Tensor([ 2  0 -3 10 11], shape=(5,), dtype=int8)\n"
          ]
        }
      ]
    },
    {
      "cell_type": "code",
      "source": [
        "tensor_two_d = tf.constant([\n",
        "    [1, 2, 3, 4],\n",
        "    [5, 6, 7, 8],\n",
        "    [9, 10, 11, 12]\n",
        "])\n",
        "print(tensor_two_d)"
      ],
      "metadata": {
        "colab": {
          "base_uri": "https://localhost:8080/"
        },
        "id": "bX74VK-NJqj7",
        "outputId": "a84e55a0-3845-4a7d-a43f-b86837d0aaeb"
      },
      "execution_count": 10,
      "outputs": [
        {
          "output_type": "stream",
          "name": "stdout",
          "text": [
            "tf.Tensor(\n",
            "[[ 1  2  3  4]\n",
            " [ 5  6  7  8]\n",
            " [ 9 10 11 12]], shape=(3, 4), dtype=int32)\n"
          ]
        }
      ]
    },
    {
      "cell_type": "code",
      "source": [
        "tensor_three_d = tf.constant([\n",
        "  [[1,2,3,4],\n",
        "   [4,5,6,7]],\n",
        "  [[8,9,10,11],\n",
        "   [12,13,14,15]],\n",
        "  [[16,17,18,19],\n",
        "   [20,21,22,23]]\n",
        "])\n",
        "print(tensor_three_d)\n",
        "\n",
        "tp = tensor_three_d.shape\n",
        "print(tp)\n",
        "print(tensor_three_d.ndim)"
      ],
      "metadata": {
        "colab": {
          "base_uri": "https://localhost:8080/"
        },
        "id": "anehSBB_K61F",
        "outputId": "3b3c02a4-433d-4a84-8db2-2a83eca7e160"
      },
      "execution_count": 16,
      "outputs": [
        {
          "output_type": "stream",
          "name": "stdout",
          "text": [
            "tf.Tensor(\n",
            "[[[ 1  2  3  4]\n",
            "  [ 4  5  6  7]]\n",
            "\n",
            " [[ 8  9 10 11]\n",
            "  [12 13 14 15]]\n",
            "\n",
            " [[16 17 18 19]\n",
            "  [20 21 22 23]]], shape=(3, 2, 4), dtype=int32)\n",
            "(3, 2, 4)\n",
            "3\n"
          ]
        }
      ]
    },
    {
      "cell_type": "code",
      "source": [
        "tensor_four_d = tf.constant([\n",
        "    [\n",
        "[[ 1, 2, 3, 4],\n",
        "[5, 6, 7, 8],\n",
        "[9, 10, 11, 12]],\n",
        "\n",
        "[[ 21, 22, 23, 24],\n",
        "[25, 26, 27, 28],\n",
        "[9, 10, 11, 12]],\n",
        "\n",
        "[[ 31, 32, 33, 34],\n",
        "[35, 36, 37, 38],\n",
        "[39, 40, 41, 42]]\n",
        "],\n",
        "[\n",
        "[[ 1, 2, 3, 4],\n",
        "[5, 6, 7, 8],\n",
        "[9, 10, 11, 12]],\n",
        "\n",
        "[[ 21, 22, 23, 24],\n",
        "[25, 26, 27, 28],\n",
        "[9, 10, 11, 12]],\n",
        "\n",
        "[[ 31, 32, 33, 34],\n",
        "[35, 36, 37, 38],\n",
        "[39, 40, 41, 42]]\n",
        "]\n",
        "])\n",
        "print(tensor_four_d)"
      ],
      "metadata": {
        "colab": {
          "base_uri": "https://localhost:8080/"
        },
        "id": "YBW4hcA_PPPA",
        "outputId": "7d989cd5-0beb-4027-f40c-44d64af25ecc"
      },
      "execution_count": 19,
      "outputs": [
        {
          "output_type": "stream",
          "name": "stdout",
          "text": [
            "tf.Tensor(\n",
            "[[[[ 1  2  3  4]\n",
            "   [ 5  6  7  8]\n",
            "   [ 9 10 11 12]]\n",
            "\n",
            "  [[21 22 23 24]\n",
            "   [25 26 27 28]\n",
            "   [ 9 10 11 12]]\n",
            "\n",
            "  [[31 32 33 34]\n",
            "   [35 36 37 38]\n",
            "   [39 40 41 42]]]\n",
            "\n",
            "\n",
            " [[[ 1  2  3  4]\n",
            "   [ 5  6  7  8]\n",
            "   [ 9 10 11 12]]\n",
            "\n",
            "  [[21 22 23 24]\n",
            "   [25 26 27 28]\n",
            "   [ 9 10 11 12]]\n",
            "\n",
            "  [[31 32 33 34]\n",
            "   [35 36 37 38]\n",
            "   [39 40 41 42]]]], shape=(2, 3, 3, 4), dtype=int32)\n"
          ]
        }
      ]
    },
    {
      "cell_type": "code",
      "source": [
        "tensor_identity = tf.eye(\n",
        "    num_rows=4,\n",
        "    num_columns=None,\n",
        "    batch_shape=(2,4,),\n",
        "    dtype=tf.dtypes.int8,\n",
        "    name=None\n",
        ")\n",
        "print(tensor_identity)"
      ],
      "metadata": {
        "colab": {
          "base_uri": "https://localhost:8080/"
        },
        "id": "FYRaYlV7VpBx",
        "outputId": "ffa3201d-8b80-4087-baf3-8ec7152af628"
      },
      "execution_count": 23,
      "outputs": [
        {
          "output_type": "stream",
          "name": "stdout",
          "text": [
            "tf.Tensor(\n",
            "[[[[1 0 0 0]\n",
            "   [0 1 0 0]\n",
            "   [0 0 1 0]\n",
            "   [0 0 0 1]]\n",
            "\n",
            "  [[1 0 0 0]\n",
            "   [0 1 0 0]\n",
            "   [0 0 1 0]\n",
            "   [0 0 0 1]]\n",
            "\n",
            "  [[1 0 0 0]\n",
            "   [0 1 0 0]\n",
            "   [0 0 1 0]\n",
            "   [0 0 0 1]]\n",
            "\n",
            "  [[1 0 0 0]\n",
            "   [0 1 0 0]\n",
            "   [0 0 1 0]\n",
            "   [0 0 0 1]]]\n",
            "\n",
            "\n",
            " [[[1 0 0 0]\n",
            "   [0 1 0 0]\n",
            "   [0 0 1 0]\n",
            "   [0 0 0 1]]\n",
            "\n",
            "  [[1 0 0 0]\n",
            "   [0 1 0 0]\n",
            "   [0 0 1 0]\n",
            "   [0 0 0 1]]\n",
            "\n",
            "  [[1 0 0 0]\n",
            "   [0 1 0 0]\n",
            "   [0 0 1 0]\n",
            "   [0 0 0 1]]\n",
            "\n",
            "  [[1 0 0 0]\n",
            "   [0 1 0 0]\n",
            "   [0 0 1 0]\n",
            "   [0 0 0 1]]]], shape=(2, 4, 4, 4), dtype=int8)\n"
          ]
        }
      ]
    },
    {
      "cell_type": "code",
      "source": [
        "tensor_fill_3d = tf.fill(\n",
        "    [2,3,4,5], 7, name=None, layout=None\n",
        ")\n",
        "print(tensor_fill_3d)"
      ],
      "metadata": {
        "colab": {
          "base_uri": "https://localhost:8080/"
        },
        "id": "c1ZgKZBOXU01",
        "outputId": "1eeb1f6c-6bf4-4d37-b6a5-b16827a5ccaf"
      },
      "execution_count": 25,
      "outputs": [
        {
          "output_type": "stream",
          "name": "stdout",
          "text": [
            "tf.Tensor(\n",
            "[[[[7 7 7 7 7]\n",
            "   [7 7 7 7 7]\n",
            "   [7 7 7 7 7]\n",
            "   [7 7 7 7 7]]\n",
            "\n",
            "  [[7 7 7 7 7]\n",
            "   [7 7 7 7 7]\n",
            "   [7 7 7 7 7]\n",
            "   [7 7 7 7 7]]\n",
            "\n",
            "  [[7 7 7 7 7]\n",
            "   [7 7 7 7 7]\n",
            "   [7 7 7 7 7]\n",
            "   [7 7 7 7 7]]]\n",
            "\n",
            "\n",
            " [[[7 7 7 7 7]\n",
            "   [7 7 7 7 7]\n",
            "   [7 7 7 7 7]\n",
            "   [7 7 7 7 7]]\n",
            "\n",
            "  [[7 7 7 7 7]\n",
            "   [7 7 7 7 7]\n",
            "   [7 7 7 7 7]\n",
            "   [7 7 7 7 7]]\n",
            "\n",
            "  [[7 7 7 7 7]\n",
            "   [7 7 7 7 7]\n",
            "   [7 7 7 7 7]\n",
            "   [7 7 7 7 7]]]], shape=(2, 3, 4, 5), dtype=int32)\n"
          ]
        }
      ]
    },
    {
      "cell_type": "code",
      "source": [
        "tensor_ones_like = tf.ones_like(tensor_fill_3d)\n",
        "print(tensor_ones_like)"
      ],
      "metadata": {
        "colab": {
          "base_uri": "https://localhost:8080/"
        },
        "id": "y9mZCAUlaWTk",
        "outputId": "dca7c389-7139-4cc1-8203-fe8bb7413d53"
      },
      "execution_count": 28,
      "outputs": [
        {
          "output_type": "stream",
          "name": "stdout",
          "text": [
            "tf.Tensor(\n",
            "[[[[1 1 1 1 1]\n",
            "   [1 1 1 1 1]\n",
            "   [1 1 1 1 1]\n",
            "   [1 1 1 1 1]]\n",
            "\n",
            "  [[1 1 1 1 1]\n",
            "   [1 1 1 1 1]\n",
            "   [1 1 1 1 1]\n",
            "   [1 1 1 1 1]]\n",
            "\n",
            "  [[1 1 1 1 1]\n",
            "   [1 1 1 1 1]\n",
            "   [1 1 1 1 1]\n",
            "   [1 1 1 1 1]]]\n",
            "\n",
            "\n",
            " [[[1 1 1 1 1]\n",
            "   [1 1 1 1 1]\n",
            "   [1 1 1 1 1]\n",
            "   [1 1 1 1 1]]\n",
            "\n",
            "  [[1 1 1 1 1]\n",
            "   [1 1 1 1 1]\n",
            "   [1 1 1 1 1]\n",
            "   [1 1 1 1 1]]\n",
            "\n",
            "  [[1 1 1 1 1]\n",
            "   [1 1 1 1 1]\n",
            "   [1 1 1 1 1]\n",
            "   [1 1 1 1 1]]]], shape=(2, 3, 4, 5), dtype=int32)\n"
          ]
        }
      ]
    }
  ]
}
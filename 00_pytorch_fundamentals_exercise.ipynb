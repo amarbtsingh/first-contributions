{
  "nbformat": 4,
  "nbformat_minor": 0,
  "metadata": {
    "colab": {
      "provenance": [],
      "toc_visible": true,
      "authorship_tag": "ABX9TyOS5iO0HGTDu3sigWjUIaXd",
      "include_colab_link": true
    },
    "kernelspec": {
      "name": "python3",
      "display_name": "Python 3"
    },
    "language_info": {
      "name": "python"
    }
  },
  "cells": [
    {
      "cell_type": "markdown",
      "metadata": {
        "id": "view-in-github",
        "colab_type": "text"
      },
      "source": [
        "<a href=\"https://colab.research.google.com/github/amarbtsingh/first-contributions/blob/main/00_pytorch_fundamentals_exercise.ipynb\" target=\"_parent\"><img src=\"https://colab.research.google.com/assets/colab-badge.svg\" alt=\"Open In Colab\"/></a>"
      ]
    },
    {
      "cell_type": "markdown",
      "source": [
        "### Exercise 00 - PyTorch fundamentals"
      ],
      "metadata": {
        "id": "v9jG36RSXMHH"
      }
    },
    {
      "cell_type": "markdown",
      "source": [
        "1. Documentation reading - read documentation on following:\n",
        "  * torch.Tensor\n",
        "  * torch.cuda"
      ],
      "metadata": {
        "id": "pqdQFxktYIvQ"
      }
    },
    {
      "cell_type": "markdown",
      "source": [
        "### 2. Create a random tensor with shape (7, 7)."
      ],
      "metadata": {
        "id": "kcAg5sPDsjzR"
      }
    },
    {
      "cell_type": "code",
      "source": [
        "# Import torch\n",
        "import torch\n",
        "\n",
        "# Create random tensor\n",
        "random_tensor = torch.rand(size=[7, 7], dtype=torch.float32)\n",
        "print(random_tensor)"
      ],
      "metadata": {
        "id": "1OyHH6NXXUj_"
      },
      "execution_count": null,
      "outputs": []
    },
    {
      "cell_type": "markdown",
      "source": [
        "###3. Perform a matrix multiplication on the tensor from 2 with another random tensor with shape (1, 7) (hint: you may have to transpose the second tensor)."
      ],
      "metadata": {
        "id": "yRATTLDKs5WM"
      }
    },
    {
      "cell_type": "code",
      "source": [
        "# Create another random tensor\n",
        "second_tensor = torch.rand(size=(1, 7))\n",
        "print(second_tensor)\n",
        "\n",
        "# Perform matrix multiplication\n",
        "result_tensor = random_tensor.matmul(second_tensor.reshape(shape=(7, 1)))\n",
        "print(\"Result tensor: \",result_tensor)"
      ],
      "metadata": {
        "id": "ojZTWZ1yYd_m"
      },
      "execution_count": null,
      "outputs": []
    },
    {
      "cell_type": "markdown",
      "source": [
        "###4. Set the random seed to 0 and do 2 & 3 over again."
      ],
      "metadata": {
        "id": "iNfhy8shtg2G"
      }
    },
    {
      "cell_type": "code",
      "source": [
        "import torch\n",
        "# Set manual seed\n",
        "RANDOM_SEED = 0\n",
        "torch.manual_seed(RANDOM_SEED)\n",
        "\n",
        "# Create two random tensors\n",
        "first_tensor = torch.rand(size=(7, 7))\n",
        "print(\"First tensor:\", first_tensor)\n",
        "\n",
        "second_tensor = torch.rand(size=(1, 7))\n",
        "print(\"Second tensor:\",second_tensor)\n",
        "\n",
        "# Matrix multiply tensors\n",
        "third_tensor = first_tensor.matmul(second_tensor.reshape(shape=(7, 1)))\n",
        "print(\"Third tensor:\", third_tensor)\n"
      ],
      "metadata": {
        "colab": {
          "base_uri": "https://localhost:8080/"
        },
        "id": "ZyMYaKg8aZCJ",
        "outputId": "7961d489-785a-4e96-9fd0-237cd6e4fa06"
      },
      "execution_count": null,
      "outputs": [
        {
          "output_type": "stream",
          "name": "stdout",
          "text": [
            "First tensor: tensor([[0.4963, 0.7682, 0.0885, 0.1320, 0.3074, 0.6341, 0.4901],\n",
            "        [0.8964, 0.4556, 0.6323, 0.3489, 0.4017, 0.0223, 0.1689],\n",
            "        [0.2939, 0.5185, 0.6977, 0.8000, 0.1610, 0.2823, 0.6816],\n",
            "        [0.9152, 0.3971, 0.8742, 0.4194, 0.5529, 0.9527, 0.0362],\n",
            "        [0.1852, 0.3734, 0.3051, 0.9320, 0.1759, 0.2698, 0.1507],\n",
            "        [0.0317, 0.2081, 0.9298, 0.7231, 0.7423, 0.5263, 0.2437],\n",
            "        [0.5846, 0.0332, 0.1387, 0.2422, 0.8155, 0.7932, 0.2783]])\n",
            "Second tensor: tensor([[0.4820, 0.8198, 0.9971, 0.6984, 0.5675, 0.8352, 0.2056]])\n",
            "Third tensor: tensor([[1.8542],\n",
            "        [1.9611],\n",
            "        [2.2884],\n",
            "        [3.0481],\n",
            "        [1.7067],\n",
            "        [2.5290],\n",
            "        [1.7989]])\n"
          ]
        }
      ]
    },
    {
      "cell_type": "markdown",
      "source": [
        "## 5. Speaking of random seeds, we saw how to set it with torch.manual_seed() but is there a GPU equivalent? (hint: you'll need to look into the documentation for torch.cuda for this one)\n",
        "* If there is, set the GPU random seed to 1234."
      ],
      "metadata": {
        "id": "UkhqDkGOeW9W"
      }
    },
    {
      "cell_type": "code",
      "source": [
        "import torch\n",
        "\n",
        "# Set random seed value\n",
        "RANDOM_SEED = 1234\n",
        "torch.cuda.manual_seed(RANDOM_SEED)\n",
        "\n",
        "torch.cuda.initial_seed()"
      ],
      "metadata": {
        "colab": {
          "base_uri": "https://localhost:8080/"
        },
        "id": "V-nWxTZeeg0p",
        "outputId": "c1739008-82b7-4470-da18-937c88599ddc"
      },
      "execution_count": null,
      "outputs": [
        {
          "output_type": "execute_result",
          "data": {
            "text/plain": [
              "1234"
            ]
          },
          "metadata": {},
          "execution_count": 1
        }
      ]
    },
    {
      "cell_type": "markdown",
      "source": [
        "## 6. Create two random tensors of shape (2, 3) and send them both to the GPU (you'll need access to a GPU for this). Set `torch.manual_seed(1234)` when creating the tensors (this doesn't have to be the GPU random seed). The output should be something like:\n",
        "`Device: cuda`\n",
        "`(tensor([[0.0290, 0.4019, 0.2598],\n",
        "         [0.3666, 0.0583, 0.7006]], device='cuda:0'),`\n",
        " `tensor([[0.0518, 0.4681, 0.6738],\n",
        "         [0.3315, 0.7837, 0.5631]], device='cuda:0'))`"
      ],
      "metadata": {
        "id": "taysvqu3fzUq"
      }
    },
    {
      "cell_type": "code",
      "source": [
        "# Creating a random tensor on cpu\n",
        "import torch\n",
        "\n",
        "# Set random seed\n",
        "RANDOM_SEED = 1234\n",
        "torch.manual_seed(RANDOM_SEED)\n",
        "\n",
        "rand_tensor_1 = torch.rand(size=(2, 3), device=\"cpu\")\n",
        "rand_tensor_2 = torch.rand(size=(2, 3), device=\"cpu\")\n",
        "\n",
        "print(\"Tensor1:\", rand_tensor_1,\"\\n\",\"Tensor2:\",rand_tensor_2)\n",
        "\n",
        "# Check if GPU is available\n",
        "device = \"cuda\" if torch.cuda.is_available() else \"cpu\"\n",
        "\n",
        "if device == \"cuda\":\n",
        "  rand_tensor_1 = rand_tensor_1.to(device=device)\n",
        "  rand_tensor_2 = rand_tensor_2.to(device=device)\n",
        "\n",
        "print(\"Tensor 1 device -\", rand_tensor_1.device)\n",
        "print(\"Tensor 2 device -\", rand_tensor_2.device)"
      ],
      "metadata": {
        "colab": {
          "base_uri": "https://localhost:8080/"
        },
        "id": "MQINgZ4DgDDN",
        "outputId": "688ee0af-164b-4efc-8c5d-ecc50fdd637b"
      },
      "execution_count": null,
      "outputs": [
        {
          "output_type": "stream",
          "name": "stdout",
          "text": [
            "Tensor1: tensor([[0.0290, 0.4019, 0.2598],\n",
            "        [0.3666, 0.0583, 0.7006]]) \n",
            " Tensor2: tensor([[0.0518, 0.4681, 0.6738],\n",
            "        [0.3315, 0.7837, 0.5631]])\n",
            "Tensor 1 device - cuda:0\n",
            "Tensor 2 device - cuda:0\n"
          ]
        }
      ]
    },
    {
      "cell_type": "markdown",
      "source": [
        "## Perform a matrix multiplication on the tensors you created in 6 (again, you may have to adjust the shapes of one of the tensors).\n",
        "\n",
        "`The output should look like:`\n",
        "\n",
        "`(tensor([[0.3647, 0.4709],`\n",
        "         `[0.5184, 0.5617]], device='cuda:0'), torch.Size([2, 2]))`"
      ],
      "metadata": {
        "id": "_i75k5zbk47W"
      }
    },
    {
      "cell_type": "code",
      "source": [
        "# Multiplying two tensors\n",
        "\n",
        "result_tensor = rand_tensor_1.matmul(rand_tensor_2.reshape(shape=(3, 2)))\n",
        "print(result_tensor)"
      ],
      "metadata": {
        "colab": {
          "base_uri": "https://localhost:8080/"
        },
        "id": "54wDEtWYmy7x",
        "outputId": "61fd2e0f-bea5-41cd-f863-333d9707e983"
      },
      "execution_count": null,
      "outputs": [
        {
          "output_type": "stream",
          "name": "stdout",
          "text": [
            "tensor([[0.4759, 0.2931],\n",
            "        [0.6074, 0.5855]], device='cuda:0')\n"
          ]
        }
      ]
    },
    {
      "cell_type": "markdown",
      "source": [
        "## 7. Find the maximum and minimum values of the output of 7."
      ],
      "metadata": {
        "id": "1bjH46Lhnu7b"
      }
    },
    {
      "cell_type": "code",
      "source": [
        "print(\"Max:\", result_tensor.max())\n",
        "print(\"Min:\", result_tensor.min())"
      ],
      "metadata": {
        "colab": {
          "base_uri": "https://localhost:8080/"
        },
        "id": "gMxCW17Ynxd0",
        "outputId": "44337339-9df3-4d88-8b98-811a1dd2e250"
      },
      "execution_count": null,
      "outputs": [
        {
          "output_type": "stream",
          "name": "stdout",
          "text": [
            "Max: tensor(0.6074, device='cuda:0')\n",
            "Min: tensor(0.2931, device='cuda:0')\n"
          ]
        }
      ]
    },
    {
      "cell_type": "markdown",
      "source": [
        "## 9. Find the maximum and minimum index values of the output of 7."
      ],
      "metadata": {
        "id": "DVYJ5uCXojZ4"
      }
    },
    {
      "cell_type": "code",
      "source": [
        "# Find arg max\n",
        "index = torch.argmax(result_tensor)\n",
        "print(\"Index of max - \", index)\n",
        "\n",
        "# Find arg min\n",
        "index = torch.argmin(result_tensor)\n",
        "print(\"Index of min - \", index)"
      ],
      "metadata": {
        "colab": {
          "base_uri": "https://localhost:8080/"
        },
        "id": "ztiSusYRomQa",
        "outputId": "37d98b2e-aee8-4062-9983-535ec6182054"
      },
      "execution_count": null,
      "outputs": [
        {
          "output_type": "stream",
          "name": "stdout",
          "text": [
            "Index of max -  tensor(2, device='cuda:0')\n",
            "Index of min -  tensor(1, device='cuda:0')\n"
          ]
        }
      ]
    },
    {
      "cell_type": "markdown",
      "source": [
        "## 10. Make a random tensor with shape (1, 1, 1, 10) and then create a new tensor with all the 1 dimensions removed to be left with a tensor of shape (10). Set the seed to 7 when you create it and print out the first tensor and it's shape as well as the second tensor and it's shape.\n",
        "`The output should look like:`\n",
        "\n",
        "`tensor([[[[0.5349, 0.1988, 0.6592, 0.6569, 0.2328, 0.4251, 0.2071, 0.6297,`\n",
        "           `0.3653, 0.8513]]]]) torch.Size([1, 1, 1, 10])`\n",
        "`tensor([0.5349, 0.1988, 0.6592, 0.6569, 0.2328, 0.4251, 0.2071, 0.6297, 0.3653,`\n",
        "        `0.8513]) torch.Size([10])`"
      ],
      "metadata": {
        "id": "gIuUDA9-qmU2"
      }
    },
    {
      "cell_type": "code",
      "source": [
        "import torch\n",
        "# Set seed\n",
        "RANDOM_SEED = 7\n",
        "torch.manual_seed(RANDOM_SEED)\n",
        "\n",
        "\n",
        "# Create random tensor\n",
        "rand_tensor = torch.rand(size=(1, 1, 1, 10))\n",
        "\n",
        "# Remove single dimensions\n",
        "second_tensor = torch.squeeze(rand_tensor)\n",
        "\n",
        "# Print out tensors and their shapes\n",
        "print(\"First tensor: \", rand_tensor, \"Shape-\", rand_tensor.shape,\"\\n\")\n",
        "print(\"Second tensor: \", second_tensor, \"Shape-\", second_tensor.shape)"
      ],
      "metadata": {
        "colab": {
          "base_uri": "https://localhost:8080/"
        },
        "id": "x5GWNlAeqw-J",
        "outputId": "7edd3e22-a785-490e-fe02-91af8095d60b"
      },
      "execution_count": null,
      "outputs": [
        {
          "output_type": "stream",
          "name": "stdout",
          "text": [
            "First tensor:  tensor([[[[0.5349, 0.1988, 0.6592, 0.6569, 0.2328, 0.4251, 0.2071, 0.6297,\n",
            "           0.3653, 0.8513]]]]) Shape- torch.Size([1, 1, 1, 10]) \n",
            "\n",
            "Second tensor:  tensor([0.5349, 0.1988, 0.6592, 0.6569, 0.2328, 0.4251, 0.2071, 0.6297, 0.3653,\n",
            "        0.8513]) Shape- torch.Size([10])\n"
          ]
        }
      ]
    }
  ]
}